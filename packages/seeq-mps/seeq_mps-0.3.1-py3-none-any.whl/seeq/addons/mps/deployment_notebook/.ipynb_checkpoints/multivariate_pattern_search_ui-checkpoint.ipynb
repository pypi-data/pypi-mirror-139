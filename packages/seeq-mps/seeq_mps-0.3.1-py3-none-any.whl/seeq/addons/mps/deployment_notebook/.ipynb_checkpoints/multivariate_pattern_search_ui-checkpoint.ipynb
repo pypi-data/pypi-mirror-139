{
 "cells": [
  {
   "cell_type": "code",
   "execution_count": 6,
   "id": "a2fd5269",
   "metadata": {
    "hidePrompt": true
   },
   "outputs": [
    {
     "data": {
      "application/vnd.jupyter.widget-view+json": {
       "model_id": "e9b7d3a9e63d4fa5803843915389dae2",
       "version_major": 2,
       "version_minor": 0
      },
      "text/plain": [
       "VBox(children=(HBox(children=(Label(value='Multivariate Pattern Search'),)), Text(value='1S1im1ilarity Search …"
      ]
     },
     "metadata": {},
     "output_type": "display_data"
    }
   ],
   "source": [
    "import warnings\n",
    "warnings.simplefilter(action='ignore', category=FutureWarning)\n",
    "warnings.simplefilter(action='ignore', category=UserWarning)\n",
    "warnings.simplefilter(action='ignore', category=RuntimeWarning)\n",
    "\n",
    "from seeq.addons.mps import _mps_sdl_ui\n",
    "from seeq import spy\n",
    "from requests.utils import urlparse\n",
    "\n",
    "parsed_url = urlparse(jupyter_notebook_url)\n",
    "\n",
    "try:\n",
    "    workbook_ID = [uuid for uuid in parsed_url.query.split('&') if 'workbook' in uuid][0].strip('workbookId=')\n",
    "    worksheet_ID = [uuid for uuid in parsed_url.query.split('&') if 'worksheet' in uuid][0].strip('worksheetId=')[:36]\n",
    "    server = 'https://' + str(parsed_url.netloc) + '/'\n",
    "except IndexError:\n",
    "    workbook_ID = None\n",
    "    worksheet_ID = None\n",
    "    server = None\n",
    "\n",
    "display_ui = _mps_sdl_ui.mps_ui(server, workbook_ID,worksheet_ID)\n",
    "\n",
    "display(display_ui)"
   ]
  },
  {
   "cell_type": "code",
   "execution_count": null,
   "id": "f8658653",
   "metadata": {},
   "outputs": [],
   "source": []
  },
  {
   "cell_type": "code",
   "execution_count": null,
   "id": "cd1b8107",
   "metadata": {},
   "outputs": [],
   "source": []
  },
  {
   "cell_type": "code",
   "execution_count": null,
   "id": "6a560822",
   "metadata": {},
   "outputs": [],
   "source": []
  },
  {
   "cell_type": "code",
   "execution_count": null,
   "id": "00dcfdbf",
   "metadata": {},
   "outputs": [],
   "source": []
  },
  {
   "cell_type": "code",
   "execution_count": null,
   "id": "a292656e",
   "metadata": {},
   "outputs": [],
   "source": []
  },
  {
   "cell_type": "code",
   "execution_count": null,
   "id": "824109cf",
   "metadata": {},
   "outputs": [],
   "source": []
  },
  {
   "cell_type": "code",
   "execution_count": null,
   "id": "aaa63470",
   "metadata": {},
   "outputs": [],
   "source": []
  },
  {
   "cell_type": "code",
   "execution_count": null,
   "id": "290edf4c",
   "metadata": {},
   "outputs": [],
   "source": []
  },
  {
   "cell_type": "code",
   "execution_count": null,
   "id": "d6fc2b56",
   "metadata": {},
   "outputs": [],
   "source": []
  }
 ],
 "metadata": {
  "kernelspec": {
   "display_name": "Python 3",
   "language": "python",
   "name": "python3"
  },
  "language_info": {
   "codemirror_mode": {
    "name": "ipython",
    "version": 3
   },
   "file_extension": ".py",
   "mimetype": "text/x-python",
   "name": "python",
   "nbconvert_exporter": "python",
   "pygments_lexer": "ipython3",
   "version": "3.7.3"
  }
 },
 "nbformat": 4,
 "nbformat_minor": 5
}
