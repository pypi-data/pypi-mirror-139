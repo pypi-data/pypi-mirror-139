{
 "cells": [
  {
   "cell_type": "code",
   "execution_count": 2,
   "id": "636fbe27",
   "metadata": {},
   "outputs": [],
   "source": [
    "from FrozenYoghourt import *\n",
    "from FrozenYoghourt.mode import *\n",
    "from FrozenYoghourt.gates import *\n",
    "from FrozenYoghourt.maths import *\n",
    "from FrozenYoghourt.quantum import *"
   ]
  },
  {
   "cell_type": "code",
   "execution_count": 25,
   "id": "7f18a933",
   "metadata": {},
   "outputs": [
    {
     "name": "stdout",
     "output_type": "stream",
     "text": [
      "\u001b[1;34mSYMPY \u001b[1;32mactivated\n"
     ]
    }
   ],
   "source": [
    "Mode.toggle()"
   ]
  },
  {
   "cell_type": "code",
   "execution_count": 5,
   "id": "ade6cffb",
   "metadata": {},
   "outputs": [],
   "source": [
    "import matplotlib.pyplot as plt"
   ]
  },
  {
   "cell_type": "code",
   "execution_count": 8,
   "id": "6223d7b9",
   "metadata": {},
   "outputs": [],
   "source": [
    "plt.scatter?"
   ]
  },
  {
   "cell_type": "code",
   "execution_count": null,
   "id": "dd4d2851",
   "metadata": {},
   "outputs": [],
   "source": []
  },
  {
   "cell_type": "code",
   "execution_count": 10,
   "id": "c04a3a42",
   "metadata": {},
   "outputs": [
    {
     "ename": "SyntaxError",
     "evalue": "invalid syntax (<ipython-input-10-176484ebb6f7>, line 1)",
     "output_type": "error",
     "traceback": [
      "\u001b[0;36m  File \u001b[0;32m\"<ipython-input-10-176484ebb6f7>\"\u001b[0;36m, line \u001b[0;32m1\u001b[0m\n\u001b[0;31m    def scatter(functions, lb = 0, ub = 2*np.pi, data_points = 100, point_size = 2, colors = 'blue')\u001b[0m\n\u001b[0m                                                                                                    ^\u001b[0m\n\u001b[0;31mSyntaxError\u001b[0m\u001b[0;31m:\u001b[0m invalid syntax\n"
     ]
    }
   ],
   "source": [
    "def scatter(functions, lb = 0, ub = 2*np.pi, data_points = 100, point_size = 2, \n",
    "            colors = 'blue', title = '', xtitle = '', ytitle = '')"
   ]
  },
  {
   "cell_type": "code",
   "execution_count": 61,
   "id": "e4c6f66c",
   "metadata": {},
   "outputs": [
    {
     "data": {
      "text/plain": [
       "function"
      ]
     },
     "execution_count": 61,
     "metadata": {},
     "output_type": "execute_result"
    }
   ],
   "source": [
    "type(lambda x: x)dd"
   ]
  },
  {
   "cell_type": "code",
   "execution_count": 66,
   "id": "9ca4a1ee",
   "metadata": {},
   "outputs": [],
   "source": [
    "def scatter(f, lb = 0, ub = 2*np.pi, data_points = 100, point_size = 2, title = '', \n",
    "            xlabel = '', ylabel = '', xscale = 'linear', yscale = 'linear', legend_list = []):\n",
    "    \n",
    "    domain = np.linspace(lb, ub, data_points)\n",
    "    fig, ax = plt.subplots()\n",
    "    ax.set_title(title)\n",
    "    ax.set_xlabel(xlabel); ax.set_ylabel(ylabel)\n",
    "    ax.set_xscale(xscale); ax.set_yscale(yscale)\n",
    "\n",
    "    if (type(f) == list) or (type(f) == tuple):\n",
    "        codomain_list = [g(domain) for g in f]\n",
    "        for index, codomain in enumerate(codomain_list):\n",
    "            ax.scatter(domain, codomain, s = point_size)\n",
    "\n",
    "        if legend_list == []:\n",
    "            legend_list = [f'Function {i}' for i in range(1, len(f)+1)]\n",
    "        ax.legend(legend_list)\n",
    "\n",
    "    else:\n",
    "        codomain = f(domain)\n",
    "        ax.scatter(domain, codomain, s = point_size)\n",
    "        ax.legend(legend_list)\n",
    "        \n",
    "    return fig, ax"
   ]
  },
  {
   "cell_type": "code",
   "execution_count": 67,
   "id": "df914e45",
   "metadata": {},
   "outputs": [
    {
     "data": {
      "image/png": "[encoded data removed]",
      "text/plain": [
       "<Figure size 432x288 with 1 Axes>"
      ]
     },
     "metadata": {
      "needs_background": "light"
     },
     "output_type": "display_data"
    }
   ],
   "source": [
    "fig, ax = scatter(lambda x: x**2)"
   ]
  },
  {
   "cell_type": "code",
   "execution_count": 72,
   "id": "1d237b3c",
   "metadata": {},
   "outputs": [
    {
     "data": {
      "text/plain": [
       "matplotlib.figure.Figure"
      ]
     },
     "execution_count": 72,
     "metadata": {},
     "output_type": "execute_result"
    }
   ],
   "source": [
    "type(fig)"
   ]
  },
  {
   "cell_type": "code",
   "execution_count": 73,
   "id": "8cb12f1e",
   "metadata": {},
   "outputs": [
    {
     "data": {
      "text/plain": [
       "matplotlib.axes._subplots.AxesSubplot"
      ]
     },
     "execution_count": 73,
     "metadata": {},
     "output_type": "execute_result"
    }
   ],
   "source": [
    "type(ax)"
   ]
  },
  {
   "cell_type": "code",
   "execution_count": 76,
   "id": "14d5cae6",
   "metadata": {},
   "outputs": [
    {
     "name": "stdout",
     "output_type": "stream",
     "text": [
      "\u001b[1;34mSYMPY \u001b[1;32mactivated\n"
     ]
    }
   ],
   "source": [
    "Mode.toggle()"
   ]
  },
  {
   "cell_type": "code",
   "execution_count": 77,
   "id": "68411583",
   "metadata": {},
   "outputs": [
    {
     "data": {
      "text/plain": [
       "sympy.matrices.dense.MutableDenseMatrix"
      ]
     },
     "execution_count": 77,
     "metadata": {},
     "output_type": "execute_result"
    }
   ],
   "source": [
    "type(X())"
   ]
  },
  {
   "cell_type": "code",
   "execution_count": 52,
   "id": "c19ac2b1",
   "metadata": {},
   "outputs": [
    {
     "data": {
      "image/png": "[encoded data removed]",
      "text/plain": [
       "<Figure size 432x288 with 1 Axes>"
      ]
     },
     "metadata": {
      "needs_background": "light"
     },
     "output_type": "display_data"
    }
   ],
   "source": [
    "f = [lambda x: x**2, lambda x: x**3]\n",
    "f = lambda x: x**2\n",
    "\n",
    "lb = 0\n",
    "ub = 2*np.pi\n",
    "data_points = 100\n",
    "point_size = 2\n",
    "title = 'a'\n",
    "xlabel = 'hello'\n",
    "ylabel = 'b'\n",
    "xscale = 'linear'\n",
    "yscale = 'linear'\n",
    "legend_list = [] #['Quadratic', 'Cubic']"
   ]
  },
  {
   "cell_type": "code",
   "execution_count": null,
   "id": "a7f5e51b",
   "metadata": {},
   "outputs": [],
   "source": []
  }
 ],
 "metadata": {
  "kernelspec": {
   "display_name": "Python 3",
   "language": "python",
   "name": "python3"
  },
  "language_info": {
   "codemirror_mode": {
    "name": "ipython",
    "version": 3
   },
   "file_extension": ".py",
   "mimetype": "text/x-python",
   "name": "python",
   "nbconvert_exporter": "python",
   "pygments_lexer": "ipython3",
   "version": "3.8.8"
  }
 },
 "nbformat": 4,
 "nbformat_minor": 5
}
