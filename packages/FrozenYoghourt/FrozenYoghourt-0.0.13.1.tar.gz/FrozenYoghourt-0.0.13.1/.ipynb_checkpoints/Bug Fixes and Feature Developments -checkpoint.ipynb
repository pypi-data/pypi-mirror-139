{
 "cells": [
  {
   "cell_type": "code",
   "execution_count": 2,
   "id": "636fbe27",
   "metadata": {},
   "outputs": [],
   "source": [
    "from FrozenYoghourt import *\n",
    "from FrozenYoghourt.mode import *\n",
    "from FrozenYoghourt.gates import *\n",
    "from FrozenYoghourt.maths import *\n",
    "from FrozenYoghourt.quantum import *"
   ]
  },
  {
   "cell_type": "code",
   "execution_count": 31,
   "id": "8a91972a",
   "metadata": {},
   "outputs": [],
   "source": [
    "def fast_substitution(matrix:Matrix, variables, values, to_numpy=False):\n",
    "    if (type(variables) == list) or (type(variables) == tuple):\n",
    "        substituted_matrix = matrix.subs(list(zip(variables, values)))\n",
    "    else:\n",
    "        substituted_matrix = matrix.subs(variables, values)\n",
    "        \n",
    "    if to_numpy:\n",
    "        return np.array(substituted_matrix).astype(complex)\n",
    "    else:\n",
    "        return substituted_matrix.evalf()"
   ]
  },
  {
   "cell_type": "code",
   "execution_count": null,
   "id": "79990d7a",
   "metadata": {},
   "outputs": [],
   "source": [
    "def u2(theta = None, phi = None, lam = None, unimodular = False, index = ''):\n",
    "    \n",
    "    if Mode.representation == 'numpy':\n",
    "        if unimodular: \n",
    "            return to_su(random_unitary(2).data)\n",
    "        else: \n",
    "            return random_unitary(2).data\n",
    "    else:\n",
    "        if theta is None:\n",
    "            theta, phi, lam = symbols(f'theta_{index}, phi_{index}, lambda_{index}', real = True)\n",
    "        if unimodular:\n",
    "            return Matrix([[exp(I*phi)*cos(theta / 2), -exp(I * -lam) * sin(theta / 2)],\n",
    "                                          [exp(I * lam) * sin(theta / 2), exp(I * (-phi)) * cos(theta / 2)]])\n",
    "        else:\n",
    "            return Matrix([[cos(theta / 2), -exp(I * lam) * sin(theta / 2)],\n",
    "                                           [exp(I * phi) * sin(theta / 2), exp(I * (phi + lam)) * cos(theta / 2)]])"
   ]
  },
  {
   "cell_type": "code",
   "execution_count": 25,
   "id": "0d7b6ece",
   "metadata": {},
   "outputs": [
    {
     "name": "stdout",
     "output_type": "stream",
     "text": [
      "\u001b[1;34mSYMPY \u001b[1;32mactivated\n"
     ]
    }
   ],
   "source": [
    "Mode.toggle()"
   ]
  },
  {
   "cell_type": "code",
   "execution_count": 16,
   "id": "d85b58ef",
   "metadata": {},
   "outputs": [
    {
     "ename": "TypeError",
     "evalue": "'Symbol' object is not iterable",
     "output_type": "error",
     "traceback": [
      "\u001b[0;31m---------------------------------------------------------------------------\u001b[0m",
      "\u001b[0;31mTypeError\u001b[0m                                 Traceback (most recent call last)",
      "\u001b[0;32m<ipython-input-16-81c4b70e6041>\u001b[0m in \u001b[0;36m<module>\u001b[0;34m\u001b[0m\n\u001b[1;32m      1\u001b[0m \u001b[0mvariables\u001b[0m \u001b[0;34m=\u001b[0m \u001b[0mtheta\u001b[0m\u001b[0;34m\u001b[0m\u001b[0;34m\u001b[0m\u001b[0m\n\u001b[1;32m      2\u001b[0m \u001b[0mvalues\u001b[0m \u001b[0;34m=\u001b[0m \u001b[0;36m4\u001b[0m\u001b[0;34m\u001b[0m\u001b[0;34m\u001b[0m\u001b[0m\n\u001b[0;32m----> 3\u001b[0;31m \u001b[0mlist\u001b[0m\u001b[0;34m(\u001b[0m\u001b[0mzip\u001b[0m\u001b[0;34m(\u001b[0m\u001b[0mlist\u001b[0m\u001b[0;34m(\u001b[0m\u001b[0mvariables\u001b[0m\u001b[0;34m)\u001b[0m\u001b[0;34m,\u001b[0m \u001b[0mlist\u001b[0m\u001b[0;34m(\u001b[0m\u001b[0mvalues\u001b[0m\u001b[0;34m)\u001b[0m\u001b[0;34m)\u001b[0m\u001b[0;34m)\u001b[0m\u001b[0;34m\u001b[0m\u001b[0;34m\u001b[0m\u001b[0m\n\u001b[0m",
      "\u001b[0;31mTypeError\u001b[0m: 'Symbol' object is not iterable"
     ]
    }
   ],
   "source": [
    "variables = theta\n",
    "values = 4\n",
    "list(zip(list(variables), list(values)))"
   ]
  }
 ],
 "metadata": {
  "kernelspec": {
   "display_name": "Python 3",
   "language": "python",
   "name": "python3"
  },
  "language_info": {
   "codemirror_mode": {
    "name": "ipython",
    "version": 3
   },
   "file_extension": ".py",
   "mimetype": "text/x-python",
   "name": "python",
   "nbconvert_exporter": "python",
   "pygments_lexer": "ipython3",
   "version": "3.8.8"
  }
 },
 "nbformat": 4,
 "nbformat_minor": 5
}
