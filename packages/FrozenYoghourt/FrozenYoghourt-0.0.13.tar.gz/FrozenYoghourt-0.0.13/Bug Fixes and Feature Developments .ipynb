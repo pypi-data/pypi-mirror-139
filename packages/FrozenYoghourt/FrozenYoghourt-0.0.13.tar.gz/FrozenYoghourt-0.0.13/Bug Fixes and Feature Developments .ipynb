{
 "cells": [
  {
   "cell_type": "code",
   "execution_count": 2,
   "id": "636fbe27",
   "metadata": {},
   "outputs": [],
   "source": [
    "from FrozenYoghourt import *\n",
    "from FrozenYoghourt.mode import *\n",
    "from FrozenYoghourt.gates import *\n",
    "from FrozenYoghourt.maths import *\n",
    "from FrozenYoghourt.quantum import *"
   ]
  },
  {
   "cell_type": "code",
   "execution_count": 9,
   "id": "f257ad45",
   "metadata": {},
   "outputs": [
    {
     "name": "stdout",
     "output_type": "stream",
     "text": [
      "\u001b[1;34mSYMPY \u001b[1;30mis\u001b[1;30m \u001b[1;32mon\n"
     ]
    }
   ],
   "source": [
    "Mode.now()"
   ]
  },
  {
   "cell_type": "code",
   "execution_count": 48,
   "id": "9c2c6a4c",
   "metadata": {},
   "outputs": [],
   "source": [
    "def dagger(u:Union[np.ndarray, List[np.ndarray], MutableDenseMatrix, List[MutableDenseMatrix]]):\n",
    "    if Mode.representation == 'numpy':\n",
    "        if type(u) == list:\n",
    "            dagger_list = [np.conj(mat.T) for mat in u]\n",
    "            return dagger_list\n",
    "        else:\n",
    "            return np.conj(u.T)\n",
    "    else:\n",
    "        if type(u) == list:\n",
    "            dagger_list = [mat.T.conjugate() for mat in u]\n",
    "            return dagger_list\n",
    "        else:\n",
    "            return u.T.conjugate()"
   ]
  },
  {
   "cell_type": "code",
   "execution_count": 87,
   "id": "1187de39",
   "metadata": {},
   "outputs": [],
   "source": [
    "def dagger(*u:Union[Tuple[np.ndarray], Tuple[MutableDenseMatrix]]):\n",
    "    if Mode.representation == 'numpy':\n",
    "        if len(u) == 1:\n",
    "            return np.conj(u[0].T)\n",
    "        else:\n",
    "            dagger_list = [np.conj(mat.T) for mat in u]\n",
    "            return dagger_list\n",
    "    else:\n",
    "        if len(u) == 1:\n",
    "            return u[0].T.conjugate()\n",
    "        else:\n",
    "            dagger_list = [mat.T.conjugate() for mat in u]\n",
    "            return dagger_list"
   ]
  },
  {
   "cell_type": "code",
   "execution_count": 104,
   "id": "1743d2f2",
   "metadata": {},
   "outputs": [],
   "source": [
    "def to_su(*u:Union[Tuple[np.ndarray], Tuple[MutableDenseMatrix]]):\n",
    "    if Mode.representation == 'numpy':\n",
    "        if len(u) == 1:\n",
    "            return u[0] * complex(np.linalg.det(u[0])) ** (-1 / np.shape(u[0])[0])\n",
    "        else:\n",
    "            to_su_list = [mat * complex(np.linalg.det(mat)) ** (-1 / np.shape(mat)[0]) for mat in u]\n",
    "            return to_su_list\n",
    "    else:\n",
    "        if len(u) == 1:\n",
    "            return u[0] * complex(u[0].det()) ** (-1 / u[0].shape[0])\n",
    "        else:\n",
    "            to_su_list = [mat * complex(mat.det()) ** (-1 / mat.shape[0]) for mat in u]\n",
    "            return to_su_list"
   ]
  },
  {
   "cell_type": "code",
   "execution_count": 107,
   "id": "4efa942d",
   "metadata": {},
   "outputs": [
    {
     "name": "stdout",
     "output_type": "stream",
     "text": [
      "\u001b[1;34mNUMPY \u001b[1;32mactivated\n"
     ]
    }
   ],
   "source": [
    "Mode.toggle()"
   ]
  },
  {
   "cell_type": "code",
   "execution_count": 108,
   "id": "9ae7c8c3",
   "metadata": {},
   "outputs": [],
   "source": [
    "a= to_su(Rx(3))"
   ]
  },
  {
   "cell_type": "code",
   "execution_count": 109,
   "id": "09baa131",
   "metadata": {},
   "outputs": [
    {
     "data": {
      "text/plain": [
       "array([[0.0707372+0.j        , 0.       -0.99749499j],\n",
       "       [0.       -0.99749499j, 0.0707372+0.j        ]])"
      ]
     },
     "execution_count": 109,
     "metadata": {},
     "output_type": "execute_result"
    }
   ],
   "source": [
    "a"
   ]
  }
 ],
 "metadata": {
  "kernelspec": {
   "display_name": "Python 3",
   "language": "python",
   "name": "python3"
  },
  "language_info": {
   "codemirror_mode": {
    "name": "ipython",
    "version": 3
   },
   "file_extension": ".py",
   "mimetype": "text/x-python",
   "name": "python",
   "nbconvert_exporter": "python",
   "pygments_lexer": "ipython3",
   "version": "3.8.8"
  }
 },
 "nbformat": 4,
 "nbformat_minor": 5
}
