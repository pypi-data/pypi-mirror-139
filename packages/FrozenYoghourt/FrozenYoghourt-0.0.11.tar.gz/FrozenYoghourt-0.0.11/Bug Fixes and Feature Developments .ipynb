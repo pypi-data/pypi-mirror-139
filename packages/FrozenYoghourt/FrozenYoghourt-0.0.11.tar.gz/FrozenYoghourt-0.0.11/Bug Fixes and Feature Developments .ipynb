{
 "cells": [
  {
   "cell_type": "code",
   "execution_count": 116,
   "id": "8c34ddbc",
   "metadata": {},
   "outputs": [],
   "source": [
    "from FrozenYoghourt.mode import Mode as r\n",
    "from FrozenYoghourt.gates import Gates as g\n",
    "from FrozenYoghourt.maths import Maths as m\n",
    "from FrozenYoghourt.quantum import Quantum as q"
   ]
  },
  {
   "cell_type": "code",
   "execution_count": 117,
   "id": "d175b617",
   "metadata": {},
   "outputs": [],
   "source": [
    "from typing import *"
   ]
  }
 ],
 "metadata": {
  "kernelspec": {
   "display_name": "Python 3",
   "language": "python",
   "name": "python3"
  },
  "language_info": {
   "codemirror_mode": {
    "name": "ipython",
    "version": 3
   },
   "file_extension": ".py",
   "mimetype": "text/x-python",
   "name": "python",
   "nbconvert_exporter": "python",
   "pygments_lexer": "ipython3",
   "version": "3.8.8"
  }
 },
 "nbformat": 4,
 "nbformat_minor": 5
}
