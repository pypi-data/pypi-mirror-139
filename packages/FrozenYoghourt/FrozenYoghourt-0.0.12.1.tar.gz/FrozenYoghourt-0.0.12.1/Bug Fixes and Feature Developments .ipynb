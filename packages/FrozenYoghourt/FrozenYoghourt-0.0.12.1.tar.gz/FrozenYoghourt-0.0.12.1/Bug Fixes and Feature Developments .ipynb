{
 "cells": [
  {
   "cell_type": "code",
   "execution_count": 1,
   "id": "47d10cfe",
   "metadata": {},
   "outputs": [],
   "source": [
    "from FrozenYoghourt import *"
   ]
  },
  {
   "cell_type": "code",
   "execution_count": 9,
   "id": "92b5f7da",
   "metadata": {},
   "outputs": [],
   "source": [
    "Mode.toggle??"
   ]
  },
  {
   "cell_type": "code",
   "execution_count": 3,
   "id": "636fbe27",
   "metadata": {},
   "outputs": [],
   "source": [
    "from FrozenYoghourt import *\n",
    "from FrozenYoghourt.mode import *\n",
    "from FrozenYoghourt.gates import *\n",
    "from FrozenYoghourt.maths import *\n",
    "from FrozenYoghourt.quantum import *"
   ]
  },
  {
   "cell_type": "code",
   "execution_count": 127,
   "id": "a7c351f5",
   "metadata": {},
   "outputs": [],
   "source": [
    "class Mode:\n",
    "    \n",
    "    representation = 'numpy'\n",
    "    \n",
    "    @classmethod\n",
    "    def toggle(cls, specific_mode = None):\n",
    "\n",
    "        if specific_mode is None:\n",
    "            cls.representation = {'numpy': 'sympy',\n",
    "                                  'sympy': 'numpy'}[cls.representation]\n",
    "            print(f'\\033[1;34m{cls.representation.upper()} \\033[1;32mactivated')\n",
    "        else:\n",
    "            cls.representation = {'n': 'numpy', \n",
    "                                  'numpy': 'numpy', \n",
    "                                  's': 'sympy', \n",
    "                                  'sympy':'sympy'}[specific_mode]\n",
    "            print(f'\\033[1;34m{cls.representation.upper()} \\033[1;32mactivated')\n",
    "            \n",
    "    @classmethod\n",
    "    def now(cls):\n",
    "        print(f'\\033[1;34m{cls.representation.upper()} \\033[1;30mis\\033[1;30m \\033[1;32mon')"
   ]
  },
  {
   "cell_type": "code",
   "execution_count": 129,
   "id": "0ab65cab",
   "metadata": {},
   "outputs": [
    {
     "name": "stdout",
     "output_type": "stream",
     "text": [
      "\u001b[1;34mSYMPY \u001b[1;32mactivated\n"
     ]
    }
   ],
   "source": [
    "Mode.toggle()"
   ]
  },
  {
   "cell_type": "code",
   "execution_count": null,
   "id": "3af0c41f",
   "metadata": {},
   "outputs": [],
   "source": []
  }
 ],
 "metadata": {
  "kernelspec": {
   "display_name": "Python 3",
   "language": "python",
   "name": "python3"
  },
  "language_info": {
   "codemirror_mode": {
    "name": "ipython",
    "version": 3
   },
   "file_extension": ".py",
   "mimetype": "text/x-python",
   "name": "python",
   "nbconvert_exporter": "python",
   "pygments_lexer": "ipython3",
   "version": "3.8.8"
  }
 },
 "nbformat": 4,
 "nbformat_minor": 5
}
