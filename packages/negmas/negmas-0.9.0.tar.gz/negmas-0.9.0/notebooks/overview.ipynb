{
 "cells": [
  {
   "cell_type": "code",
   "execution_count": 1,
   "id": "7302e776",
   "metadata": {
    "execution": {
     "iopub.execute_input": "2022-02-16T09:10:06.694537Z",
     "iopub.status.busy": "2022-02-16T09:10:06.693305Z",
     "iopub.status.idle": "2022-02-16T09:10:06.695487Z",
     "shell.execute_reply": "2022-02-16T09:10:06.695942Z"
    },
    "papermill": {
     "duration": 0.117357,
     "end_time": "2022-02-16T09:10:06.696183",
     "exception": false,
     "start_time": "2022-02-16T09:10:06.578826",
     "status": "completed"
    },
    "tags": [
     "remove_cell"
    ]
   },
   "outputs": [],
   "source": [
    "# This is to make the results reproducible if you are using the Jupyter notebook version.\n",
    "from random import seed\n",
    "seed(0)"
   ]
  },
  {
   "cell_type": "markdown",
   "id": "47cec5df",
   "metadata": {
    "collapsed": true,
    "papermill": {
     "duration": 0.079555,
     "end_time": "2022-02-16T09:10:06.848966",
     "exception": false,
     "start_time": "2022-02-16T09:10:06.769411",
     "status": "completed"
    },
    "tags": []
   },
   "source": [
    "# Overview\n",
    "\n",
    "negmas was designed mainly as a research and educational tool with special emphasis on supporting multi-strand multilateral multi-issue negotiations with complex utility\n",
    "functions. This section gives an introduction to the main concepts of the public interface.\n",
    "\n",
    "In order to use the library you will need to import it as follows (assuming that you followed the instructions in the installation section of this document):"
   ]
  },
  {
   "cell_type": "code",
   "execution_count": 2,
   "id": "9ebe4585",
   "metadata": {
    "execution": {
     "iopub.execute_input": "2022-02-16T09:10:07.015966Z",
     "iopub.status.busy": "2022-02-16T09:10:07.014789Z",
     "iopub.status.idle": "2022-02-16T09:10:07.616800Z",
     "shell.execute_reply": "2022-02-16T09:10:07.617262Z"
    },
    "papermill": {
     "duration": 0.698222,
     "end_time": "2022-02-16T09:10:07.617454",
     "exception": false,
     "start_time": "2022-02-16T09:10:06.919232",
     "status": "completed"
    },
    "tags": []
   },
   "outputs": [],
   "source": [
    "import negmas"
   ]
  },
  {
   "cell_type": "markdown",
   "id": "849a5a9a",
   "metadata": {
    "papermill": {
     "duration": 0.144533,
     "end_time": "2022-02-16T09:10:07.841688",
     "exception": false,
     "start_time": "2022-02-16T09:10:07.697155",
     "status": "completed"
    },
    "tags": []
   },
   "source": [
    "To simplify the use of this platform, all classes and functions from all base modules are aliased in the root package (except generics and helpers). This is an example of importing just `Outcome` which is defined in the `outcomes` package"
   ]
  },
  {
   "cell_type": "code",
   "execution_count": 3,
   "id": "6eae0d84",
   "metadata": {
    "execution": {
     "iopub.execute_input": "2022-02-16T09:10:08.105336Z",
     "iopub.status.busy": "2022-02-16T09:10:08.104050Z",
     "iopub.status.idle": "2022-02-16T09:10:08.113245Z",
     "shell.execute_reply": "2022-02-16T09:10:08.114204Z"
    },
    "papermill": {
     "duration": 0.186973,
     "end_time": "2022-02-16T09:10:08.114471",
     "exception": false,
     "start_time": "2022-02-16T09:10:07.927498",
     "status": "completed"
    },
    "tags": []
   },
   "outputs": [],
   "source": [
    "from negmas import Outcome"
   ]
  },
  {
   "cell_type": "markdown",
   "id": "be7f911d",
   "metadata": {
    "papermill": {
     "duration": 0.084298,
     "end_time": "2022-02-16T09:10:08.328187",
     "exception": false,
     "start_time": "2022-02-16T09:10:08.243889",
     "status": "completed"
    },
    "tags": []
   },
   "source": [
    "It is possible *but not recommended* to just import everything in the package using:"
   ]
  },
  {
   "cell_type": "code",
   "execution_count": 4,
   "id": "f563d8e8",
   "metadata": {
    "execution": {
     "iopub.execute_input": "2022-02-16T09:10:08.554868Z",
     "iopub.status.busy": "2022-02-16T09:10:08.551683Z",
     "iopub.status.idle": "2022-02-16T09:10:08.956995Z",
     "shell.execute_reply": "2022-02-16T09:10:08.957456Z"
    },
    "papermill": {
     "duration": 0.545675,
     "end_time": "2022-02-16T09:10:08.957648",
     "exception": false,
     "start_time": "2022-02-16T09:10:08.411973",
     "status": "completed"
    },
    "tags": []
   },
   "outputs": [],
   "source": [
    "from negmas import *"
   ]
  },
  {
   "cell_type": "markdown",
   "id": "d3549d24",
   "metadata": {
    "papermill": {
     "duration": 0.085831,
     "end_time": "2022-02-16T09:10:09.113369",
     "exception": false,
     "start_time": "2022-02-16T09:10:09.027538",
     "status": "completed"
    },
    "tags": []
   },
   "source": [
    "## Organization\n",
    "\n",
    "The package is organized into a set of modules/packages that combine together related functionality. There are base modules, protocol specific modules, advanced and helper modules.\n",
    "\n",
    "* **Base Modules** Implements basic automated negotiation functionality:\n",
    "    1. **outcomes** This module represents issues, outcome and responses and provides basic functions and methods to operator with and on them.\n",
    "    1. **preferences** This modules represents the base type of all preferences and different widely used utility function types including linear and nonlinear utilities and constraint-based utilities. This module also implements basic analysis tools like finding the pareto-frontier, sampling outcomes with given utilities from the outcome space, etc.\n",
    "    1. **negotiators** This module represents basic negotiation agent implementation and provides basic interfaces to be overriden (implemented) by higher specialized modules\n",
    "    1. **mechanisms** This module represents the most basic conceptual view of a negotiation protocol supporting both mediate and unmediated mechanisms. The term `mechanism` was used  instead of the more common `protocol` to stress the fact that this mechanism need not be a standard negotiation protocol. For example auction mechanisms (like second-price auctions) can easily be implemented as a `Mechanism` in negmas.\n",
    "    1. **common** Provides data structures that are used by all modules including mechanism-state, and the agent-mechanism-interface.\n",
    "    1. **genius** Implements a specific type negotiator for the stacked alternating offers protocol called `GeniusNegotiator` which can run `NegotiationParty` based agents from the Java [Genius](http://ii.tudelft.nl/genius/) platform.\n",
    "\n",
    "* **Mechanism Specific Modules** These modules implement the base mechanism, negotiator type(s), state, and related computational resources specific to a single (or a set of related) negotiation/auction protocols\n",
    "    1. **sao** Implements that stacked alternating offers protocol for unmediated multiparty multi-issue negotiations. Other than providing the `SAOMechanism` class representing the protocol, this package provides a set of simple negotiators including the time-based `AspirationNegotiator`, a `SimpleTitForTatNegotiator`, among others.\n",
    "    1. **st** Implements two basic single-text mediated negotiation protocols (veto and hill-climbing) and the basic negotiator types to support them.\n",
    "    1. **mt** Implements and extension of single text mediated protocols to handle multiple *proposed agreements* in parallel.\n",
    "    1. **ga** Implements a Genetic Algorithm based single text mediated negotiation protocol\n",
    "   \n",
    "* **Advanced Negotiation Modules** These modules model advanced negotiation problems and techniques\n",
    "    1. **situated** Implements world simulations within which agents with intrinsic utility functions can engage in simultaneous interconnected situated negotiations. It is the most important module for the goals of this library. The `Agent` and `World` classes described in details later belong to this module\n",
    "    1. **modeling** This is a set of submodules implementing modeling of opponent utility, opponent strategy, opponent's future offers and opponent's probability of accepting offers.\n",
    "    1. **elicitation** Implements several preference elicitation during negotiation methods.\n",
    "    1. **concurrent** Implements mechanism types, and other computational resources to support concurrent negotiation.\n",
    "\n",
    "* **Helper Modules** These modules provide basic activities that is not directly related to the negotiation but that are relied upon by different base modules. The end user is not expected to interact directly with these modules.\n",
    "    * **common** Provides common interfaces that are used by all other modules. \n",
    "    * **helpers** Various helper functions and classes used throughout the library including mixins for logging.\n",
    "    * **inout** Provides functions to load and store XML Genius domains and utility functions.\n",
    "    * **java** \\[Depricated\\] Provides an interface to JNegMAS allowing agents and negotiators to be developed in Java.\n",
    "    * **tournaments** Supports creating and running tournaments to compare agents and negotiators.\n",
    "    * **checkpoints** Supports saving and reloading world simulations to/from secondary storage.\n",
    "    * **visualizers** \\[Under development\\] Supports visualization of world simulation, negotiation sessions, negotiators, and agents.\n",
    "    * **generics** Provides a set of types and interfaces to increase the representation flexibility of different base modules. \n",
    "    "
   ]
  },
  {
   "cell_type": "markdown",
   "id": "f1e3a90f",
   "metadata": {
    "papermill": {
     "duration": 0.130543,
     "end_time": "2022-02-16T09:10:09.394187",
     "exception": false,
     "start_time": "2022-02-16T09:10:09.263644",
     "status": "completed"
    },
    "tags": []
   },
   "source": [
    "## A (not very) brief introduction to NegMAS\n",
    "\n",
    "This figure shows the main active components of a simulation in a NegMAS world:\n",
    "![NegMAS world](figs/world.png)\n",
    "\n",
    "The simulation is run using a **World** object which defines what happens in\n",
    "every simulation **step**, provides a **BulletinBoard** object containing all\n",
    "public information about the game, calls various callbacks defined in the\n",
    "**Agent** object representing each agent in the environment, takes care of\n",
    "running negotiations and keeps track of agreement signing and the resulting\n",
    "**Contract**s.  The **World** object also controls logging, event management,\n",
    "serialization, visualization, etc. Refer to the\n",
    "[World](http://www.yasserm.com/negmas/api/negmas.situated.World.html)\n",
    "documentation for more details (*you need to do that only if you are\n",
    "implementing new world simulations*).\n",
    "\n",
    "The designer of the game implements a **World** class by overriding few\n",
    "abstract methods in the base **World** class. \n",
    "\n",
    "The logic of an agent is NegMAS is implemented in an **Agent** object. The\n",
    "designer of the simulation, should provide a base class for its specific world\n",
    "inherited from NegMAS's **Agent** class. Refer to the\n",
    "[Agent](http://www.yasserm.com/negmas/api/negmas.situated.Agent.html)\n",
    "documentation for more details about general NegMAS agents. \n",
    "\n",
    "So now we have the **World** and the **Agent** objects, and we already said\n",
    "that the agent does not directly interact with the world. How does these two\n",
    "types of entities interact then?\n",
    "\n",
    "- When the **World** wants to interact with the **Agent**, it calls some method\n",
    "  in it. For example, to instruct the agent to *initialize* itself, the world\n",
    "  calls the **init()** method defined by the **Agent**. To inform the agent\n",
    "  that a negotiation it is involved in is concluded with success, the **World**\n",
    "  calls the method **on_negotiation_success()** defined by the agent.\n",
    "- When the **Agent** wants to interact with the **World**, it accesses an\n",
    "  interface object called an **AgentWorldInterface** or **AWI** for short which\n",
    "  provides all the services available to the **Agent**. For example, to request\n",
    "  a negotiation with another agent, the **Agent** object needs to call\n",
    "  **request_negotiation()** defined in the **AWI**.\n",
    "\n",
    "The world designer usually defines an AWI for its world that inherits NegMAS's\n",
    "**AgentWorldInterface** class and provides any special services for agents\n",
    "interacting in this world. You can find all the  services available to your agent\n",
    "through the AgentWorldInterface\n",
    "[here](http://www.yasserm.com/negmas/api/negmas.situated.AgentWorldInterface.html).\n",
    "These methods and properties are still available for your agent in SCML. Nevertheless,\n",
    "in many cases, more convenient ways to access some of the information (e.g. the\n",
    "bulletin board) is provided in the specific AWIs implemented in the SCML package\n",
    "to be described now.\n",
    "\n",
    "Now that we know how worlds and agents work and interact, we can look at how\n",
    "negotiation is managed in NegMAS. **Note that you can create negotiations that do\n",
    "not belong to any world**\n",
    "\n",
    "A negotiation is controlled by a **Mechanism** object which implements the\n",
    "negotiation protocol (e.g. the alternating offers protocol). NegMAS provides\n",
    "several mediated and unmediated negotiation protocols (as well as auction\n",
    "mechanisms). The specific **Mechanism** that is used in SCML is the\n",
    "**SAOMechanism** which implements the bargaining protocol.\n",
    "\n",
    "Negotiation strategies are implemented in a **Negotiator** object which usually\n",
    "inherits some base negotiator-class corresponding to the mechanism(s) it supports.\n",
    "\n",
    "The interaction between **Mechanism** and **Negotiator** objects mirrors the\n",
    "interaction between **World** and **Agent** objects. **Mechanism** objects call\n",
    "methods in **Negotiator** objects directly but **Negotiator** objects can only\n",
    "access services provided by the **Mechanism** object through a\n",
    "**NegotiatorMechanismInterface** (AMI).  You can find more details about the general NegMAS NMI\n",
    "[here](http://www.yasserm.com/negmas/api/negmas.common.NegotiatorMechanismInterface.html).\n",
    "\n",
    "Each specific **Mechanism** defines a corresponding specific\n",
    "**AgentMechanismInterface** class (in the same way that **World** classes\n",
    "define their own AWI). \n",
    "\n",
    "To negotiate effectively, negotiators employ a **UtilityFunction** \n",
    "(or any other form of **Preferences** objects) to represent\n",
    "their preferences over different possible **Outcome**s of the negotiation\n",
    "(where an outcome is a full assignment of values to all negotiated **Issue**s).\n",
    "NegMAS provides an extensive set of preferences types, utility functions, and issue types. Please\n",
    "refer to this [overview](http://www.yasserm.com/negmas/overview.html) and\n",
    "[tutorials](http://www.yasserm.com/negmas/tutorials.html) for more details.\n",
    "NegMAS also provides some basic **SAONegotiator**s for the **SAOMechanism**\n",
    "(Check the class diagram\n",
    "[here](http://www.yasserm.com/negmas/modules/sao.html)).  Moreover, you can\n",
    "access almost all [Genius](http://ii.tudelft.nl/genius/) agents using NegMAS's\n",
    "[GeniusNegotiator](http://www.yasserm.com/negmas/api/negmas.genius.GeniusNegotiator.html)\n",
    "including all finalists and winners of all past ANAC competitions.\n",
    "\n",
    "Now we understand how agents interact with worlds through AWIs and negotiators\n",
    "interact with mechanisms through AMIs. We know that the general simulation is\n",
    "controlled by the world while each negotiation is controlled by a mechanism\n",
    "within that world. **We need now to connect these two triplets of objects**\n",
    "\n",
    "As the figure above shows: **Negotiator** objects can be created and controlled\n",
    "by **Agent** objects for the purpose of negotiating with other **Agent**\n",
    "objects. The standard flow of operations is something like this:\n",
    "\n",
    "1. **Agent** A uses its AWI to *request_negotiation()* with Agent B passing a\n",
    "   **Negotiator** to be used in this negotiation. Usually Agent A will also\n",
    "   create a **UtilityFunction** and attach it to the **Negotiator** it just\n",
    "   created (by setting its *ufun* attribute).\n",
    "2. The **World** calls Agent B's *respond_to_negotiation_request()* asking it\n",
    "   to provide its own **Negotiator** to negotiate with Agent A's Negotiator. It\n",
    "   can also just reject the negotiation request by returning no negotiators.\n",
    "3. The **World** will then create a **Mechanism** and ask both **Negotiator**s\n",
    "   to *join* it.  If all goes well, the negotiation starts (at a time defined\n",
    "   by the simulation rules) and runs until either an agreement or disagreement\n",
    "   is reached.\n",
    "4. The **World** class will then inform **Agent**s A and B about the results of\n",
    "   the negotiation using their *on_negotiation_success* and\n",
    "   *on_negotiation_failure* callbacks. \n",
    "5. Successful negotiations lead to **Agreement**s but are still not binding in\n",
    "   general until signed by all agents involved (A and B in this case).\n",
    "   **Agent**'s '*sign_all_contracts* is used for this.\n",
    "6. Signed agreements become *Contract*s and are executed (as specified in the\n",
    "   simulation rules) by the **World**.\n",
    "\n",
    "When negotiations are independent, these are all the objects needed.\n",
    "Nevertheless, in many cases, negotiations are\n",
    "inter-dependent. This means that what is *good* in one negotiation depends on\n",
    "other concurrently running negotiations (or on expectations of future\n",
    "negotiations). NegMAS provides two ways to support this case shown in the\n",
    "following figure:\n",
    "\n",
    "![controllers](figs/controllers.jpg)\n",
    "\n",
    "1. Let **Negotiator**s use **UtilityFunction**s that depend on some common\n",
    "   state. That is what is happening in the left two negotiations. \n",
    "2. Have multiple **Negotiator**s be controlled by a single **Controller**\n",
    "   object with its own utility function that depends on what is happening on\n",
    "   all the negotiations controlled. \n",
    "\n",
    "The **Negotiator**s connected to a controller lost their autonomy and just pass \n",
    "control to their *owning* **Controller**. \n",
    "\n",
    "This concludes our introduction to NegMAS and different objects you need to know \n",
    "about to develop your agent."
   ]
  },
  {
   "cell_type": "markdown",
   "id": "a91b5c24",
   "metadata": {
    "papermill": {
     "duration": 0.082279,
     "end_time": "2022-02-16T09:10:09.556325",
     "exception": false,
     "start_time": "2022-02-16T09:10:09.474046",
     "status": "completed"
    },
    "tags": []
   },
   "source": [
    "## Outcomes, Issues and Outcome Spaces\n",
    "\n",
    "Negotiations are conducted between multiple agents with the goal of achieving an *agreement* (usually called a contract) on one of several possible outcomes. Each *outcome* is in general an assignment of some value to a set of issues. Each *issue* is a variable that can take one of a -- probably infinite -- set of values from some predefined *domain*.\n",
    "\n",
    "The classes and functions supporting management of issues, outcome-spaces and outcomes are implemented in the `outcomes` module.\n",
    "\n",
    "Issues are represented in ``negmas`` using the `Issue` class. An issue is defined by a set of ``values`` and a ``name``.\n",
    "\n",
    "NegMAS supports a variety of `Issue` types."
   ]
  },
  {
   "cell_type": "markdown",
   "id": "4398bb12",
   "metadata": {
    "papermill": {
     "duration": 0.082753,
     "end_time": "2022-02-16T09:10:09.717733",
     "exception": false,
     "start_time": "2022-02-16T09:10:09.634980",
     "status": "completed"
    },
    "tags": []
   },
   "source": [
    "* Using a set of strings:"
   ]
  },
  {
   "cell_type": "code",
   "execution_count": 5,
   "id": "bf7faa88",
   "metadata": {
    "execution": {
     "iopub.execute_input": "2022-02-16T09:10:09.888930Z",
     "iopub.status.busy": "2022-02-16T09:10:09.887747Z",
     "iopub.status.idle": "2022-02-16T09:10:09.892099Z",
     "shell.execute_reply": "2022-02-16T09:10:09.892901Z"
    },
    "papermill": {
     "duration": 0.093948,
     "end_time": "2022-02-16T09:10:09.893172",
     "exception": false,
     "start_time": "2022-02-16T09:10:09.799224",
     "status": "completed"
    },
    "tags": []
   },
   "outputs": [
    {
     "name": "stdout",
     "output_type": "stream",
     "text": [
      "TVxoHhOQTAWzrEZU: ['to be', 'not to be']\n",
      "The Problem: ['to be', 'not to be']\n"
     ]
    }
   ],
   "source": [
    "# an issue with randomly assigned name\n",
    "issue1 = make_issue(values=['to be', 'not to be'])\n",
    "print(issue1)\n",
    "# an issue with given name:\n",
    "issue2 = make_issue(values=['to be', 'not to be'], name='The Problem')\n",
    "print(issue2)"
   ]
  },
  {
   "cell_type": "markdown",
   "id": "cff42e13",
   "metadata": {
    "papermill": {
     "duration": 0.090004,
     "end_time": "2022-02-16T09:10:10.070194",
     "exception": false,
     "start_time": "2022-02-16T09:10:09.980190",
     "status": "completed"
    },
    "tags": []
   },
   "source": [
    "* Using a single integer to give an issue which takes any value from `0` to the given integer minus 1:"
   ]
  },
  {
   "cell_type": "code",
   "execution_count": 6,
   "id": "c9815035",
   "metadata": {
    "execution": {
     "iopub.execute_input": "2022-02-16T09:10:10.286352Z",
     "iopub.status.busy": "2022-02-16T09:10:10.285208Z",
     "iopub.status.idle": "2022-02-16T09:10:10.289189Z",
     "shell.execute_reply": "2022-02-16T09:10:10.289875Z"
    },
    "papermill": {
     "duration": 0.118266,
     "end_time": "2022-02-16T09:10:10.290202",
     "exception": false,
     "start_time": "2022-02-16T09:10:10.171936",
     "status": "completed"
    },
    "tags": []
   },
   "outputs": [
    {
     "name": "stdout",
     "output_type": "stream",
     "text": [
      "number of items: (0, 9)\n"
     ]
    }
   ],
   "source": [
    "issue3 = make_issue(values=10, name='number of items')\n",
    "print(issue3)"
   ]
  },
  {
   "cell_type": "markdown",
   "id": "b035bb53",
   "metadata": {
    "papermill": {
     "duration": 0.088764,
     "end_time": "2022-02-16T09:10:10.456735",
     "exception": false,
     "start_time": "2022-02-16T09:10:10.367971",
     "status": "completed"
    },
    "tags": []
   },
   "source": [
    "* Using a `tuple` with a lower and upper real-valued boundaries to give an issue with an infinite number of possibilities (all real numbers in between)"
   ]
  },
  {
   "cell_type": "code",
   "execution_count": 7,
   "id": "53eff112",
   "metadata": {
    "execution": {
     "iopub.execute_input": "2022-02-16T09:10:10.615568Z",
     "iopub.status.busy": "2022-02-16T09:10:10.614624Z",
     "iopub.status.idle": "2022-02-16T09:10:10.617629Z",
     "shell.execute_reply": "2022-02-16T09:10:10.618075Z"
    },
    "papermill": {
     "duration": 0.090707,
     "end_time": "2022-02-16T09:10:10.618256",
     "exception": false,
     "start_time": "2022-02-16T09:10:10.527549",
     "status": "completed"
    },
    "tags": []
   },
   "outputs": [
    {
     "name": "stdout",
     "output_type": "stream",
     "text": [
      "cost: (0.0, 1.0)\n"
     ]
    }
   ],
   "source": [
    "issue4 = make_issue(values=(0.0, 1.0), name='cost')\n",
    "print(issue4)"
   ]
  },
  {
   "cell_type": "markdown",
   "id": "02df997f",
   "metadata": {
    "papermill": {
     "duration": 0.078314,
     "end_time": "2022-02-16T09:10:10.774315",
     "exception": false,
     "start_time": "2022-02-16T09:10:10.696001",
     "status": "completed"
    },
    "tags": []
   },
   "source": [
    "The `Issue` class provides some useful functions. For example you can find the ``cardinality`` of any issue using:"
   ]
  },
  {
   "cell_type": "code",
   "execution_count": 8,
   "id": "2f4988a8",
   "metadata": {
    "execution": {
     "iopub.execute_input": "2022-02-16T09:10:10.955683Z",
     "iopub.status.busy": "2022-02-16T09:10:10.954511Z",
     "iopub.status.idle": "2022-02-16T09:10:10.958554Z",
     "shell.execute_reply": "2022-02-16T09:10:10.959009Z"
    },
    "papermill": {
     "duration": 0.102599,
     "end_time": "2022-02-16T09:10:10.959193",
     "exception": false,
     "start_time": "2022-02-16T09:10:10.856594",
     "status": "completed"
    },
    "tags": []
   },
   "outputs": [
    {
     "data": {
      "text/plain": [
       "[2, 10, inf]"
      ]
     },
     "execution_count": 8,
     "metadata": {},
     "output_type": "execute_result"
    }
   ],
   "source": [
    "[issue2.cardinality, issue3.cardinality, issue4.cardinality]"
   ]
  },
  {
   "cell_type": "markdown",
   "id": "3cdd44ca",
   "metadata": {
    "papermill": {
     "duration": 0.085635,
     "end_time": "2022-02-16T09:10:11.126953",
     "exception": false,
     "start_time": "2022-02-16T09:10:11.041318",
     "status": "completed"
    },
    "tags": []
   },
   "source": [
    "It is also possible to check the `type` of the issue and whether it is discrete or continuous:"
   ]
  },
  {
   "cell_type": "code",
   "execution_count": 9,
   "id": "73cbb5e3",
   "metadata": {
    "execution": {
     "iopub.execute_input": "2022-02-16T09:10:11.370119Z",
     "iopub.status.busy": "2022-02-16T09:10:11.369005Z",
     "iopub.status.idle": "2022-02-16T09:10:11.372720Z",
     "shell.execute_reply": "2022-02-16T09:10:11.373291Z"
    },
    "papermill": {
     "duration": 0.105594,
     "end_time": "2022-02-16T09:10:11.373585",
     "exception": false,
     "start_time": "2022-02-16T09:10:11.267991",
     "status": "completed"
    },
    "tags": []
   },
   "outputs": [
    {
     "data": {
      "text/plain": [
       "['categorical', True, False]"
      ]
     },
     "execution_count": 9,
     "metadata": {},
     "output_type": "execute_result"
    }
   ],
   "source": [
    "[issue2.type, issue2.is_discrete(), issue2.is_continuous()]"
   ]
  },
  {
   "cell_type": "markdown",
   "id": "c8cdf8c6",
   "metadata": {
    "papermill": {
     "duration": 0.089261,
     "end_time": "2022-02-16T09:10:11.559005",
     "exception": false,
     "start_time": "2022-02-16T09:10:11.469744",
     "status": "completed"
    },
    "tags": []
   },
   "source": [
    "It is possible to check the total cardinality for a set of issues:"
   ]
  },
  {
   "cell_type": "code",
   "execution_count": 10,
   "id": "1902bee0",
   "metadata": {
    "execution": {
     "iopub.execute_input": "2022-02-16T09:10:11.723188Z",
     "iopub.status.busy": "2022-02-16T09:10:11.722329Z",
     "iopub.status.idle": "2022-02-16T09:10:11.725613Z",
     "shell.execute_reply": "2022-02-16T09:10:11.726101Z"
    },
    "papermill": {
     "duration": 0.093424,
     "end_time": "2022-02-16T09:10:11.726283",
     "exception": false,
     "start_time": "2022-02-16T09:10:11.632859",
     "status": "completed"
    },
    "tags": []
   },
   "outputs": [
    {
     "data": {
      "text/plain": [
       "[inf, 40]"
      ]
     },
     "execution_count": 10,
     "metadata": {},
     "output_type": "execute_result"
    }
   ],
   "source": [
    "[num_outcomes([issue1, issue2, issue3, issue4]), # expected inf\n",
    " num_outcomes([issue1, issue2, issue3])] # expected 40 = 2 * 2 * 10"
   ]
  },
  {
   "cell_type": "markdown",
   "id": "90130e6f",
   "metadata": {
    "papermill": {
     "duration": 0.080934,
     "end_time": "2022-02-16T09:10:11.887188",
     "exception": false,
     "start_time": "2022-02-16T09:10:11.806254",
     "status": "completed"
    },
    "tags": []
   },
   "source": [
    "You can pick random valid or invalid values for the issue:"
   ]
  },
  {
   "cell_type": "code",
   "execution_count": 11,
   "id": "f7032e82",
   "metadata": {
    "execution": {
     "iopub.execute_input": "2022-02-16T09:10:12.072909Z",
     "iopub.status.busy": "2022-02-16T09:10:12.071783Z",
     "iopub.status.idle": "2022-02-16T09:10:12.075038Z",
     "shell.execute_reply": "2022-02-16T09:10:12.075483Z"
    },
    "papermill": {
     "duration": 0.101952,
     "end_time": "2022-02-16T09:10:12.075664",
     "exception": false,
     "start_time": "2022-02-16T09:10:11.973712",
     "status": "completed"
    },
    "tags": []
   },
   "outputs": [
    {
     "data": {
      "text/plain": [
       "[['to be', '20220216H181012069319W1q6gdElto be20220216H1810120693543sAHogUt'],\n",
       " [9, 12],\n",
       " [0.6976970707821888, 1.303414685774959]]"
      ]
     },
     "execution_count": 11,
     "metadata": {},
     "output_type": "execute_result"
    }
   ],
   "source": [
    "[\n",
    "    [issue1.rand_valid(), issue1.rand_invalid()],\n",
    "    [issue3.rand_valid(), issue3.rand_invalid()],\n",
    "    [issue4.rand_valid(), issue4.rand_invalid()],\n",
    "]"
   ]
  },
  {
   "cell_type": "markdown",
   "id": "a1aadd8c",
   "metadata": {
    "papermill": {
     "duration": 0.115459,
     "end_time": "2022-02-16T09:10:12.279722",
     "exception": false,
     "start_time": "2022-02-16T09:10:12.164263",
     "status": "completed"
    },
    "tags": []
   },
   "source": [
    "You can also list all valid values for an issue using `all` or sample from them using `value_generator`. Notice that `all` and `value_generator` return generators so both are memory efficient."
   ]
  },
  {
   "cell_type": "code",
   "execution_count": 12,
   "id": "48a600fc",
   "metadata": {
    "execution": {
     "iopub.execute_input": "2022-02-16T09:10:12.474936Z",
     "iopub.status.busy": "2022-02-16T09:10:12.473729Z",
     "iopub.status.idle": "2022-02-16T09:10:12.477702Z",
     "shell.execute_reply": "2022-02-16T09:10:12.478540Z"
    },
    "papermill": {
     "duration": 0.113208,
     "end_time": "2022-02-16T09:10:12.478899",
     "exception": false,
     "start_time": "2022-02-16T09:10:12.365691",
     "status": "completed"
    },
    "tags": []
   },
   "outputs": [
    {
     "name": "stdout",
     "output_type": "stream",
     "text": [
      "('to be', 'not to be')\n",
      "('to be', 'not to be')\n",
      "(0, 1, 2, 3, 4, 5, 6, 7, 8, 9)\n",
      "Cannot enumerate all values of a continuous issue\n"
     ]
    }
   ],
   "source": [
    "print(tuple(issue1.all))\n",
    "print(tuple(issue2.all))\n",
    "print(tuple(issue3.all))\n",
    "try:\n",
    "    print(tuple(issue4.all))\n",
    "except ValueError as e:\n",
    "    print(e)"
   ]
  },
  {
   "cell_type": "markdown",
   "id": "aba39581",
   "metadata": {
    "papermill": {
     "duration": 0.096033,
     "end_time": "2022-02-16T09:10:12.670939",
     "exception": false,
     "start_time": "2022-02-16T09:10:12.574906",
     "status": "completed"
    },
    "tags": []
   },
   "source": [
    "### Outcomes\n",
    "Now that we know how to define issues, defining outcomes from a negotiation is even simpler. An outcome can be any python `mapping` or `iterable` with a known length. That includes dictionaries, lists, tuples among many other. \n",
    "\n",
    "Here is how to define an outcome for the last three issues mentioned above:"
   ]
  },
  {
   "cell_type": "code",
   "execution_count": 13,
   "id": "26c67c8f",
   "metadata": {
    "execution": {
     "iopub.execute_input": "2022-02-16T09:10:12.855885Z",
     "iopub.status.busy": "2022-02-16T09:10:12.854945Z",
     "iopub.status.idle": "2022-02-16T09:10:12.857884Z",
     "shell.execute_reply": "2022-02-16T09:10:12.857310Z"
    },
    "papermill": {
     "duration": 0.099537,
     "end_time": "2022-02-16T09:10:12.858067",
     "exception": false,
     "start_time": "2022-02-16T09:10:12.758530",
     "status": "completed"
    },
    "tags": []
   },
   "outputs": [],
   "source": [
    "valid_outcome = {'The Problem': 'to be', 'number of items': 5, 'cost': 0.15}\n",
    "invalid_outcome = {'The Problem': 'to be', 'number of items': 10, 'cost': 0.15}"
   ]
  },
  {
   "cell_type": "markdown",
   "id": "5158303a",
   "metadata": {
    "papermill": {
     "duration": 0.094114,
     "end_time": "2022-02-16T09:10:13.047902",
     "exception": false,
     "start_time": "2022-02-16T09:10:12.953788",
     "status": "completed"
    },
    "tags": []
   },
   "source": [
    "Notice that the ``invalid_outcome`` is assigning a value of ``10`` to the ``number of items`` issue which is not an acceptable value (``cost`` ranges between ``0`` and ``9``).\n",
    "\n",
    "Because `outcomes` can be represented with many built-in collection classes, the only common ancestor of all outcome objects is the `object` class. Nevertheless, the `outcomes` module provide a type-alias `Outcome` that can be used for static type checking if needed. The `outcomes` module also provides some functions for dealing with `outcome` objects in relation to `Issue`s. These are some examples:"
   ]
  },
  {
   "cell_type": "code",
   "execution_count": 14,
   "id": "355c1bd9",
   "metadata": {
    "execution": {
     "iopub.execute_input": "2022-02-16T09:10:13.283164Z",
     "iopub.status.busy": "2022-02-16T09:10:13.282036Z",
     "iopub.status.idle": "2022-02-16T09:10:13.285963Z",
     "shell.execute_reply": "2022-02-16T09:10:13.287030Z"
    },
    "papermill": {
     "duration": 0.144215,
     "end_time": "2022-02-16T09:10:13.287371",
     "exception": false,
     "start_time": "2022-02-16T09:10:13.143156",
     "status": "completed"
    },
    "tags": []
   },
   "outputs": [
    {
     "data": {
      "text/plain": [
       "[True, False]"
      ]
     },
     "execution_count": 14,
     "metadata": {},
     "output_type": "execute_result"
    }
   ],
   "source": [
    "[ \n",
    "    outcome_is_valid(valid_outcome, [issue2, issue3, issue4]),      # valid giving True\n",
    "    outcome_is_valid(invalid_outcome, [issue2, issue3, issue4])     # invalid giving False\n",
    "]"
   ]
  },
  {
   "cell_type": "markdown",
   "id": "3b742dc2",
   "metadata": {
    "papermill": {
     "duration": 0.090148,
     "end_time": "2022-02-16T09:10:13.460601",
     "exception": false,
     "start_time": "2022-02-16T09:10:13.370453",
     "status": "completed"
    },
    "tags": []
   },
   "source": [
    "It is not necessary for an outcome to assign a value for *all* issues to be considered *valid*. For example the following outcomes are all valid for the last three issues given above:\n"
   ]
  },
  {
   "cell_type": "code",
   "execution_count": 15,
   "id": "b945f72d",
   "metadata": {
    "execution": {
     "iopub.execute_input": "2022-02-16T09:10:13.630156Z",
     "iopub.status.busy": "2022-02-16T09:10:13.628919Z",
     "iopub.status.idle": "2022-02-16T09:10:13.633221Z",
     "shell.execute_reply": "2022-02-16T09:10:13.633918Z"
    },
    "papermill": {
     "duration": 0.094877,
     "end_time": "2022-02-16T09:10:13.634242",
     "exception": false,
     "start_time": "2022-02-16T09:10:13.539365",
     "status": "completed"
    },
    "tags": []
   },
   "outputs": [
    {
     "data": {
      "text/plain": [
       "[True, True]"
      ]
     },
     "execution_count": 15,
     "metadata": {},
     "output_type": "execute_result"
    }
   ],
   "source": [
    "[ \n",
    "    outcome_is_valid({'The Problem': 'to be'}, [issue2, issue3, issue4]),\n",
    "    outcome_is_valid({'The Problem': 'to be', 'number of items': 5}, [issue2, issue3, issue4])\n",
    "]"
   ]
  },
  {
   "cell_type": "markdown",
   "id": "e9cacff0",
   "metadata": {
    "papermill": {
     "duration": 0.086712,
     "end_time": "2022-02-16T09:10:13.802992",
     "exception": false,
     "start_time": "2022-02-16T09:10:13.716280",
     "status": "completed"
    },
    "tags": []
   },
   "source": [
    "You can check the validity of outcomes defined as tuples or lists the same way."
   ]
  },
  {
   "cell_type": "code",
   "execution_count": 16,
   "id": "548e9a20",
   "metadata": {
    "execution": {
     "iopub.execute_input": "2022-02-16T09:10:13.984771Z",
     "iopub.status.busy": "2022-02-16T09:10:13.983575Z",
     "iopub.status.idle": "2022-02-16T09:10:13.987777Z",
     "shell.execute_reply": "2022-02-16T09:10:13.988607Z"
    },
    "papermill": {
     "duration": 0.107982,
     "end_time": "2022-02-16T09:10:13.989936",
     "exception": false,
     "start_time": "2022-02-16T09:10:13.881954",
     "status": "completed"
    },
    "tags": []
   },
   "outputs": [
    {
     "data": {
      "text/plain": [
       "[True, False]"
      ]
     },
     "execution_count": 16,
     "metadata": {},
     "output_type": "execute_result"
    }
   ],
   "source": [
    "[ \n",
    "    outcome_is_valid(['to be', 4, 0.5], [issue2, issue3, issue4]),\n",
    "    outcome_is_valid(('to be', 4, 1.5), [issue2, issue3, issue4])\n",
    "]"
   ]
  },
  {
   "cell_type": "markdown",
   "id": "1a06a7b8",
   "metadata": {
    "papermill": {
     "duration": 0.116118,
     "end_time": "2022-02-16T09:10:14.194861",
     "exception": false,
     "start_time": "2022-02-16T09:10:14.078743",
     "status": "completed"
    },
    "tags": []
   },
   "source": [
    "It is also important for some applications to check if an outcome is `complete` in the sense that it assigns a *valid* value to every issue in the given set of issues. This can be done using the `outcome_is_complete` function:"
   ]
  },
  {
   "cell_type": "code",
   "execution_count": 17,
   "id": "bf62b3b9",
   "metadata": {
    "execution": {
     "iopub.execute_input": "2022-02-16T09:10:14.404280Z",
     "iopub.status.busy": "2022-02-16T09:10:14.403256Z",
     "iopub.status.idle": "2022-02-16T09:10:14.407268Z",
     "shell.execute_reply": "2022-02-16T09:10:14.407689Z"
    },
    "papermill": {
     "duration": 0.101961,
     "end_time": "2022-02-16T09:10:14.407877",
     "exception": false,
     "start_time": "2022-02-16T09:10:14.305916",
     "status": "completed"
    },
    "tags": []
   },
   "outputs": [
    {
     "data": {
      "text/plain": [
       "[True, False, False]"
      ]
     },
     "execution_count": 17,
     "metadata": {},
     "output_type": "execute_result"
    }
   ],
   "source": [
    "[ \n",
    "    outcome_is_complete(valid_outcome, [issue2, issue3, issue4]),            # complete -> True\n",
    "    outcome_is_complete(invalid_outcome, [issue2, issue3, issue4]),          # invalid -> incomplete -> False\n",
    "    outcome_is_complete({'The Problem': 'to be'}, [issue2, issue3, issue4])  # incomplete -> False  \n",
    "]"
   ]
  },
  {
   "cell_type": "markdown",
   "id": "64eb13eb",
   "metadata": {
    "papermill": {
     "duration": 0.105763,
     "end_time": "2022-02-16T09:10:14.604168",
     "exception": false,
     "start_time": "2022-02-16T09:10:14.498405",
     "status": "completed"
    },
    "tags": []
   },
   "source": [
    "#### Outcome Ranges and constraints\n",
    "Sometimes, it is important to represent not only a single outcome but a range of outcomes. This can be represented using an `OutcomeRange`. Again, an outcome range can be almost any `mapping` or `iterable` in python including dictionaries, lists, tuples, etc with the only exception that the values stored in it can be not only be `int`, `str`, `float` but also `tuple`s of two of any of them representing a range or a `list` of values. This is easier shown:"
   ]
  },
  {
   "cell_type": "code",
   "execution_count": 18,
   "id": "fd7a9025",
   "metadata": {
    "execution": {
     "iopub.execute_input": "2022-02-16T09:10:14.791057Z",
     "iopub.status.busy": "2022-02-16T09:10:14.789495Z",
     "iopub.status.idle": "2022-02-16T09:10:14.792605Z",
     "shell.execute_reply": "2022-02-16T09:10:14.793259Z"
    },
    "papermill": {
     "duration": 0.102286,
     "end_time": "2022-02-16T09:10:14.793600",
     "exception": false,
     "start_time": "2022-02-16T09:10:14.691314",
     "status": "completed"
    },
    "tags": []
   },
   "outputs": [],
   "source": [
    "range1 = {'The Problem': ['to be', 'not to be'], 'number of items': 5, 'cost': (0.1, 0.2)}"
   ]
  },
  {
   "cell_type": "markdown",
   "id": "78d5e1b1",
   "metadata": {
    "papermill": {
     "duration": 0.098657,
     "end_time": "2022-02-16T09:10:14.981191",
     "exception": false,
     "start_time": "2022-02-16T09:10:14.882534",
     "status": "completed"
    },
    "tags": []
   },
   "source": [
    "``range1`` represents the following range of outcomes:\n",
    "\n",
    "* **The Problem**: accepts both ``to be`` and ``not to be``\n",
    "\n",
    "* **number of items**: accepts only the value ``5``\n",
    "\n",
    "* **cost**: accepts any real number between ``0.1`` and ``0.2`` up to representation error\n",
    "\n",
    "It is easy to check whether a specific outcome is within a given range:"
   ]
  },
  {
   "cell_type": "code",
   "execution_count": 19,
   "id": "2bd2ed91",
   "metadata": {
    "execution": {
     "iopub.execute_input": "2022-02-16T09:10:15.173606Z",
     "iopub.status.busy": "2022-02-16T09:10:15.172238Z",
     "iopub.status.idle": "2022-02-16T09:10:15.178360Z",
     "shell.execute_reply": "2022-02-16T09:10:15.177460Z"
    },
    "papermill": {
     "duration": 0.113393,
     "end_time": "2022-02-16T09:10:15.178674",
     "exception": false,
     "start_time": "2022-02-16T09:10:15.065281",
     "status": "completed"
    },
    "tags": []
   },
   "outputs": [
    {
     "data": {
      "text/plain": [
       "[True, False]"
      ]
     },
     "execution_count": 19,
     "metadata": {},
     "output_type": "execute_result"
    }
   ],
   "source": [
    "outcome1 = {'The Problem': 'to be', 'number of items': 5, 'cost': 0.15}\n",
    "outcome2 = {'The Problem': 'to be', 'number of items': 10, 'cost': 0.15}\n",
    "[ \n",
    "    outcome_in_range(outcome1, range1),       # True\n",
    "    outcome_in_range(outcome2, range1)        # False\n",
    "]       "
   ]
  },
  {
   "cell_type": "markdown",
   "id": "bbdc0981",
   "metadata": {
    "papermill": {
     "duration": 0.084175,
     "end_time": "2022-02-16T09:10:15.373942",
     "exception": false,
     "start_time": "2022-02-16T09:10:15.289767",
     "status": "completed"
    },
    "tags": []
   },
   "source": [
    "In general outcome ranges constraint outcomes depending on the type of the constraint:\n",
    "\n",
    "* **tuple** The outcome must fall within the range specified by the first and second elements. Only valid for values that can be compared using `__lt__` (e.g. int, float, str).\n",
    "* **single value** The outcome must equal this given value.\n",
    "* **list of values** The outcome must be within the list.\n",
    "* **list of tuples** The outcome must fall within one of the ranges specified by the tuples.\n",
    "\n"
   ]
  },
  {
   "cell_type": "markdown",
   "id": "22728881",
   "metadata": {
    "papermill": {
     "duration": 0.088211,
     "end_time": "2022-02-16T09:10:15.550912",
     "exception": false,
     "start_time": "2022-02-16T09:10:15.462701",
     "status": "completed"
    },
    "tags": []
   },
   "source": [
    "### Outcome Spaces\n",
    "\n",
    "An outcome-space is a *set of outcomes* which can be enumerated, sampled, etc.\n",
    "\n",
    "NegMAS supports a special kind of outcome-spaces called `CartesianOutcomeSpace` which represents the Cartesian product of a set of issues and can be created using `make_os` function:"
   ]
  },
  {
   "cell_type": "code",
   "execution_count": 20,
   "id": "be9e6fb4",
   "metadata": {
    "execution": {
     "iopub.execute_input": "2022-02-16T09:10:15.718830Z",
     "iopub.status.busy": "2022-02-16T09:10:15.717824Z",
     "iopub.status.idle": "2022-02-16T09:10:15.721066Z",
     "shell.execute_reply": "2022-02-16T09:10:15.721525Z"
    },
    "papermill": {
     "duration": 0.095369,
     "end_time": "2022-02-16T09:10:15.721710",
     "exception": false,
     "start_time": "2022-02-16T09:10:15.626341",
     "status": "completed"
    },
    "tags": []
   },
   "outputs": [
    {
     "name": "stdout",
     "output_type": "stream",
     "text": [
      "<class 'negmas.outcomes.outcome_space.CartesianOutcomeSpace'>\n"
     ]
    }
   ],
   "source": [
    "myos = make_os([issue1, issue2, issue3, issue4])\n",
    "print(type(myos))"
   ]
  },
  {
   "cell_type": "markdown",
   "id": "eebd4185",
   "metadata": {
    "papermill": {
     "duration": 0.091929,
     "end_time": "2022-02-16T09:10:15.900235",
     "exception": false,
     "start_time": "2022-02-16T09:10:15.808306",
     "status": "completed"
    },
    "tags": []
   },
   "source": [
    "A special case of `CartesianOutcomeSpace` is a `DiscreteCartesianOutcomeSpace` (see the examle above) which represent a Cartesian outcome-space with discrete issues (i.e. no issues are continuous).\n",
    "\n",
    "`OutcomeSpace` provide convenient methods for gettin information about the outcome-space or manipulating it. Some of the most important examples are:\n",
    "\n",
    "- **is_numeric, is_integer, is_float** Checks if all components of all outcomes are numeric, integer or float.\n",
    "- **is_discrete, is_finite, is_continuous** Check if the outcome space itself is discrete, finite or continuous.\n",
    "- **cardinality** returns the number of outcomes in the outcome-space.\n",
    "- **cardinality_if_discretized** returns the number of outcomes in the outcome-space if we discretize it.\n",
    "- **to_discrete, to_largest_discrete** create an discrete outcome-space that ranges over the input outcome-space.\n",
    "- **sample** returns outcomes from the outcome-space.\n",
    "- **enumerate_or_sample** sample from continuous outcome-spaces and enumerate all outcomes of discrete outcome-spaces.\n",
    "\n",
    "\n",
    "`DiscreteOutcomeSpace` is a special case of `OutcomeSpace` representing a finite outcome space and adds some operations including:\n",
    "\n",
    "- **to_single_issue** generates a single-issue outcome-space with the same number of outcomes as the given outcome-space\n",
    "- **limit_cardinality** generates a discrete outcome-space that *approximates* the input outcome-space using at most some predefined number of outcomes.\n"
   ]
  },
  {
   "cell_type": "markdown",
   "id": "b4d5f374",
   "metadata": {
    "papermill": {
     "duration": 0.090465,
     "end_time": "2022-02-16T09:10:16.092102",
     "exception": false,
     "start_time": "2022-02-16T09:10:16.001637",
     "status": "completed"
    },
    "tags": []
   },
   "source": [
    "## Utilities and Preferences\n",
    "Agents engage in negotiations to maximize their utility. That is the central dogma in negotiation research. `negmas` allows the user to define their own utility functions based on a set of predefined base classes that can be found in the `utilities` module.\n"
   ]
  },
  {
   "cell_type": "markdown",
   "id": "2adc0d2a",
   "metadata": {
    "papermill": {
     "duration": 0.104215,
     "end_time": "2022-02-16T09:10:16.310723",
     "exception": false,
     "start_time": "2022-02-16T09:10:16.206508",
     "status": "completed"
    },
    "tags": []
   },
   "source": [
    "### Utility Values\n",
    "In most applications, utility values can be represented by real numbers. Nevertheless, some applications need a more complicated representation. For example, during utility elicitation (the process of learning about the utility function of the human being represented by the agent) or opponent modeling (the process of learning about the utility function of an opponent), the need may arise to represent a probability distribution over utilities. \n",
    "\n",
    "`negmas` allows all functions that receive a utility value to receive a utility distribution. This is achieved through the use of two basic type definitions:\n",
    "\n",
    "* `Distribution` That is a probability distribution class capable of representing probabilistic variables having both continuous and discrete distributions and applying basic operations on them (addition, subtraction and multiplication). Currently we use `scipy.stats` for modeling these distributions but this is an implementation detail that should not be relied upon as it is likely that the probabilistic framework will be changed in the future to enhance the flexibility of the package and its integration with other probabilistic modeling packages (e.g. PyMC3). A concrete implementation of `Distribution` provided by NegMAS is `ScipyDistribution`. A special case if the `Real` distribution which represents a delta distribution $\\delta(v)$ at a given real value $v$ (i.e. $p(x)=1$ for $x=v$ and $0$ otherwise) which acts both as a `Distribution` and a `float`. \n",
    "\n",
    "* `Value` This is the input and output type used whenever a utility value is to be represented in the whole package. It is defined as a union of a real value and a `Distribution` (`float | Distribution`). This way, it is possible to pass utility distributions to most functions expecting (or returning) a utility value including utility functions. \n",
    "\n",
    "This means that both of the following are valid utility values"
   ]
  },
  {
   "cell_type": "code",
   "execution_count": 21,
   "id": "ac6da032",
   "metadata": {
    "execution": {
     "iopub.execute_input": "2022-02-16T09:10:16.507147Z",
     "iopub.status.busy": "2022-02-16T09:10:16.506117Z",
     "iopub.status.idle": "2022-02-16T09:10:16.509540Z",
     "shell.execute_reply": "2022-02-16T09:10:16.510229Z"
    },
    "papermill": {
     "duration": 0.110859,
     "end_time": "2022-02-16T09:10:16.510674",
     "exception": false,
     "start_time": "2022-02-16T09:10:16.399815",
     "status": "completed"
    },
    "tags": []
   },
   "outputs": [
    {
     "name": "stdout",
     "output_type": "stream",
     "text": [
      "1.0\n",
      "U(0.0, 1.0)\n"
     ]
    }
   ],
   "source": [
    "u1 = Real(1.0)\n",
    "u2 = UniformDistribution()   # standard normal distribution\n",
    "print(u1)\n",
    "print(u2)"
   ]
  },
  {
   "cell_type": "markdown",
   "id": "ab00dab1",
   "metadata": {
    "papermill": {
     "duration": 0.131702,
     "end_time": "2022-02-16T09:10:16.749094",
     "exception": false,
     "start_time": "2022-02-16T09:10:16.617392",
     "status": "completed"
    },
    "tags": []
   },
   "source": [
    "### Preferences\n",
    "\n",
    "`Rational` entities in NegMAS (including `Agent`s, `Negotiator`s, and `Controller`s) can have `Preferences` which define how much they prefer an `Outcome` over another. Several types of preferences are supported in NegMAS and they all must implement the `BasePref` protocol.\n",
    "\n",
    "### Ordinal and Cardinal Preferences\n",
    "\n",
    "The most general `Preferences` type in NegMAS is `Ordinal` `Preferences` which can only represent partial ordering of outcomes in the outcome-space throgh the `is_not_worse()` method. An entity with this kind of preferences can compare two outcomes but it gets one bit of information out of this comparison (which is better for the entity) and has no way to know *how much* is the difference\n",
    "\n",
    "`CarindalProb` `Preferences`, on the other hand, implement `difference_prob()` which return a `Distribution` indicating *how much* is the difference between two outcomes. A crisp version (`CardinalCrisp`) moreover implements `difference()` which returns a `float` indicating *exactly* the difference in value for the entity between two outcomes.\n",
    "\n",
    "Every `CadrinalCrisp` object is a `CardinalProb` which is also an `Ordinal` object.\n",
    "\n",
    "### Crisp and Prob Preferences\n",
    "\n",
    "NegMAS usually implements two versions of each `Preferences` type (other than `Ordinal`) that represent a probabilistic version (ending with `Prob`) returing `Distribution`s when queried, and a crisp version (ending with `Crisp`) returning a `float`. This simplifies the development of agents and negotiators working with probability distributions.\n",
    "\n",
    "### Stationary and Non-Stationary Preferences\n",
    "\n",
    "Stationary `Preferences` are those that *do not change during the lifetime of their owner*, while non-stationary `Preferences`  are allowed to change. The entity having non-stationary preferences usually faces a harder problem achieving its goals as it needs to take into account this possible change. Entities interacting with other entities with non-stationary `Preferences` are also in reatively harder situation comapred with those dealing with entities with stationary `Preferences`. \n",
    "\n",
    "Stationary Preference type names start with `Stationary` (e.g. `StationaryCardinalProb`) while non-stationary types start with `NonStationary` (e.g. `NonStationaryCardinalProb`).\n",
    "\n"
   ]
  },
  {
   "cell_type": "markdown",
   "id": "576cb4aa",
   "metadata": {
    "papermill": {
     "duration": 0.112156,
     "end_time": "2022-02-16T09:10:16.979064",
     "exception": false,
     "start_time": "2022-02-16T09:10:16.866908",
     "status": "completed"
    },
    "tags": []
   },
   "source": [
    "### Utility Functions\n"
   ]
  },
  {
   "cell_type": "markdown",
   "id": "25a02e88",
   "metadata": {
    "papermill": {
     "duration": 0.152932,
     "end_time": "2022-02-16T09:10:17.253136",
     "exception": false,
     "start_time": "2022-02-16T09:10:17.100204",
     "status": "completed"
    },
    "tags": []
   },
   "source": [
    "Utility functions are entities that take an `Outcome` and return its `Value`. There are many types of utility functions defined in the literature. In this package, the base of all utiliy functions is the `BaseUtilityFunction` class which is defined in the `preferences.ufun` module. It behaves like a standard python `Callable` which can be called with a single `Outcome` object (i.e. a dictionary, list, tuple etc representing an outcome) and returns a `Value`. This allows utility functions to return a distribution instead of a single utility value. Special cases are `UtilityFunction` which is the base class of all crisp ufuns (returning a `float` when called) and `ProbUtilityFunction` which is the base class of all probabilistic ufuns (returning a `Distribution` when called).\n",
    "\n",
    "Utility functions in `negmas` have a helper `property` called `type` which returns the type of the utility function and a helper function `eu` for returning the expected utility of a given outcome which is guaranteed to return a real number (`float`) even if the utiliy function itself is returning a utility distribution.\n",
    "\n",
    "To implement a specific utility function, you need to override the single `eval` function provided in the `UtilityFunction`/`ProbUtilityFunction` abstract base class. This is a simple example:\n"
   ]
  },
  {
   "cell_type": "code",
   "execution_count": 22,
   "id": "6fc08cfe",
   "metadata": {
    "execution": {
     "iopub.execute_input": "2022-02-16T09:10:17.525747Z",
     "iopub.status.busy": "2022-02-16T09:10:17.524515Z",
     "iopub.status.idle": "2022-02-16T09:10:17.529050Z",
     "shell.execute_reply": "2022-02-16T09:10:17.529933Z"
    },
    "papermill": {
     "duration": 0.141753,
     "end_time": "2022-02-16T09:10:17.530310",
     "exception": false,
     "start_time": "2022-02-16T09:10:17.388557",
     "status": "completed"
    },
    "tags": []
   },
   "outputs": [
    {
     "data": {
      "text/plain": [
       "30.0"
      ]
     },
     "execution_count": 22,
     "metadata": {},
     "output_type": "execute_result"
    }
   ],
   "source": [
    "COST = 0\n",
    "class ConstUtilityFunction(UtilityFunction):\n",
    "   def eval(self, offer):\n",
    "        try:\n",
    "            return 3.0 * offer[COST] \n",
    "        except KeyError:  # No value was given to the cost\n",
    "            return None\n",
    "    \n",
    "   def xml(self):\n",
    "        return '<ufun const=True value=3.0></ufun>'\n",
    "\n",
    "f = ConstUtilityFunction()\n",
    "f((10,))"
   ]
  },
  {
   "cell_type": "markdown",
   "id": "439d16de",
   "metadata": {
    "papermill": {
     "duration": 0.091967,
     "end_time": "2022-02-16T09:10:17.723253",
     "exception": false,
     "start_time": "2022-02-16T09:10:17.631286",
     "status": "completed"
    },
    "tags": []
   },
   "source": [
    "Note that we used `StationaryUtilityFunction` as the base class to inform users of the `ConstUtilityFunction` class that it represents a stationary ufun which means that it is OK to cache results of calls to the ufun for example.\n",
    "\n",
    "General Utility functions can store internal state and use it to return different values for the same outcome over time allowing for dynamic change or evolution of them during negotiations. For example this *silly* utility function responds to the mood of the user:"
   ]
  },
  {
   "cell_type": "code",
   "execution_count": 23,
   "id": "e0597c46",
   "metadata": {
    "execution": {
     "iopub.execute_input": "2022-02-16T09:10:17.915993Z",
     "iopub.status.busy": "2022-02-16T09:10:17.914967Z",
     "iopub.status.idle": "2022-02-16T09:10:17.918408Z",
     "shell.execute_reply": "2022-02-16T09:10:17.919191Z"
    },
    "papermill": {
     "duration": 0.107419,
     "end_time": "2022-02-16T09:10:17.919396",
     "exception": false,
     "start_time": "2022-02-16T09:10:17.811977",
     "status": "completed"
    },
    "tags": []
   },
   "outputs": [
    {
     "name": "stdout",
     "output_type": "stream",
     "text": [
      "Utility in good mood of (10,) is 10.0\n",
      "Utility in bad mood of (10,) is 1.0\n",
      "Utility in good mood of (10,) is undecidable: Cannot calculate utility for (10,)\n"
     ]
    }
   ],
   "source": [
    "class MoodyUtilityFunction(UtilityFunction):\n",
    "    def __init__(self, mood='good'):\n",
    "        super().__init__()\n",
    "        self.mood = mood\n",
    "        \n",
    "    def eval(self, offer):\n",
    "        if self.mood not in ('good', 'bad'):\n",
    "            raise ValueError(f\"Cannot calculate utility for {offer}\")\n",
    "        return float(offer[COST]) if self.mood == 'good' else 0.1 * offer[COST]\n",
    "    def set_mood(self, mood):\n",
    "        self.mood = mood\n",
    "    \n",
    "    def xml(self):\n",
    "        pass\n",
    "\n",
    "offer = (10,)\n",
    "\n",
    "f = MoodyUtilityFunction()\n",
    "# I am in a good mode now\n",
    "print(f'Utility in good mood of {offer} is {f(offer)}')\n",
    "f.set_mood('bad')\n",
    "print(f'Utility in bad mood of {offer} is {f(offer)}')\n",
    "f.set_mood('undecided')\n",
    "try:\n",
    "    y = f(offer)\n",
    "except ValueError as e:\n",
    "    print(f'Utility in good mood of {offer} is undecidable: {e}')"
   ]
  },
  {
   "cell_type": "markdown",
   "id": "1fd5fdbb",
   "metadata": {
    "papermill": {
     "duration": 0.087699,
     "end_time": "2022-02-16T09:10:18.119012",
     "exception": false,
     "start_time": "2022-02-16T09:10:18.031313",
     "status": "completed"
    },
    "tags": []
   },
   "source": [
    "Notice that (as the last example shows) utility functions can return `None` to indicate that the utility value cannot be inferred for this outcome/offer.\n",
    "\n",
    "### Preferences Protcols\n",
    "\n",
    "The `preferences` module provide a set of other python protocols that guarantee that a given `Preferences` object has some predefined properties. This can be used by developers to adjust the behavior of any entity based on the specific features of its preferences or to limit the applicability of some strategy to a given `Preferences` type.\n",
    "\n",
    "Here are some examples of these protocols  all applying to utility functions (see next section) (note that *protocol* here is used in the Pythonic sense of a duck-typed interface):\n",
    "\n",
    "| Protoocol | Meaning |\n",
    "| :---      | :---    |\n",
    "| Scalable  | The utility function can be scaled by some factor |\n",
    "| PartiallyScalable | The utility function can be scaled in some part of the outcome-space |\n",
    "| Shiftable  | The utility function can be shifted by some constant value |\n",
    "| PartiallyShiftable | The utility function can be by some constant value in some part of the outcome-space |\n",
    "| Normalizable  | The utility function can be normalized to fall in some given range |\n",
    "| PartiallyNormalizable | The utility function can be normalized to fall in some given range for some part of the outcome-space | \n",
    "| HasReservedOutcome  | The utility function defines some outcome as the default outcome in case of disagreement | \n",
    "| HasReservedDistribution  | The utility function defines some distribution as the distribution from which a value is chosen in case of disagreement | \n",
    "| HasReservedValue  | The utility function defines some value as the default value for the agent in case of agreement in case of disagreement | \n",
    "| HasRange  | The utility function defines some value as the default value for the agent in case of agreement in case of disagreement | \n",
    "| IndIssues  | The utility function is a mathematical function (linear or otherwise) of a set of single-issue functions. | \n",
    "\n",
    "The package provides a set of predefined utility functions representing most widely used types. The following subsections describe them briefly.\n"
   ]
  },
  {
   "cell_type": "markdown",
   "id": "155612af",
   "metadata": {
    "papermill": {
     "duration": 0.102929,
     "end_time": "2022-02-16T09:10:18.357978",
     "exception": false,
     "start_time": "2022-02-16T09:10:18.255049",
     "status": "completed"
    },
    "tags": []
   },
   "source": [
    "### Linear Additive Utility Functions\n",
    "The `LinearAdditiveUtilityFunction` class represents a function that linearly aggregate utilities assigned to issues in the given outcome which can be defined mathematically as follows:\n",
    "\n",
    "$$U(o) = \\sum_{i=0}^{\\left|o\\right|}{w_i\\times g_i(o_i)}$$\n",
    "\n",
    "where $o$ is an outcome, $w$ is a real-valued weight vector, $\\left|o\\right|$ is the number of issues, $o_i$ if the value assigned in outcome $o$ to issue $i$, and $g$ is a vector of functions each mapping one issue of the outcome to some real-valued number (utility of this issue).\n",
    "\n",
    "Notice that despite the name, this type of utiliy functions can represent nonlinear relation between issue values and utility values. The linearity is in how these possibly nonlinear mappings are being combind to generate a utility value for the outcome.\n"
   ]
  },
  {
   "cell_type": "markdown",
   "id": "42bb7905",
   "metadata": {
    "papermill": {
     "duration": 0.097071,
     "end_time": "2022-02-16T09:10:18.554522",
     "exception": false,
     "start_time": "2022-02-16T09:10:18.457451",
     "status": "completed"
    },
    "tags": []
   },
   "source": [
    "Note that a utility function needs to know the outcome-space over which is it defined. There are three ways to pass this to the `UtilityFunction` constructor:\n",
    "\n",
    "1. **issues=...** pass a list of issues (usually made using `make_issue`)\n",
    "2. **outcome_space=...** pass an `OutcomeSpace` type (usualy made using `make_os`)\n",
    "3. **outcomes=...** pass a list of outcomes.\n",
    "\n",
    "The following three ufuns are exactly equivalent:"
   ]
  },
  {
   "cell_type": "code",
   "execution_count": 24,
   "id": "244cb288",
   "metadata": {
    "execution": {
     "iopub.execute_input": "2022-02-16T09:10:18.728034Z",
     "iopub.status.busy": "2022-02-16T09:10:18.726875Z",
     "iopub.status.idle": "2022-02-16T09:10:18.730346Z",
     "shell.execute_reply": "2022-02-16T09:10:18.729552Z"
    },
    "papermill": {
     "duration": 0.096304,
     "end_time": "2022-02-16T09:10:18.730598",
     "exception": false,
     "start_time": "2022-02-16T09:10:18.634294",
     "status": "completed"
    },
    "tags": []
   },
   "outputs": [],
   "source": [
    "issues = [make_issue(2, \"i1\"), make_issue(2, \"i2\")]\n",
    "u1 = LinearAdditiveUtilityFunction(issues=issues, values=[lambda x: x, lambda x: x, lambda x: x])"
   ]
  },
  {
   "cell_type": "code",
   "execution_count": 25,
   "id": "88fd6aa0",
   "metadata": {
    "execution": {
     "iopub.execute_input": "2022-02-16T09:10:18.911900Z",
     "iopub.status.busy": "2022-02-16T09:10:18.911051Z",
     "iopub.status.idle": "2022-02-16T09:10:18.913232Z",
     "shell.execute_reply": "2022-02-16T09:10:18.913753Z"
    },
    "papermill": {
     "duration": 0.099749,
     "end_time": "2022-02-16T09:10:18.913933",
     "exception": false,
     "start_time": "2022-02-16T09:10:18.814184",
     "status": "completed"
    },
    "tags": []
   },
   "outputs": [],
   "source": [
    "u2 = LinearAdditiveUtilityFunction(outcome_space=make_os(issues=issues), values=[lambda x: x, lambda x: x, lambda x: x])"
   ]
  },
  {
   "cell_type": "code",
   "execution_count": 26,
   "id": "88b231e4",
   "metadata": {
    "execution": {
     "iopub.execute_input": "2022-02-16T09:10:19.092391Z",
     "iopub.status.busy": "2022-02-16T09:10:19.091373Z",
     "iopub.status.idle": "2022-02-16T09:10:19.094386Z",
     "shell.execute_reply": "2022-02-16T09:10:19.095065Z"
    },
    "papermill": {
     "duration": 0.094608,
     "end_time": "2022-02-16T09:10:19.095261",
     "exception": false,
     "start_time": "2022-02-16T09:10:19.000653",
     "status": "completed"
    },
    "tags": []
   },
   "outputs": [],
   "source": [
    "u3 = LinearAdditiveUtilityFunction(outcomes=[(0, 0), (0, 1), (1, 0), (1, 1)], \n",
    "                                   values=[lambda x: x, lambda x: x, lambda x: x])"
   ]
  },
  {
   "cell_type": "markdown",
   "id": "089d6e2f",
   "metadata": {
    "papermill": {
     "duration": 0.106742,
     "end_time": "2022-02-16T09:10:19.313917",
     "exception": false,
     "start_time": "2022-02-16T09:10:19.207175",
     "status": "completed"
    },
    "tags": []
   },
   "source": [
    "For example, the following utility function represents the utility of `buyer` who wants low cost, many items, and prefers delivery:"
   ]
  },
  {
   "cell_type": "code",
   "execution_count": 27,
   "id": "6faa5ba0",
   "metadata": {
    "execution": {
     "iopub.execute_input": "2022-02-16T09:10:19.514359Z",
     "iopub.status.busy": "2022-02-16T09:10:19.513453Z",
     "iopub.status.idle": "2022-02-16T09:10:19.515724Z",
     "shell.execute_reply": "2022-02-16T09:10:19.516185Z"
    },
    "papermill": {
     "duration": 0.107297,
     "end_time": "2022-02-16T09:10:19.516370",
     "exception": false,
     "start_time": "2022-02-16T09:10:19.409073",
     "status": "completed"
    },
    "tags": []
   },
   "outputs": [],
   "source": [
    "issues = [\n",
    "    make_issue((0, 10), \"price\"), \n",
    "    make_issue((1, 10), \"number of items\"), \n",
    "    make_issue([\"delivered\", \"not delivered\"], \"delivery\")\n",
    "]\n",
    "buyer_utility = LinearAdditiveUtilityFunction({\n",
    "    'price': lambda x: - x , 'number of items': lambda x: 0.5 * x,\n",
    "    'delivery': {'delivered': 1.0, 'not delivered': 0.0}}, \n",
    "    issues=issues)"
   ]
  },
  {
   "cell_type": "markdown",
   "id": "ce6759de",
   "metadata": {
    "papermill": {
     "duration": 0.085179,
     "end_time": "2022-02-16T09:10:19.690691",
     "exception": false,
     "start_time": "2022-02-16T09:10:19.605512",
     "status": "completed"
    },
    "tags": []
   },
   "source": [
    "Given this definition of utility, we can easily calculate the utility of different options:"
   ]
  },
  {
   "cell_type": "code",
   "execution_count": 28,
   "id": "557e6089",
   "metadata": {
    "execution": {
     "iopub.execute_input": "2022-02-16T09:10:19.872258Z",
     "iopub.status.busy": "2022-02-16T09:10:19.871275Z",
     "iopub.status.idle": "2022-02-16T09:10:19.874614Z",
     "shell.execute_reply": "2022-02-16T09:10:19.875164Z"
    },
    "papermill": {
     "duration": 0.10292,
     "end_time": "2022-02-16T09:10:19.875384",
     "exception": false,
     "start_time": "2022-02-16T09:10:19.772464",
     "status": "completed"
    },
    "tags": []
   },
   "outputs": [
    {
     "name": "stdout",
     "output_type": "stream",
     "text": [
      "0.5\n"
     ]
    }
   ],
   "source": [
    "print(buyer_utility((1.0, 3, 'not delivered')))"
   ]
  },
  {
   "cell_type": "markdown",
   "id": "23425b2f",
   "metadata": {
    "papermill": {
     "duration": 0.09915,
     "end_time": "2022-02-16T09:10:20.085980",
     "exception": false,
     "start_time": "2022-02-16T09:10:19.986830",
     "status": "completed"
    },
    "tags": []
   },
   "source": [
    "Now what happens if we offer to deliver the items:"
   ]
  },
  {
   "cell_type": "code",
   "execution_count": 29,
   "id": "3e6b963b",
   "metadata": {
    "execution": {
     "iopub.execute_input": "2022-02-16T09:10:20.317030Z",
     "iopub.status.busy": "2022-02-16T09:10:20.316026Z",
     "iopub.status.idle": "2022-02-16T09:10:20.318992Z",
     "shell.execute_reply": "2022-02-16T09:10:20.319453Z"
    },
    "papermill": {
     "duration": 0.12157,
     "end_time": "2022-02-16T09:10:20.319634",
     "exception": false,
     "start_time": "2022-02-16T09:10:20.198064",
     "status": "completed"
    },
    "tags": []
   },
   "outputs": [
    {
     "name": "stdout",
     "output_type": "stream",
     "text": [
      "1.5\n"
     ]
    }
   ],
   "source": [
    "print(buyer_utility((1.0, 3, 'delivered')))"
   ]
  },
  {
   "cell_type": "markdown",
   "id": "14d2e633",
   "metadata": {
    "papermill": {
     "duration": 0.097792,
     "end_time": "2022-02-16T09:10:20.501869",
     "exception": false,
     "start_time": "2022-02-16T09:10:20.404077",
     "status": "completed"
    },
    "tags": []
   },
   "source": [
    "And if delivery was accompanied with an increase in price"
   ]
  },
  {
   "cell_type": "code",
   "execution_count": 30,
   "id": "0c2ca8d9",
   "metadata": {
    "execution": {
     "iopub.execute_input": "2022-02-16T09:10:20.676208Z",
     "iopub.status.busy": "2022-02-16T09:10:20.675260Z",
     "iopub.status.idle": "2022-02-16T09:10:20.678194Z",
     "shell.execute_reply": "2022-02-16T09:10:20.678743Z"
    },
    "papermill": {
     "duration": 0.096238,
     "end_time": "2022-02-16T09:10:20.679023",
     "exception": false,
     "start_time": "2022-02-16T09:10:20.582785",
     "status": "completed"
    },
    "tags": []
   },
   "outputs": [
    {
     "name": "stdout",
     "output_type": "stream",
     "text": [
      "0.7\n"
     ]
    }
   ],
   "source": [
    "print(buyer_utility((1.8, 3, 'delivered')))"
   ]
  },
  {
   "cell_type": "markdown",
   "id": "f05377b7",
   "metadata": {
    "papermill": {
     "duration": 0.091157,
     "end_time": "2022-02-16T09:10:20.855909",
     "exception": false,
     "start_time": "2022-02-16T09:10:20.764752",
     "status": "completed"
    },
    "tags": []
   },
   "source": [
    "It is clear that this buyer will still accept that increase of price from ``'1.0'`` to ``'1.8``' if it is accompanied with the delivery option.\n",
    "\n",
    "As explained before, you can use `dict2outcome` to make ufun calls more readable:"
   ]
  },
  {
   "cell_type": "code",
   "execution_count": 31,
   "id": "875b7601",
   "metadata": {
    "execution": {
     "iopub.execute_input": "2022-02-16T09:10:21.048645Z",
     "iopub.status.busy": "2022-02-16T09:10:21.047753Z",
     "iopub.status.idle": "2022-02-16T09:10:21.051057Z",
     "shell.execute_reply": "2022-02-16T09:10:21.051516Z"
    },
    "papermill": {
     "duration": 0.102947,
     "end_time": "2022-02-16T09:10:21.051701",
     "exception": false,
     "start_time": "2022-02-16T09:10:20.948754",
     "status": "completed"
    },
    "tags": []
   },
   "outputs": [
    {
     "data": {
      "text/plain": [
       "0.7"
      ]
     },
     "execution_count": 31,
     "metadata": {},
     "output_type": "execute_result"
    }
   ],
   "source": [
    "buyer_utility(\n",
    "    dict2outcome({\"price\": 1.8, \"number of items\": 3, \"delivery\": \"delivered\"}, \n",
    "                 issues=buyer_utility.issues\n",
    "                )\n",
    ")"
   ]
  },
  {
   "cell_type": "markdown",
   "id": "7af40cee",
   "metadata": {
    "papermill": {
     "duration": 0.14032,
     "end_time": "2022-02-16T09:10:21.288425",
     "exception": false,
     "start_time": "2022-02-16T09:10:21.148105",
     "status": "completed"
    },
    "tags": []
   },
   "source": [
    "### Nonlinear Aggregation Utility Functions\n",
    "A direct generalization of the linear agggregation utility functions is provided by the `NonLinearAggregationUtilityFunction` which represents the following function:\n",
    "\n",
    "$$U(o) = f\\left(\\left\\{{g_i(o_i)}\\right\\}\\right)$$\n",
    "\n",
    "where $g$ is a vector of functions defined as before and $f$ is a mapping from a vector of real-values to a single real value.\n",
    "\n",
    "For example, a seller's utility can be defined as:"
   ]
  },
  {
   "cell_type": "code",
   "execution_count": 32,
   "id": "7a20b040",
   "metadata": {
    "execution": {
     "iopub.execute_input": "2022-02-16T09:10:21.522437Z",
     "iopub.status.busy": "2022-02-16T09:10:21.521195Z",
     "iopub.status.idle": "2022-02-16T09:10:21.524312Z",
     "shell.execute_reply": "2022-02-16T09:10:21.525001Z"
    },
    "papermill": {
     "duration": 0.13224,
     "end_time": "2022-02-16T09:10:21.525301",
     "exception": false,
     "start_time": "2022-02-16T09:10:21.393061",
     "status": "completed"
    },
    "tags": []
   },
   "outputs": [],
   "source": [
    "seller_utility =NonLinearAggregationUtilityFunction((\n",
    "                             lambda x: x\n",
    "                           , lambda x: 0.5 * x\n",
    "                           , {'delivered': 1.0, 'not delivered': 0.0})\n",
    "                   , f=lambda x: x[0]/x[1] - 0.5 * x[2])"
   ]
  },
  {
   "cell_type": "markdown",
   "id": "0f8c0349",
   "metadata": {
    "papermill": {
     "duration": 0.099006,
     "end_time": "2022-02-16T09:10:21.722266",
     "exception": false,
     "start_time": "2022-02-16T09:10:21.623260",
     "status": "completed"
    },
    "tags": []
   },
   "source": [
    "This utility will go up with the ``price`` and down with the ``number of items`` as expected but not linearly.\n",
    "\n",
    "We can now evaluate different options similar to the case for the buyer:"
   ]
  },
  {
   "cell_type": "code",
   "execution_count": 33,
   "id": "beff8416",
   "metadata": {
    "execution": {
     "iopub.execute_input": "2022-02-16T09:10:21.919902Z",
     "iopub.status.busy": "2022-02-16T09:10:21.918705Z",
     "iopub.status.idle": "2022-02-16T09:10:21.923618Z",
     "shell.execute_reply": "2022-02-16T09:10:21.922836Z"
    },
    "papermill": {
     "duration": 0.106114,
     "end_time": "2022-02-16T09:10:21.923889",
     "exception": false,
     "start_time": "2022-02-16T09:10:21.817775",
     "status": "completed"
    },
    "tags": []
   },
   "outputs": [
    {
     "name": "stdout",
     "output_type": "stream",
     "text": [
      "0.6666666666666666\n"
     ]
    }
   ],
   "source": [
    "print(seller_utility((1.0, 3, 'not delivered')))"
   ]
  },
  {
   "cell_type": "code",
   "execution_count": 34,
   "id": "3bcc19cf",
   "metadata": {
    "execution": {
     "iopub.execute_input": "2022-02-16T09:10:22.244616Z",
     "iopub.status.busy": "2022-02-16T09:10:22.243071Z",
     "iopub.status.idle": "2022-02-16T09:10:22.248997Z",
     "shell.execute_reply": "2022-02-16T09:10:22.247377Z"
    },
    "papermill": {
     "duration": 0.198262,
     "end_time": "2022-02-16T09:10:22.249500",
     "exception": false,
     "start_time": "2022-02-16T09:10:22.051238",
     "status": "completed"
    },
    "tags": []
   },
   "outputs": [
    {
     "name": "stdout",
     "output_type": "stream",
     "text": [
      "0.16666666666666663\n"
     ]
    }
   ],
   "source": [
    "print(seller_utility((1.0, 3, 'delivered')))"
   ]
  },
  {
   "cell_type": "code",
   "execution_count": 35,
   "id": "5b96d7da",
   "metadata": {
    "execution": {
     "iopub.execute_input": "2022-02-16T09:10:22.443339Z",
     "iopub.status.busy": "2022-02-16T09:10:22.442132Z",
     "iopub.status.idle": "2022-02-16T09:10:22.446241Z",
     "shell.execute_reply": "2022-02-16T09:10:22.447052Z"
    },
    "papermill": {
     "duration": 0.102586,
     "end_time": "2022-02-16T09:10:22.447362",
     "exception": false,
     "start_time": "2022-02-16T09:10:22.344776",
     "status": "completed"
    },
    "tags": []
   },
   "outputs": [
    {
     "name": "stdout",
     "output_type": "stream",
     "text": [
      "0.7\n"
     ]
    }
   ],
   "source": [
    "print(seller_utility((1.8, 3, 'delivered')))"
   ]
  },
  {
   "cell_type": "markdown",
   "id": "1689794c",
   "metadata": {
    "papermill": {
     "duration": 0.094534,
     "end_time": "2022-02-16T09:10:22.636309",
     "exception": false,
     "start_time": "2022-02-16T09:10:22.541775",
     "status": "completed"
    },
    "tags": []
   },
   "source": [
    "### Hyper Rectangle Utility Functions\n",
    "In many cases, it is not possible to define a utility mapping for every issue independently. We provide the utility function `HyperVolumeUtilityFunction` to handle this situation by allowing for representation of a set of nonlinear functions defined on arbitrary hyper-volumes of the space of outcomes.\n",
    "\n",
    "The simplest example is a nonlinear-function that is defined over the whole space but that nonlinearly combines several issues to calculate the utility. \n",
    "\n",
    "For example the previous `NonLinearUtilityFunction` for the ``seller`` can be represented as follows:\n"
   ]
  },
  {
   "cell_type": "code",
   "execution_count": 36,
   "id": "9cd6f0ab",
   "metadata": {
    "execution": {
     "iopub.execute_input": "2022-02-16T09:10:22.826462Z",
     "iopub.status.busy": "2022-02-16T09:10:22.825294Z",
     "iopub.status.idle": "2022-02-16T09:10:22.829231Z",
     "shell.execute_reply": "2022-02-16T09:10:22.830011Z"
    },
    "papermill": {
     "duration": 0.104098,
     "end_time": "2022-02-16T09:10:22.830332",
     "exception": false,
     "start_time": "2022-02-16T09:10:22.726234",
     "status": "completed"
    },
    "tags": []
   },
   "outputs": [
    {
     "name": "stdout",
     "output_type": "stream",
     "text": [
      "0.6666666666666666\n",
      "0.16666666666666663\n",
      "0.7\n"
     ]
    }
   ],
   "source": [
    "seller_utility = HyperRectangleUtilityFunction(\n",
    "    outcome_ranges= [None], \n",
    "    utilities= [\n",
    "        lambda x: 2.0*x['price']/x['number of items'] \n",
    "        - 0.5 * int(x['delivery'] == 'delivered')\n",
    "    ]\n",
    ")\n",
    "print(seller_utility({'price': 1.0, 'number of items': 3, 'delivery': 'not delivered'}))\n",
    "print(seller_utility({'price': 1.0, 'number of items': 3, 'delivery': 'delivered'}))\n",
    "print(seller_utility({'price': 1.8, 'number of items': 3, 'delivery': 'delivered'}))"
   ]
  },
  {
   "cell_type": "markdown",
   "id": "596d5849",
   "metadata": {
    "papermill": {
     "duration": 0.127149,
     "end_time": "2022-02-16T09:10:23.052885",
     "exception": false,
     "start_time": "2022-02-16T09:10:22.925736",
     "status": "completed"
    },
    "tags": []
   },
   "source": [
    "This function recovered exactly the same values as the `NonlinearUtilityFuction` defined earlier by defining a single hyper-volume with the special value of `None` which applies the function to the whole space and then defining a single nonlinear function over the whole space to implement the required utiltiy mapping.\n",
    "\n",
    "`HyperVolumeUtilityFunction` was designed to a more complex situation in which you can have multiple nonlinear functions defined over different parts of the space of possible outcomes.\n",
    "\n",
    "Here is an example in which we combine one global utility function and two different local ones:\n"
   ]
  },
  {
   "cell_type": "code",
   "execution_count": 37,
   "id": "b0e08678",
   "metadata": {
    "execution": {
     "iopub.execute_input": "2022-02-16T09:10:23.284687Z",
     "iopub.status.busy": "2022-02-16T09:10:23.283884Z",
     "iopub.status.idle": "2022-02-16T09:10:23.286606Z",
     "shell.execute_reply": "2022-02-16T09:10:23.287402Z"
    },
    "papermill": {
     "duration": 0.149248,
     "end_time": "2022-02-16T09:10:23.287681",
     "exception": false,
     "start_time": "2022-02-16T09:10:23.138433",
     "status": "completed"
    },
    "tags": []
   },
   "outputs": [],
   "source": [
    "f = HyperRectangleUtilityFunction(\n",
    "    outcome_ranges=[\n",
    "        None,\n",
    "        {0: (1.0, 2.0), 1: (1.0, 2.0)},\n",
    "        {0: (1.4, 2.0), 2: (2.0, 3.0)}\n",
    "    ], \n",
    "    utilities=[\n",
    "        5.0, 2.0, lambda x: 2 * x[2] + x[0]\n",
    "    ], \n",
    "    weights=[1,0.5,2.5]\n",
    ")"
   ]
  },
  {
   "cell_type": "markdown",
   "id": "64b2dc0c",
   "metadata": {
    "papermill": {
     "duration": 0.097766,
     "end_time": "2022-02-16T09:10:23.476263",
     "exception": false,
     "start_time": "2022-02-16T09:10:23.378497",
     "status": "completed"
    },
    "tags": []
   },
   "source": [
    "There are three nonlinear functions in this example:\n",
    "\n",
    "* A global function which gives a utility of ``5.0`` everywhere\n",
    "* A local function which gives a utility of ``2.0`` to any outcome for which the first issue (issue ``0``) has a value between ``1.0 and ``2.0`` and the second issue (issue ``1``) has a value between ``1.0`` and ``2.0`` which is represented as: ``{0: (1.0, 2.0), 1: (1.0, 2.0)}``\n",
    "* A second local function which gives a utility that depends on both the third and first issues ``(lambda x: 2 * x[2] + x[0]``) on the range ``{0: (1.4, 2.0), 2: (2.0, 3.0)}``.\n",
    "\n",
    "You can also have weights for combining these functions linearly. The default is just to sum all values from these functions to calculate the final utility.\n",
    "\n",
    "Here are some examples:\n",
    "* An outcome that falls in the range of all constraints:"
   ]
  },
  {
   "cell_type": "code",
   "execution_count": 38,
   "id": "e6849a01",
   "metadata": {
    "execution": {
     "iopub.execute_input": "2022-02-16T09:10:23.669103Z",
     "iopub.status.busy": "2022-02-16T09:10:23.668279Z",
     "iopub.status.idle": "2022-02-16T09:10:23.671403Z",
     "shell.execute_reply": "2022-02-16T09:10:23.671851Z"
    },
    "papermill": {
     "duration": 0.102758,
     "end_time": "2022-02-16T09:10:23.672031",
     "exception": false,
     "start_time": "2022-02-16T09:10:23.569273",
     "status": "completed"
    },
    "tags": []
   },
   "outputs": [
    {
     "data": {
      "text/plain": [
       "22.25"
      ]
     },
     "execution_count": 38,
     "metadata": {},
     "output_type": "execute_result"
    }
   ],
   "source": [
    "f([1.5, 1.5, 2.5])"
   ]
  },
  {
   "cell_type": "markdown",
   "id": "afdc9223",
   "metadata": {
    "papermill": {
     "duration": 0.097053,
     "end_time": "2022-02-16T09:10:23.857523",
     "exception": false,
     "start_time": "2022-02-16T09:10:23.760470",
     "status": "completed"
    },
    "tags": []
   },
   "source": [
    "* An outcome that falls in the range of the global and first local constraints only:"
   ]
  },
  {
   "cell_type": "code",
   "execution_count": 39,
   "id": "b7d55261",
   "metadata": {
    "execution": {
     "iopub.execute_input": "2022-02-16T09:10:24.047921Z",
     "iopub.status.busy": "2022-02-16T09:10:24.046781Z",
     "iopub.status.idle": "2022-02-16T09:10:24.050309Z",
     "shell.execute_reply": "2022-02-16T09:10:24.051050Z"
    },
    "papermill": {
     "duration": 0.104004,
     "end_time": "2022-02-16T09:10:24.051238",
     "exception": false,
     "start_time": "2022-02-16T09:10:23.947234",
     "status": "completed"
    },
    "tags": []
   },
   "outputs": [
    {
     "data": {
      "text/plain": [
       "6.0"
      ]
     },
     "execution_count": 39,
     "metadata": {},
     "output_type": "execute_result"
    }
   ],
   "source": [
    "f([1.5, 1.5, 1.0])"
   ]
  },
  {
   "cell_type": "markdown",
   "id": "19db401d",
   "metadata": {
    "papermill": {
     "duration": 0.203983,
     "end_time": "2022-02-16T09:10:24.374299",
     "exception": false,
     "start_time": "2022-02-16T09:10:24.170316",
     "status": "completed"
    },
    "tags": []
   },
   "source": [
    "* An outcome that misses a value for some of the issues:"
   ]
  },
  {
   "cell_type": "code",
   "execution_count": 40,
   "id": "109699e1",
   "metadata": {
    "execution": {
     "iopub.execute_input": "2022-02-16T09:10:24.765514Z",
     "iopub.status.busy": "2022-02-16T09:10:24.763670Z",
     "iopub.status.idle": "2022-02-16T09:10:24.770574Z",
     "shell.execute_reply": "2022-02-16T09:10:24.769671Z"
    },
    "papermill": {
     "duration": 0.17092,
     "end_time": "2022-02-16T09:10:24.770830",
     "exception": false,
     "start_time": "2022-02-16T09:10:24.599910",
     "status": "completed"
    },
    "tags": []
   },
   "outputs": [
    {
     "name": "stdout",
     "output_type": "stream",
     "text": [
      "None\n"
     ]
    }
   ],
   "source": [
    "print(f([1.5, 1.5]))"
   ]
  },
  {
   "cell_type": "markdown",
   "id": "d79a5864",
   "metadata": {
    "papermill": {
     "duration": 0.161024,
     "end_time": "2022-02-16T09:10:25.064420",
     "exception": false,
     "start_time": "2022-02-16T09:10:24.903396",
     "status": "completed"
    },
    "tags": []
   },
   "source": [
    "Notice that in this case, no utility is calculated because we do not know if the outcome falls within the range of the second local function or not. To allow such cases, the initializer of `HyperVolumeUtilityFunction` allows you to ignore such cases:"
   ]
  },
  {
   "cell_type": "code",
   "execution_count": 41,
   "id": "f2296ac4",
   "metadata": {
    "execution": {
     "iopub.execute_input": "2022-02-16T09:10:25.382614Z",
     "iopub.status.busy": "2022-02-16T09:10:25.380695Z",
     "iopub.status.idle": "2022-02-16T09:10:25.387279Z",
     "shell.execute_reply": "2022-02-16T09:10:25.386274Z"
    },
    "papermill": {
     "duration": 0.167085,
     "end_time": "2022-02-16T09:10:25.387568",
     "exception": false,
     "start_time": "2022-02-16T09:10:25.220483",
     "status": "completed"
    },
    "tags": []
   },
   "outputs": [
    {
     "name": "stdout",
     "output_type": "stream",
     "text": [
      "7.0\n"
     ]
    }
   ],
   "source": [
    "g = HyperRectangleUtilityFunction(\n",
    "    outcome_ranges=[\n",
    "        None,\n",
    "        {0: (1.0, 2.0), 1: (1.0, 2.0)},\n",
    "        {0: (1.4, 2.0), 2: (2.0, 3.0)}\n",
    "    ], \n",
    "    utilities=[5.0, 2.0, lambda x: 2 * x[2] + x[0]], \n",
    "    ignore_failing_range_utilities=True, \n",
    "    ignore_issues_not_in_input=True\n",
    ")\n",
    "print(g([1.5, 1.5]))"
   ]
  },
  {
   "cell_type": "markdown",
   "id": "4baa358f",
   "metadata": {
    "papermill": {
     "duration": 0.10185,
     "end_time": "2022-02-16T09:10:25.595335",
     "exception": false,
     "start_time": "2022-02-16T09:10:25.493485",
     "status": "completed"
    },
    "tags": []
   },
   "source": [
    "### Nonlinear Hyper Rectangle Utility Functions\n",
    "`HyperVolumeUtilityFunction` should be able to handle most complex multi-issue utility evaluations but we provide a more general class called `NoneLinearHyperVolumeUtilityFunction` which replaces the simple weighted summation of local/global functions implemented in `HyperVolumeUtilityFunction` with a more general nonlinar mapping.\n",
    "\n",
    "The relation between `NoneLinearHyperVolumeUtilityFunction` and `HyperVolumeUtilityFunction` is exactly the same as that between `NonLinearAdditiveUtilityFunction`  and `LinearAdditiveUtilityFunction`"
   ]
  },
  {
   "cell_type": "markdown",
   "id": "5c5eb7b8",
   "metadata": {
    "papermill": {
     "duration": 0.093891,
     "end_time": "2022-02-16T09:10:25.776505",
     "exception": false,
     "start_time": "2022-02-16T09:10:25.682614",
     "status": "completed"
    },
    "tags": []
   },
   "source": [
    "## Other utility function types\n",
    "\n",
    "There are several other built-in utility function types in the utilities module. Operations for utility function serialization to and from xml as sell as normalization, finding pareto-frontier, generation of ufuns, etc are also available. Please check the documentation of the utilities module for more details"
   ]
  },
  {
   "cell_type": "code",
   "execution_count": 42,
   "id": "28a2b297",
   "metadata": {
    "execution": {
     "iopub.execute_input": "2022-02-16T09:10:25.985055Z",
     "iopub.status.busy": "2022-02-16T09:10:25.983868Z",
     "iopub.status.idle": "2022-02-16T09:10:25.987970Z",
     "shell.execute_reply": "2022-02-16T09:10:25.988845Z"
    },
    "papermill": {
     "duration": 0.123455,
     "end_time": "2022-02-16T09:10:25.989278",
     "exception": false,
     "start_time": "2022-02-16T09:10:25.865823",
     "status": "completed"
    },
    "tags": []
   },
   "outputs": [
    {
     "name": "stdout",
     "output_type": "stream",
     "text": [
      "['BaseUtilityFunction',\n",
      " 'UtilityFunction',\n",
      " 'ProbUtilityFunction',\n",
      " 'PresortingInverseUtilityFunction',\n",
      " 'SamplingInverseUtilityFunction',\n",
      " 'DiscountedUtilityFunction',\n",
      " 'ConstUtilityFunction',\n",
      " 'LinearUtilityAggregationFunction',\n",
      " 'LinearAdditiveUtilityFunction',\n",
      " 'LinearUtilityFunction',\n",
      " 'AffineUtilityFunction',\n",
      " 'MappingUtilityFunction',\n",
      " 'NonLinearAggregationUtilityFunction',\n",
      " 'HyperRectangleUtilityFunction',\n",
      " 'NonlinearHyperRectangleUtilityFunction',\n",
      " 'RandomUtilityFunction',\n",
      " 'RankOnlyUtilityFunction',\n",
      " 'ProbMappingUtilityFunction',\n",
      " 'IPUtilityFunction',\n",
      " 'ILSUtilityFunction',\n",
      " 'UniformUtilityFunction',\n",
      " 'ProbRandomUtilityFunction',\n",
      " 'WeightedUtilityFunction',\n",
      " 'ComplexNonlinearUtilityFunction']\n"
     ]
    }
   ],
   "source": [
    "from pprint import pprint\n",
    "pprint(list(_ for _ in negmas.preferences.__all__ if _.endswith(\"Function\")))"
   ]
  },
  {
   "cell_type": "markdown",
   "id": "120b91af",
   "metadata": {
    "papermill": {
     "duration": 0.140607,
     "end_time": "2022-02-16T09:10:26.227584",
     "exception": false,
     "start_time": "2022-02-16T09:10:26.086977",
     "status": "completed"
    },
    "tags": []
   },
   "source": [
    "## Utility Helpers and Analysis Tools\n",
    "\n",
    "NegMAS provides a set of functions that help with common tasks required while developing negotiation agents. These are some examples:\n",
    "\n",
    "* **pareto_frontier** Finds the pareto-frontier of a set of utility functions.\n",
    "* **make_discounted_ufun** Takes a utility function and returns one that is discounted (linearly and/or \n",
    "  exponentially).\n",
    "* **normalize** Normalizes a utility function within a given range.\n",
    "* **outcome_with_utility** Finds an outcome with a utility within some range.\n",
    "* **minmax** Finds the range of values of a utility function and outcomes with highest and lowest utilities."
   ]
  },
  {
   "cell_type": "markdown",
   "id": "b1b00116",
   "metadata": {
    "papermill": {
     "duration": 0.109638,
     "end_time": "2022-02-16T09:10:26.448375",
     "exception": false,
     "start_time": "2022-02-16T09:10:26.338737",
     "status": "completed"
    },
    "tags": []
   },
   "source": [
    "## Responses\n",
    "\n",
    "When negotiations are run, agents are allowed to respond to given offers for the final contract. An offer is simply an outcome (either complete or incomplete depending on the protocol but it is always valid). Negotiators can then respond with one of the values defined by the `Response` enumeration in the `outcomes` module. Currently these are:\n",
    "\n",
    "* **ACCEPT_OFFER** Accepts the offer.\n",
    "* **REJECT_OFFER** Rejects the offer.\n",
    "* **END_NEGOTIATION** This implies rejection of the offer and further more indicates that the agent is not willing to continue with the negotiation. The protocol is free to handle this situation. It may just end the negotiation with no agreement, may just remove the agent from the negotiation and keep it running with the remaining agents (if that makes sense) or just gives the agent a second chance by treating it as just a ``REJECT_OFFER`` case. In most case the first response (just end the negotiation) is expected.\n",
    "* **NO_RESPONSE** Making no response at all. This is usually not allowed by negotiation protocols and will be considered a protocol violation in most cases. Nevertheless, negotiation protocols are free to handle this response when it arise in any way.\n",
    "* **WAIT** Used to make the negotiation wait for a slow running process in one of the negotiators. This should never be returned from user code. It is used by some builtin controllers in the system to synchronize responses (e.g. ``SAOSyncController`` )"
   ]
  },
  {
   "cell_type": "markdown",
   "id": "cc90eb23",
   "metadata": {
    "papermill": {
     "duration": 0.105117,
     "end_time": "2022-02-16T09:10:26.651351",
     "exception": false,
     "start_time": "2022-02-16T09:10:26.546234",
     "status": "completed"
    },
    "tags": []
   },
   "source": [
    "## Rational Entities\n",
    "\n",
    "A `Rational` entity in NegMAS is an object that has an associated `UtilityFunction`. There are three types of `Rational` entities defined in the library:\n",
    "\n",
    "* **Negotiator** represents a negotiation agent that can interact with `Mechanism` objects (representing negotiation protocols) using a dedicated `AgentMechanismInterface` the defines public information of the mechanism. A negotiator is tied to a single negotiation. \n",
    "* **Agent** represents a more complex entity than a negotiation agent. It does not interact directly with negotiation protocols (i.e. it does not have an `AgentMechanismInterface`) and is needed when there is a need to adjust behavior in multiple negotiations and/or when there is a need to interact with a simulation or the real world (represented in negmas by a `World` object) through an `AgentWorldInterface`.\n",
    "* **Controller** A mid-level entity between `Negotiator` and `Agent`. It can *control* multiple negotiator objects at the same time but it cannot interact with mechanisms or worlds directly. Usually controllers are created by agents to manage a set of interrelated negotiations through dedicated negotiators in each of them.\n",
    "\n"
   ]
  },
  {
   "cell_type": "markdown",
   "id": "c155e128",
   "metadata": {
    "papermill": {
     "duration": 0.106279,
     "end_time": "2022-02-16T09:10:26.848998",
     "exception": false,
     "start_time": "2022-02-16T09:10:26.742719",
     "status": "completed"
    },
    "tags": []
   },
   "source": [
    "### Negotiators\n",
    "Negotiations are conducted by negotiators. We reserve the term ``Agent`` to more complex entities that can interact with a simulation or the real world and spawn ``Negotiator`` objects as needed (see the situated module documentation). The base ``Negotiator`` is implemented in the `negotiators` module. The design of this module tried to achieve maximum flexibility by relying mostly on Mixins instead of inheritance for adding functionality as will be described later.\n",
    "\n",
    "To build your negotiator, you need to inherit from a ``Negotiator`` suitable for the negotiation mechanism your negotiator is compatible with, implement its abstract functions.\n",
    "\n",
    "Negotiators related to a specific negotiation mechanism are implemented in that mechanism's module. For example, negotiators designed for the Stacked Alternating Offers Mechanism are found in the ``sao`` module."
   ]
  },
  {
   "cell_type": "markdown",
   "id": "e003afc6",
   "metadata": {
    "papermill": {
     "duration": 0.100597,
     "end_time": "2022-02-16T09:10:27.054888",
     "exception": false,
     "start_time": "2022-02-16T09:10:26.954291",
     "status": "completed"
    },
    "tags": []
   },
   "source": [
    "####  The Base Negotiator\n",
    "The base class of all negotiators is `Negotiator`. Negotiators define callbacks that are called by `Mechanism`s to implement the *negotiation protocol*.\n",
    "\n",
    "The base `Negotiator` class defines basic functionality including the ability to access the `Mechanism` settings in the form of an `AgentMechanismInterface` accessible through the `ami` attribute of the `Negotiator`.\n",
    "\n",
    "#### Genius Negotiator\n",
    "There is a special type of negotiators called ``GeniusNegotiator`` implemented in the ``genius`` module that is capable of interacting with negotiation sessions running in the genius platform (JVM). Please refer to the documentation of ``genius`` module for more information."
   ]
  },
  {
   "cell_type": "markdown",
   "id": "0770029f",
   "metadata": {
    "papermill": {
     "duration": 0.179029,
     "end_time": "2022-02-16T09:10:27.458690",
     "exception": false,
     "start_time": "2022-02-16T09:10:27.279661",
     "status": "completed"
    },
    "tags": []
   },
   "source": [
    "### Controller\n",
    "A `Controller` is an object that can control multiple negotiators either by taking full or partial control from the `Negotiator`s. By default, controllers will just resend all requests received to the corresponding negotiator. This means that if you do not override any methods in the controller, all negotiation related actions will still be handled by the `Negotiator`. To allow controllers to actually manage negotiations, a subclass of `Controller` needs to implement these actions without calling the base class's implementation.\n",
    "\n",
    "A special kind of negotiator called `ControlledNegotiator` is designed to work with controllers that take full responsibility of the negotiation. These negotiators act just as a relay station passing all requests from the mechanism object to the controller and all responses back. \n"
   ]
  },
  {
   "cell_type": "markdown",
   "id": "9874c783",
   "metadata": {
    "papermill": {
     "duration": 0.129792,
     "end_time": "2022-02-16T09:10:27.725154",
     "exception": false,
     "start_time": "2022-02-16T09:10:27.595362",
     "status": "completed"
    },
    "tags": []
   },
   "source": [
    "### Agents\n",
    "\n",
    "Self interested entities in NegMAS can be represented by either `Negotiator`s or `Agent`s. Use negotiators when a single negotiation session is involved, otherwise use an agent. Agents can own both negotiators and controllers (that manage negotiators) and can act in the `World` (simulated or real)."
   ]
  },
  {
   "cell_type": "markdown",
   "id": "01a09a8d",
   "metadata": {
    "papermill": {
     "duration": 0.112829,
     "end_time": "2022-02-16T09:10:27.986129",
     "exception": false,
     "start_time": "2022-02-16T09:10:27.873300",
     "status": "completed"
    },
    "tags": []
   },
   "source": [
    "## Putting Everything together\n",
    "\n",
    "Other than `Rational` objects, NegMAS defines two types of entities that orchestrate the interactions between `Rational` objects:\n",
    "\n",
    "* **Mechanisms** represent interaction protocols which can be negotiation protocols or auctions. A `Mechanism` object connects a set of `Negotiator`s and implements the interaction protocol. \n",
    "* **Worlds** represent either the real world or (usually) a simulation that connects `Agent`s together. `Agent`s can find each other using the world's `BulletinBoard` (or other mechanisms defined by the world simulation), they can act in the world, receive state from it and -- most importantly for our current purposes -- request/run negotiations involving other agents (through dedicated `Controller` and/or `Negotiator` objects). \n",
    "\n",
    "A picture is worth a thousand words. The following figure shows how all the classes we mentioned so far fit together\n",
    "<img src=\"figs/overview.png\">\n",
    "\n",
    "The most important points to notice about this figure are the following:\n",
    "\n",
    "* Almost all entities are `NamedObject`s which means they have a *user assigned* name used for debugging, printing, and logging, and a *system assigned* id used when programatically accessing the object. For example, agents request negotiations with other agents from the world using the partner's *id* not *name*.\n",
    "* `Controller` objects can access neither worlds nor mechanisms directly and they depend on agents to create them and on negotiators to negotiate for them.\n",
    "* A `UtilityFunction` in negmas is an active entity, it is not just a mathematical function but it can have state, access the mechanism state or settings (through its own `AgentMechanismInterface`) and can change its returned value for the same output during the negotiation. Ufuns need not be dyanmic in this sense but they can be.\n"
   ]
  },
  {
   "cell_type": "markdown",
   "id": "51fdb08f",
   "metadata": {
    "papermill": {
     "duration": 0.135151,
     "end_time": "2022-02-16T09:10:28.236849",
     "exception": false,
     "start_time": "2022-02-16T09:10:28.101698",
     "status": "completed"
    },
    "tags": []
   },
   "source": [
    "## Mechanisms (Negotiations)\n",
    "The base ``Mechanism`` class is implemented in the `mechanisms` module.\n",
    "\n",
    "All protocols in the package inherit from the `Protocol` class and provide the following basic functionalities:\n",
    "\n",
    "* checking `capabilities` of agents against `requirements` of the protocol\n",
    "* allowing agents to be join and leave the negotiation under the control of the underlying protocol. For example the protocol may allow or disallow agents from entering the negotiation once it started, it may allow or disallow modifying the issues being negotiated, may allow only a predefined maximum and minimum number of agents to engage in the negotiation. All of this is controlled through parameters to the protocol initializer.\n",
    "* provide the basic flow of protocols so that new protocols can be implemented by just overriding a single `round()` function.\n",
    "* provide basic callbacks that can be extended by new protocols.\n",
    "<div class=\"alert alert-block alert-warning\"><b>\n",
    "Protocols must extend any callback (i.e. call the `super()` version) instead of overriding them as they may do some actions to ensure correct processing.\n",
    "    </b></div>\n",
    "    \n",
    "\n",
    "The simplest way to use a protocol is to just run one of the already provided protocols. This is an example of a full negotiation session:"
   ]
  },
  {
   "cell_type": "code",
   "execution_count": 43,
   "id": "2f04d11f",
   "metadata": {
    "execution": {
     "iopub.execute_input": "2022-02-16T09:10:28.450139Z",
     "iopub.status.busy": "2022-02-16T09:10:28.448582Z",
     "iopub.status.idle": "2022-02-16T09:10:28.454407Z",
     "shell.execute_reply": "2022-02-16T09:10:28.453456Z"
    },
    "papermill": {
     "duration": 0.113896,
     "end_time": "2022-02-16T09:10:28.454792",
     "exception": false,
     "start_time": "2022-02-16T09:10:28.340896",
     "status": "completed"
    },
    "tags": []
   },
   "outputs": [
    {
     "data": {
      "text/plain": [
       "(3,)"
      ]
     },
     "execution_count": 43,
     "metadata": {},
     "output_type": "execute_result"
    }
   ],
   "source": [
    "p = SAOMechanism(outcomes = 6, n_steps = 10)\n",
    "p.add(LimitedOutcomesNegotiator(name='seller', acceptable_outcomes=[(2,), (3,), (5,)]))\n",
    "p.add(LimitedOutcomesNegotiator(name='buyer', acceptable_outcomes=[(1,), (4,), (3,)]))\n",
    "state = p.run()\n",
    "p.state.agreement"
   ]
  },
  {
   "cell_type": "markdown",
   "id": "f1e185c8",
   "metadata": {
    "papermill": {
     "duration": 0.15512,
     "end_time": "2022-02-16T09:10:28.778211",
     "exception": false,
     "start_time": "2022-02-16T09:10:28.623091",
     "status": "completed"
    },
    "tags": []
   },
   "source": [
    "You can create a new protocol by overriding a single function in the `Protocol` class. \n",
    "\n",
    "The built-in `SAOMechanism` calls negotiators sequentially. Let's implement a simplified similar protocol that asks *all* negotiators to respond to every offer in parallel. "
   ]
  },
  {
   "cell_type": "code",
   "execution_count": 44,
   "id": "6cc1a2af",
   "metadata": {
    "execution": {
     "iopub.execute_input": "2022-02-16T09:10:29.165076Z",
     "iopub.status.busy": "2022-02-16T09:10:29.163720Z",
     "iopub.status.idle": "2022-02-16T09:10:29.180443Z",
     "shell.execute_reply": "2022-02-16T09:10:29.182863Z"
    },
    "papermill": {
     "duration": 0.170475,
     "end_time": "2022-02-16T09:10:29.183359",
     "exception": false,
     "start_time": "2022-02-16T09:10:29.012884",
     "status": "completed"
    },
    "tags": []
   },
   "outputs": [],
   "source": [
    "from concurrent.futures import ThreadPoolExecutor\n",
    "class ParallelResponseMechanism(Mechanism):\n",
    "    def __init__(self, *args, **kwargs):\n",
    "        super().__init__(*args, **kwargs)\n",
    "        self.current_offer = None\n",
    "        self.current_offerer = -1\n",
    "\n",
    "    def round(self):\n",
    "        n_agents = len(self.negotiators)\n",
    "        current = self.negotiators[(self.current_offerer + 1) % n_agents]\n",
    "        self.current_offer = current.propose(self.state)\n",
    "        \n",
    "        def get_response(negotiator, offer=self.current_offer, \n",
    "                         state=self.state):\n",
    "            return negotiator.respond(state, offer)\n",
    "        \n",
    "        with ThreadPoolExecutor(4) as executor:\n",
    "            responses = executor.map(get_response, self.negotiators)\n",
    "        self.current_offerer = (self.current_offerer + 1) % n_agents\n",
    "        if all(_== ResponseType.ACCEPT_OFFER for _ in responses):\n",
    "            return MechanismRoundResult(agreement=self.current_offer)\n",
    "        if any(_== ResponseType.END_NEGOTIATION for _ in responses):\n",
    "            return MechanismRoundResult(broken=True)        \n",
    "        return MechanismRoundResult()\n"
   ]
  },
  {
   "cell_type": "markdown",
   "id": "96ddb3a7",
   "metadata": {
    "papermill": {
     "duration": 0.10143,
     "end_time": "2022-02-16T09:10:29.411933",
     "exception": false,
     "start_time": "2022-02-16T09:10:29.310503",
     "status": "completed"
    },
    "tags": []
   },
   "source": [
    "We needed only to override the `round` method which defines one round of the negotiation.\n",
    "The protocol goes as follows:\n",
    "\n",
    "1. Ask the next negotiator to propose.\n",
    "2. Get the response of all negotiators (using the thread-pool)\n",
    "3. If all negotiators accept the current offer, return it as the agreement\n",
    "4. Otherwise, if any negotiators responded with END_NEGOTIATION, break the negotiation\n",
    "5. Otherwise, change the next negotiator and return.\n",
    "\n",
    "Note that we did not need to take care of timeouts because they are handled by the base `Mechanism` class. Nor did we need to handle adding agents to the negotiation, removing them (for dynamic protocols), checking for errors, etc. \n",
    "\n",
    "Agents can now engage in interactions with this protocol as easily as any built-in protocol:"
   ]
  },
  {
   "cell_type": "code",
   "execution_count": 45,
   "id": "9a46c5cc",
   "metadata": {
    "execution": {
     "iopub.execute_input": "2022-02-16T09:10:29.633426Z",
     "iopub.status.busy": "2022-02-16T09:10:29.632378Z",
     "iopub.status.idle": "2022-02-16T09:10:29.639825Z",
     "shell.execute_reply": "2022-02-16T09:10:29.640965Z"
    },
    "papermill": {
     "duration": 0.132052,
     "end_time": "2022-02-16T09:10:29.641319",
     "exception": false,
     "start_time": "2022-02-16T09:10:29.509267",
     "status": "completed"
    },
    "tags": []
   },
   "outputs": [
    {
     "data": {
      "text/plain": [
       "(3,)"
      ]
     },
     "execution_count": 45,
     "metadata": {},
     "output_type": "execute_result"
    }
   ],
   "source": [
    "p = ParallelResponseMechanism(outcomes = 6, n_steps = 10)\n",
    "p.add(LimitedOutcomesNegotiator(name='seller', acceptable_outcomes=[(2,), (3,), (5,)]))\n",
    "p.add(LimitedOutcomesNegotiator(name='buyer', acceptable_outcomes=[(1,), (4,), (3,)]))\n",
    "state = p.run()\n",
    "p.state.agreement"
   ]
  },
  {
   "cell_type": "markdown",
   "id": "5638e119",
   "metadata": {
    "papermill": {
     "duration": 0.12637,
     "end_time": "2022-02-16T09:10:29.883566",
     "exception": false,
     "start_time": "2022-02-16T09:10:29.757196",
     "status": "completed"
    },
    "tags": []
   },
   "source": [
    "The negotiation ran with the expected results\n"
   ]
  },
  {
   "cell_type": "markdown",
   "id": "eaf789db",
   "metadata": {
    "papermill": {
     "duration": 0.103944,
     "end_time": "2022-02-16T09:10:30.099209",
     "exception": false,
     "start_time": "2022-02-16T09:10:29.995265",
     "status": "completed"
    },
    "tags": []
   },
   "source": [
    "Our mechanism keeps a history in the form of a list of `MechanismState` objects (on per round). Let's check it:"
   ]
  },
  {
   "cell_type": "code",
   "execution_count": 46,
   "id": "1a82160c",
   "metadata": {
    "execution": {
     "iopub.execute_input": "2022-02-16T09:10:30.468877Z",
     "iopub.status.busy": "2022-02-16T09:10:30.465696Z",
     "iopub.status.idle": "2022-02-16T09:10:30.529059Z",
     "shell.execute_reply": "2022-02-16T09:10:30.530192Z"
    },
    "papermill": {
     "duration": 0.297257,
     "end_time": "2022-02-16T09:10:30.530986",
     "exception": false,
     "start_time": "2022-02-16T09:10:30.233729",
     "status": "completed"
    },
    "tags": []
   },
   "outputs": [
    {
     "data": {
      "text/html": [
       "<div>\n",
       "<style scoped>\n",
       "    .dataframe tbody tr th:only-of-type {\n",
       "        vertical-align: middle;\n",
       "    }\n",
       "\n",
       "    .dataframe tbody tr th {\n",
       "        vertical-align: top;\n",
       "    }\n",
       "\n",
       "    .dataframe thead th {\n",
       "        text-align: right;\n",
       "    }\n",
       "</style>\n",
       "<table border=\"1\" class=\"dataframe\">\n",
       "  <thead>\n",
       "    <tr style=\"text-align: right;\">\n",
       "      <th></th>\n",
       "      <th>running</th>\n",
       "      <th>waiting</th>\n",
       "      <th>started</th>\n",
       "      <th>step</th>\n",
       "      <th>time</th>\n",
       "      <th>relative_time</th>\n",
       "      <th>broken</th>\n",
       "      <th>timedout</th>\n",
       "      <th>agreement</th>\n",
       "      <th>results</th>\n",
       "      <th>n_negotiators</th>\n",
       "      <th>has_error</th>\n",
       "      <th>error_details</th>\n",
       "    </tr>\n",
       "  </thead>\n",
       "  <tbody>\n",
       "    <tr>\n",
       "      <th>0</th>\n",
       "      <td>True</td>\n",
       "      <td>False</td>\n",
       "      <td>True</td>\n",
       "      <td>0</td>\n",
       "      <td>0.000777</td>\n",
       "      <td>0.090909</td>\n",
       "      <td>False</td>\n",
       "      <td>False</td>\n",
       "      <td>None</td>\n",
       "      <td>None</td>\n",
       "      <td>2</td>\n",
       "      <td>False</td>\n",
       "      <td></td>\n",
       "    </tr>\n",
       "    <tr>\n",
       "      <th>1</th>\n",
       "      <td>True</td>\n",
       "      <td>False</td>\n",
       "      <td>True</td>\n",
       "      <td>1</td>\n",
       "      <td>0.001374</td>\n",
       "      <td>0.181818</td>\n",
       "      <td>False</td>\n",
       "      <td>False</td>\n",
       "      <td>None</td>\n",
       "      <td>None</td>\n",
       "      <td>2</td>\n",
       "      <td>False</td>\n",
       "      <td></td>\n",
       "    </tr>\n",
       "    <tr>\n",
       "      <th>2</th>\n",
       "      <td>False</td>\n",
       "      <td>False</td>\n",
       "      <td>True</td>\n",
       "      <td>2</td>\n",
       "      <td>0.001986</td>\n",
       "      <td>0.272727</td>\n",
       "      <td>False</td>\n",
       "      <td>False</td>\n",
       "      <td>(3,)</td>\n",
       "      <td>None</td>\n",
       "      <td>2</td>\n",
       "      <td>False</td>\n",
       "      <td></td>\n",
       "    </tr>\n",
       "  </tbody>\n",
       "</table>\n",
       "</div>"
      ],
      "text/plain": [
       "   running  waiting  started  step      time  relative_time  broken  timedout  \\\n",
       "0     True    False     True     0  0.000777       0.090909   False     False   \n",
       "1     True    False     True     1  0.001374       0.181818   False     False   \n",
       "2    False    False     True     2  0.001986       0.272727   False     False   \n",
       "\n",
       "  agreement results  n_negotiators  has_error error_details  \n",
       "0      None    None              2      False                \n",
       "1      None    None              2      False                \n",
       "2      (3,)    None              2      False                "
      ]
     },
     "execution_count": 46,
     "metadata": {},
     "output_type": "execute_result"
    }
   ],
   "source": [
    "import pandas as pd \n",
    "pd.DataFrame([vars(_) for _ in p.history])"
   ]
  },
  {
   "cell_type": "markdown",
   "id": "1f1a40cd",
   "metadata": {
    "papermill": {
     "duration": 0.158412,
     "end_time": "2022-02-16T09:10:30.822392",
     "exception": false,
     "start_time": "2022-02-16T09:10:30.663980",
     "status": "completed"
    },
    "tags": []
   },
   "source": [
    "We can see that the negotiation did not time-out, and that the final agreement was `(3,)` but that is hardly useful. It will be much better if we can also see the offers exchanged and who offered them. \n",
    "\n",
    "To do that we need to *augment* the mechanism state. NegMAS defines an easy way to do that by defining a new `MechanismState` type and filling it in the mechanism:"
   ]
  },
  {
   "cell_type": "code",
   "execution_count": 47,
   "id": "66bc4283",
   "metadata": {
    "execution": {
     "iopub.execute_input": "2022-02-16T09:10:31.183254Z",
     "iopub.status.busy": "2022-02-16T09:10:31.179393Z",
     "iopub.status.idle": "2022-02-16T09:10:31.188747Z",
     "shell.execute_reply": "2022-02-16T09:10:31.186302Z"
    },
    "papermill": {
     "duration": 0.210542,
     "end_time": "2022-02-16T09:10:31.189458",
     "exception": false,
     "start_time": "2022-02-16T09:10:30.978916",
     "status": "completed"
    },
    "tags": []
   },
   "outputs": [],
   "source": [
    "from dataclasses import dataclass\n",
    "\n",
    "@dataclass\n",
    "class MyState(MechanismState):\n",
    "    current_offer: Outcome = None\n",
    "    current_offerer: str = \"none\"\n",
    "\n",
    "class NewParallelResponseMechanism(ParallelResponseMechanism):\n",
    "    \n",
    "    def __init__(self, *args, **kwargs):\n",
    "        kwargs['state_factory'] = MyState\n",
    "        super().__init__(*args, **kwargs)\n",
    "        \n",
    "    def extra_state(self):\n",
    "        if self.current_offerer >= 0:\n",
    "            current = self.negotiators[self.current_offerer].name\n",
    "        else:\n",
    "            current = \"none\"\n",
    "        return dict(\n",
    "            current_offer = self.current_offer,\n",
    "            current_offerer = current\n",
    "        )\n",
    "    "
   ]
  },
  {
   "cell_type": "markdown",
   "id": "24a31274",
   "metadata": {
    "papermill": {
     "duration": 0.158265,
     "end_time": "2022-02-16T09:10:31.558666",
     "exception": false,
     "start_time": "2022-02-16T09:10:31.400401",
     "status": "completed"
    },
    "tags": []
   },
   "source": [
    "That is all. We just needed to define our new state type, set the state_factory of the mechanism to it and define how to fill it in the `extra_state` method. Now it is possible to use this mechanism as we did previously"
   ]
  },
  {
   "cell_type": "code",
   "execution_count": 48,
   "id": "9c106038",
   "metadata": {
    "execution": {
     "iopub.execute_input": "2022-02-16T09:10:31.890263Z",
     "iopub.status.busy": "2022-02-16T09:10:31.887741Z",
     "iopub.status.idle": "2022-02-16T09:10:31.896101Z",
     "shell.execute_reply": "2022-02-16T09:10:31.892686Z"
    },
    "papermill": {
     "duration": 0.199664,
     "end_time": "2022-02-16T09:10:31.896581",
     "exception": false,
     "start_time": "2022-02-16T09:10:31.696917",
     "status": "completed"
    },
    "tags": []
   },
   "outputs": [
    {
     "name": "stdout",
     "output_type": "stream",
     "text": [
      "Agreement: (3,)\n"
     ]
    }
   ],
   "source": [
    "p = NewParallelResponseMechanism(outcomes = 6, n_steps = 10)\n",
    "p.add(LimitedOutcomesNegotiator(name='seller', acceptable_outcomes=[(2,), (3,), (5,)]))\n",
    "p.add(LimitedOutcomesNegotiator(name='buyer', acceptable_outcomes=[(1,), (4,), (3,)]))\n",
    "p.run()\n",
    "print(f\"Agreement: {p.state.agreement}\")"
   ]
  },
  {
   "cell_type": "markdown",
   "id": "5fff21d4",
   "metadata": {
    "papermill": {
     "duration": 0.182133,
     "end_time": "2022-02-16T09:10:32.292112",
     "exception": false,
     "start_time": "2022-02-16T09:10:32.109979",
     "status": "completed"
    },
    "tags": []
   },
   "source": [
    "We can now check the history again (showing few of the attributes only) to confirm that the current offer and its source are stored."
   ]
  },
  {
   "cell_type": "code",
   "execution_count": 49,
   "id": "49e61167",
   "metadata": {
    "execution": {
     "iopub.execute_input": "2022-02-16T09:10:32.595987Z",
     "iopub.status.busy": "2022-02-16T09:10:32.594775Z",
     "iopub.status.idle": "2022-02-16T09:10:32.598518Z",
     "shell.execute_reply": "2022-02-16T09:10:32.598986Z"
    },
    "papermill": {
     "duration": 0.1548,
     "end_time": "2022-02-16T09:10:32.599176",
     "exception": false,
     "start_time": "2022-02-16T09:10:32.444376",
     "status": "completed"
    },
    "tags": []
   },
   "outputs": [
    {
     "data": {
      "text/html": [
       "<div>\n",
       "<style scoped>\n",
       "    .dataframe tbody tr th:only-of-type {\n",
       "        vertical-align: middle;\n",
       "    }\n",
       "\n",
       "    .dataframe tbody tr th {\n",
       "        vertical-align: top;\n",
       "    }\n",
       "\n",
       "    .dataframe thead th {\n",
       "        text-align: right;\n",
       "    }\n",
       "</style>\n",
       "<table border=\"1\" class=\"dataframe\">\n",
       "  <thead>\n",
       "    <tr style=\"text-align: right;\">\n",
       "      <th></th>\n",
       "      <th>step</th>\n",
       "      <th>agreement</th>\n",
       "      <th>relative_time</th>\n",
       "      <th>timedout</th>\n",
       "      <th>broken</th>\n",
       "      <th>current_offer</th>\n",
       "      <th>current_offerer</th>\n",
       "    </tr>\n",
       "  </thead>\n",
       "  <tbody>\n",
       "    <tr>\n",
       "      <th>0</th>\n",
       "      <td>0</td>\n",
       "      <td>None</td>\n",
       "      <td>0.090909</td>\n",
       "      <td>False</td>\n",
       "      <td>False</td>\n",
       "      <td>(2,)</td>\n",
       "      <td>seller</td>\n",
       "    </tr>\n",
       "    <tr>\n",
       "      <th>1</th>\n",
       "      <td>1</td>\n",
       "      <td>(3,)</td>\n",
       "      <td>0.181818</td>\n",
       "      <td>False</td>\n",
       "      <td>False</td>\n",
       "      <td>(3,)</td>\n",
       "      <td>buyer</td>\n",
       "    </tr>\n",
       "  </tbody>\n",
       "</table>\n",
       "</div>"
      ],
      "text/plain": [
       "   step agreement  relative_time  timedout  broken current_offer  \\\n",
       "0     0      None       0.090909     False   False          (2,)   \n",
       "1     1      (3,)       0.181818     False   False          (3,)   \n",
       "\n",
       "  current_offerer  \n",
       "0          seller  \n",
       "1           buyer  "
      ]
     },
     "execution_count": 49,
     "metadata": {},
     "output_type": "execute_result"
    }
   ],
   "source": [
    "def show_history(p):\n",
    "    \"\"\"Returns a Pandas Dataframe with the negotiation history\"\"\"\n",
    "    return pd.DataFrame([\n",
    "        dict(\n",
    "            step=_.step, \n",
    "            agreement=_.agreement,\n",
    "            relative_time=_.relative_time,\n",
    "            timedout=_.timedout,\n",
    "            broken=_.broken,\n",
    "            current_offer=_.current_offer, \n",
    "            current_offerer=_.current_offerer\n",
    "        ) \n",
    "        for _ in p.history])\n",
    "show_history(p)"
   ]
  },
  {
   "cell_type": "markdown",
   "id": "42774303",
   "metadata": {
    "papermill": {
     "duration": 0.099347,
     "end_time": "2022-02-16T09:10:32.794223",
     "exception": false,
     "start_time": "2022-02-16T09:10:32.694876",
     "status": "completed"
    },
    "tags": []
   },
   "source": [
    "Let's see what happens if agreement is impossible (no intersection of acceptable outcomes in our case):"
   ]
  },
  {
   "cell_type": "code",
   "execution_count": 50,
   "id": "b3ac7d4c",
   "metadata": {
    "execution": {
     "iopub.execute_input": "2022-02-16T09:10:33.046688Z",
     "iopub.status.busy": "2022-02-16T09:10:33.045140Z",
     "iopub.status.idle": "2022-02-16T09:10:33.064285Z",
     "shell.execute_reply": "2022-02-16T09:10:33.063475Z"
    },
    "papermill": {
     "duration": 0.1678,
     "end_time": "2022-02-16T09:10:33.064528",
     "exception": false,
     "start_time": "2022-02-16T09:10:32.896728",
     "status": "completed"
    },
    "tags": []
   },
   "outputs": [
    {
     "name": "stdout",
     "output_type": "stream",
     "text": [
      "Agreement: None\n"
     ]
    },
    {
     "data": {
      "text/html": [
       "<div>\n",
       "<style scoped>\n",
       "    .dataframe tbody tr th:only-of-type {\n",
       "        vertical-align: middle;\n",
       "    }\n",
       "\n",
       "    .dataframe tbody tr th {\n",
       "        vertical-align: top;\n",
       "    }\n",
       "\n",
       "    .dataframe thead th {\n",
       "        text-align: right;\n",
       "    }\n",
       "</style>\n",
       "<table border=\"1\" class=\"dataframe\">\n",
       "  <thead>\n",
       "    <tr style=\"text-align: right;\">\n",
       "      <th></th>\n",
       "      <th>step</th>\n",
       "      <th>agreement</th>\n",
       "      <th>relative_time</th>\n",
       "      <th>timedout</th>\n",
       "      <th>broken</th>\n",
       "      <th>current_offer</th>\n",
       "      <th>current_offerer</th>\n",
       "    </tr>\n",
       "  </thead>\n",
       "  <tbody>\n",
       "    <tr>\n",
       "      <th>0</th>\n",
       "      <td>0</td>\n",
       "      <td>None</td>\n",
       "      <td>0.142857</td>\n",
       "      <td>False</td>\n",
       "      <td>False</td>\n",
       "      <td>(5,)</td>\n",
       "      <td>seller</td>\n",
       "    </tr>\n",
       "    <tr>\n",
       "      <th>1</th>\n",
       "      <td>1</td>\n",
       "      <td>None</td>\n",
       "      <td>0.285714</td>\n",
       "      <td>False</td>\n",
       "      <td>False</td>\n",
       "      <td>(1,)</td>\n",
       "      <td>buyer</td>\n",
       "    </tr>\n",
       "    <tr>\n",
       "      <th>2</th>\n",
       "      <td>2</td>\n",
       "      <td>None</td>\n",
       "      <td>0.428571</td>\n",
       "      <td>False</td>\n",
       "      <td>False</td>\n",
       "      <td>(5,)</td>\n",
       "      <td>seller</td>\n",
       "    </tr>\n",
       "    <tr>\n",
       "      <th>3</th>\n",
       "      <td>3</td>\n",
       "      <td>None</td>\n",
       "      <td>0.571429</td>\n",
       "      <td>False</td>\n",
       "      <td>False</td>\n",
       "      <td>(3,)</td>\n",
       "      <td>buyer</td>\n",
       "    </tr>\n",
       "    <tr>\n",
       "      <th>4</th>\n",
       "      <td>4</td>\n",
       "      <td>None</td>\n",
       "      <td>0.714286</td>\n",
       "      <td>False</td>\n",
       "      <td>False</td>\n",
       "      <td>(2,)</td>\n",
       "      <td>seller</td>\n",
       "    </tr>\n",
       "    <tr>\n",
       "      <th>5</th>\n",
       "      <td>5</td>\n",
       "      <td>None</td>\n",
       "      <td>0.857143</td>\n",
       "      <td>False</td>\n",
       "      <td>False</td>\n",
       "      <td>(3,)</td>\n",
       "      <td>buyer</td>\n",
       "    </tr>\n",
       "  </tbody>\n",
       "</table>\n",
       "</div>"
      ],
      "text/plain": [
       "   step agreement  relative_time  timedout  broken current_offer  \\\n",
       "0     0      None       0.142857     False   False          (5,)   \n",
       "1     1      None       0.285714     False   False          (1,)   \n",
       "2     2      None       0.428571     False   False          (5,)   \n",
       "3     3      None       0.571429     False   False          (3,)   \n",
       "4     4      None       0.714286     False   False          (2,)   \n",
       "5     5      None       0.857143     False   False          (3,)   \n",
       "\n",
       "  current_offerer  \n",
       "0          seller  \n",
       "1           buyer  \n",
       "2          seller  \n",
       "3           buyer  \n",
       "4          seller  \n",
       "5           buyer  "
      ]
     },
     "execution_count": 50,
     "metadata": {},
     "output_type": "execute_result"
    }
   ],
   "source": [
    "p = NewParallelResponseMechanism(outcomes = 6, n_steps = 6)\n",
    "p.add(LimitedOutcomesNegotiator(name='seller', acceptable_outcomes=[(2,), (0,), (5,)]))\n",
    "p.add(LimitedOutcomesNegotiator(name='buyer', acceptable_outcomes=[(1,), (4,), (3,)]))\n",
    "p.run()\n",
    "print(f\"Agreement: {p.state.agreement}\")\n",
    "show_history(p)"
   ]
  },
  {
   "cell_type": "markdown",
   "id": "38c5b569",
   "metadata": {
    "papermill": {
     "duration": 0.12522,
     "end_time": "2022-02-16T09:10:33.328023",
     "exception": false,
     "start_time": "2022-02-16T09:10:33.202803",
     "status": "completed"
    },
    "tags": []
   },
   "source": [
    "As expected, the negotiation timed out. Let's try to make it possible for the agents to agree by providing a common outcome that they may agree upon:"
   ]
  },
  {
   "cell_type": "code",
   "execution_count": 51,
   "id": "a0946c1b",
   "metadata": {
    "execution": {
     "iopub.execute_input": "2022-02-16T09:10:33.628345Z",
     "iopub.status.busy": "2022-02-16T09:10:33.614312Z",
     "iopub.status.idle": "2022-02-16T09:10:33.638133Z",
     "shell.execute_reply": "2022-02-16T09:10:33.635053Z"
    },
    "papermill": {
     "duration": 0.210583,
     "end_time": "2022-02-16T09:10:33.638912",
     "exception": false,
     "start_time": "2022-02-16T09:10:33.428329",
     "status": "completed"
    },
    "tags": []
   },
   "outputs": [
    {
     "name": "stdout",
     "output_type": "stream",
     "text": [
      "Agreement: (3,)\n"
     ]
    },
    {
     "data": {
      "text/html": [
       "<div>\n",
       "<style scoped>\n",
       "    .dataframe tbody tr th:only-of-type {\n",
       "        vertical-align: middle;\n",
       "    }\n",
       "\n",
       "    .dataframe tbody tr th {\n",
       "        vertical-align: top;\n",
       "    }\n",
       "\n",
       "    .dataframe thead th {\n",
       "        text-align: right;\n",
       "    }\n",
       "</style>\n",
       "<table border=\"1\" class=\"dataframe\">\n",
       "  <thead>\n",
       "    <tr style=\"text-align: right;\">\n",
       "      <th></th>\n",
       "      <th>step</th>\n",
       "      <th>agreement</th>\n",
       "      <th>relative_time</th>\n",
       "      <th>timedout</th>\n",
       "      <th>broken</th>\n",
       "      <th>current_offer</th>\n",
       "      <th>current_offerer</th>\n",
       "    </tr>\n",
       "  </thead>\n",
       "  <tbody>\n",
       "    <tr>\n",
       "      <th>0</th>\n",
       "      <td>0</td>\n",
       "      <td>(3,)</td>\n",
       "      <td>0.142857</td>\n",
       "      <td>False</td>\n",
       "      <td>False</td>\n",
       "      <td>(3,)</td>\n",
       "      <td>seller</td>\n",
       "    </tr>\n",
       "  </tbody>\n",
       "</table>\n",
       "</div>"
      ],
      "text/plain": [
       "   step agreement  relative_time  timedout  broken current_offer  \\\n",
       "0     0      (3,)       0.142857     False   False          (3,)   \n",
       "\n",
       "  current_offerer  \n",
       "0          seller  "
      ]
     },
     "execution_count": 51,
     "metadata": {},
     "output_type": "execute_result"
    }
   ],
   "source": [
    "p = NewParallelResponseMechanism(outcomes = 6, n_steps = 6)\n",
    "p.add(LimitedOutcomesNegotiator(name='seller', acceptable_outcomes=[(3,), (0,), (5,)]))\n",
    "p.add(LimitedOutcomesNegotiator(name='buyer', acceptable_outcomes=[(1,), (4,), (3,)]))\n",
    "p.run()\n",
    "print(f\"Agreement: {p.state.agreement}\")\n",
    "show_history(p)"
   ]
  },
  {
   "cell_type": "markdown",
   "id": "efe4f5ca",
   "metadata": {
    "papermill": {
     "duration": 0.160198,
     "end_time": "2022-02-16T09:10:33.967318",
     "exception": false,
     "start_time": "2022-02-16T09:10:33.807120",
     "status": "completed"
    },
    "tags": []
   },
   "source": [
    "We got an agreement again as expected.\n",
    "\n",
    "## Worlds (Simulations)\n",
    "\n",
    "A world in NegMAS is what connects all agents together. It has a `simulation_step` that is used to run a simulation (or update the state from the real world) and manages creation and destruction of `AgentWorldInterface`s (AWI) and connecting them to `Agent`s. \n",
    "\n",
    "`Agent`s can join and leave worlds using the `join` and `leave` methods and can interact with it through their AWI.\n",
    "\n",
    "To create a new world type, you need to override a single method (`simulation_step`) in the base `World` class to define your simulation. Most likely you will also need to define a base `Agent` inherited class that is capable of interacting with this world and a corresponding `AgentWorldInterface`. \n",
    "\n",
    "You can see an example of a world simulation in the tutorials."
   ]
  }
 ],
 "metadata": {
  "celltoolbar": "Tags",
  "kernelspec": {
   "display_name": "Python 3 (ipykernel)",
   "language": "python",
   "name": "python3"
  },
  "language_info": {
   "codemirror_mode": {
    "name": "ipython",
    "version": 3
   },
   "file_extension": ".py",
   "mimetype": "text/x-python",
   "name": "python",
   "nbconvert_exporter": "python",
   "pygments_lexer": "ipython3",
   "version": "3.9.2"
  },
  "papermill": {
   "default_parameters": {},
   "duration": 36.861755,
   "end_time": "2022-02-16T09:10:34.811373",
   "environment_variables": {},
   "exception": null,
   "input_path": "/Users/yasser/code/projects/negmas/notebooks/overview.ipynb",
   "output_path": "/Users/yasser/code/projects/negmas/notebooks/overview.ipynb",
   "parameters": {},
   "start_time": "2022-02-16T09:09:57.949618",
   "version": "2.3.4"
  },
  "toc": {
   "base_numbering": 1,
   "nav_menu": {},
   "number_sections": true,
   "sideBar": true,
   "skip_h1_title": false,
   "title_cell": "Table of Contents",
   "title_sidebar": "Contents",
   "toc_cell": false,
   "toc_position": {},
   "toc_section_display": true,
   "toc_window_display": false
  }
 },
 "nbformat": 4,
 "nbformat_minor": 5
}
