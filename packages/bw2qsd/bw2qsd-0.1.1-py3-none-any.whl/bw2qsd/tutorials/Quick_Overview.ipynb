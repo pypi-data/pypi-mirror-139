{
 "cells": [
  {
   "cell_type": "markdown",
   "id": "ruled-oliver",
   "metadata": {},
   "source": [
    "# Quick Overview <a class=\"anchor\" id=\"top\"></a>\n",
    "\n",
    "- **Prepared by:**\n",
    "\n",
    "    - [Yalin Li](https://qsdsan.readthedocs.io/en/latest/authors/Yalin_Li.html)\n",
    "\n",
    "- **Covered topics:**\n",
    "\n",
    "    - [1. Introduction and Installation](#s1)\n",
    "    - [2. Download External Databases](#s2)\n",
    "    - [3. Get Characterization Factors](#s3)"
   ]
  },
  {
   "cell_type": "code",
   "execution_count": 1,
   "id": "dc56e2b3",
   "metadata": {},
   "outputs": [],
   "source": [
    "# To change directory to the cloned bw2qsd (as opposed to the pip installed version)\n",
    "# import os\n",
    "# path = os.path.realpath('')+'/../'\n",
    "# os.chdir(path)"
   ]
  },
  {
   "cell_type": "code",
   "execution_count": 2,
   "id": "69b4d50e",
   "metadata": {},
   "outputs": [
    {
     "ename": "ImportError",
     "evalue": "cannot import name 'eidl' from partially initialized module 'bw2qsd' (most likely due to a circular import) (/Users/yalinli_cabbi/opt/anaconda3/envs/bw2/lib/python3.8/site-packages/bw2qsd/__init__.py)",
     "output_type": "error",
     "traceback": [
      "\u001b[0;31m---------------------------------------------------------------------------\u001b[0m",
      "\u001b[0;31mImportError\u001b[0m                               Traceback (most recent call last)",
      "\u001b[0;32m/var/folders/m0/nkxljwvx1nlg1hw9npshjgm40000gn/T/ipykernel_80654/2137823144.py\u001b[0m in \u001b[0;36m<module>\u001b[0;34m\u001b[0m\n\u001b[0;32m----> 1\u001b[0;31m \u001b[0;32mimport\u001b[0m \u001b[0mbw2qsd\u001b[0m \u001b[0;32mas\u001b[0m \u001b[0mbq\u001b[0m\u001b[0;34m\u001b[0m\u001b[0;34m\u001b[0m\u001b[0m\n\u001b[0m\u001b[1;32m      2\u001b[0m print(f'This tutorial was made with bw2qsd v{bq.__version__} '\n\u001b[1;32m      3\u001b[0m       f'and brightway2 v{bq.bw2_version}.')\n",
      "\u001b[0;32m~/opt/anaconda3/envs/bw2/lib/python3.8/site-packages/bw2qsd/__init__.py\u001b[0m in \u001b[0;36m<module>\u001b[0;34m\u001b[0m\n\u001b[1;32m     63\u001b[0m \u001b[0;34m\u001b[0m\u001b[0m\n\u001b[1;32m     64\u001b[0m \u001b[0;32mfrom\u001b[0m \u001b[0;34m.\u001b[0m\u001b[0mutils\u001b[0m \u001b[0;32mimport\u001b[0m \u001b[0;34m*\u001b[0m\u001b[0;34m\u001b[0m\u001b[0;34m\u001b[0m\u001b[0m\n\u001b[0;32m---> 65\u001b[0;31m \u001b[0;32mfrom\u001b[0m \u001b[0;34m.\u001b[0m\u001b[0m_db_downloader\u001b[0m \u001b[0;32mimport\u001b[0m \u001b[0;34m*\u001b[0m\u001b[0;34m\u001b[0m\u001b[0;34m\u001b[0m\u001b[0m\n\u001b[0m\u001b[1;32m     66\u001b[0m \u001b[0;32mfrom\u001b[0m \u001b[0;34m.\u001b[0m\u001b[0m_cf_getter\u001b[0m \u001b[0;32mimport\u001b[0m \u001b[0;34m*\u001b[0m\u001b[0;34m\u001b[0m\u001b[0;34m\u001b[0m\u001b[0m\n\u001b[1;32m     67\u001b[0m \u001b[0;34m\u001b[0m\u001b[0m\n",
      "\u001b[0;32m~/opt/anaconda3/envs/bw2/lib/python3.8/site-packages/bw2qsd/_db_downloader.py\u001b[0m in \u001b[0;36m<module>\u001b[0;34m\u001b[0m\n\u001b[1;32m     18\u001b[0m \u001b[0;32mimport\u001b[0m \u001b[0mos\u001b[0m\u001b[0;34m,\u001b[0m \u001b[0mappdirs\u001b[0m\u001b[0;34m,\u001b[0m \u001b[0msubprocess\u001b[0m\u001b[0;34m,\u001b[0m \u001b[0mshutil\u001b[0m\u001b[0;34m,\u001b[0m \u001b[0mrequests\u001b[0m\u001b[0;34m,\u001b[0m \u001b[0mfunctools\u001b[0m\u001b[0;34m\u001b[0m\u001b[0;34m\u001b[0m\u001b[0m\n\u001b[1;32m     19\u001b[0m \u001b[0;32mimport\u001b[0m \u001b[0mbrightway2\u001b[0m \u001b[0;32mas\u001b[0m \u001b[0mbw2\u001b[0m\u001b[0;34m\u001b[0m\u001b[0;34m\u001b[0m\u001b[0m\n\u001b[0;32m---> 20\u001b[0;31m \u001b[0;32mfrom\u001b[0m \u001b[0;34m.\u001b[0m \u001b[0;32mimport\u001b[0m \u001b[0meidl\u001b[0m\u001b[0;34m\u001b[0m\u001b[0;34m\u001b[0m\u001b[0m\n\u001b[0m\u001b[1;32m     21\u001b[0m \u001b[0;32mfrom\u001b[0m \u001b[0mzipfile\u001b[0m \u001b[0;32mimport\u001b[0m \u001b[0mZipFile\u001b[0m\u001b[0;34m\u001b[0m\u001b[0;34m\u001b[0m\u001b[0m\n\u001b[1;32m     22\u001b[0m \u001b[0;32mfrom\u001b[0m \u001b[0mbw2io\u001b[0m \u001b[0;32mimport\u001b[0m \u001b[0mimporters\u001b[0m\u001b[0;34m,\u001b[0m \u001b[0mstrategies\u001b[0m\u001b[0;34m\u001b[0m\u001b[0;34m\u001b[0m\u001b[0m\n",
      "\u001b[0;31mImportError\u001b[0m: cannot import name 'eidl' from partially initialized module 'bw2qsd' (most likely due to a circular import) (/Users/yalinli_cabbi/opt/anaconda3/envs/bw2/lib/python3.8/site-packages/bw2qsd/__init__.py)"
     ]
    }
   ],
   "source": [
    "import bw2qsd as bq\n",
    "print(f'This tutorial was made with bw2qsd v{bq.__version__} '\n",
    "      f'and brightway2 v{bq.bw2_version}.')"
   ]
  },
  {
   "cell_type": "markdown",
   "id": "worse-turtle",
   "metadata": {},
   "source": [
    "## 1. Introduction and Installation <a class=\"anchor\" id=\"s1\"></a>"
   ]
  },
  {
   "cell_type": "markdown",
   "id": "veterinary-header",
   "metadata": {},
   "source": [
    "### 1.1. Introduction\n",
    "\n",
    "`bw2qsd` is (currently) a lite package leveraging the [``Brightway2`` platform](https://2.docs.brightway.dev/index.html) for convenient importing of life cycle impact characterization factors (CFs) and use them in packages developed for quantitative sustainable design (QSD) of technologies and systems hosted on [the GitHub homepage of QSD-Group](https://github.com/QSD-Group). You can certainly use this package to just extract the CF values and use in other ways you like.\n",
    "\n",
    "Note that `Brightway2` is a powerful platform with many capacities and `bw2qsd` is not intended to leverage all of them, as the name suggests, `bw2qsd` is tailored for the QSD. \n",
    "\n",
    "There are still some manual work required to clean up the data and format them into the requirement of QSD pcakges, but the entire process can be automated with future development of both `bw2qsd` and QSD packages.\n",
    "\n",
    "Additionally, you will find this tutorial much easier to follow if you have familiarized yourself with the basic concepts in `Brightway2`."
   ]
  },
  {
   "cell_type": "markdown",
   "id": "lyric-evening",
   "metadata": {},
   "source": [
    "### 1.2. Installation\n",
    "\n",
    "The easiest way to install `bw2qsd` is through pip:\n",
    "\n",
    "```bash\n",
    "pip install bw2qsd\n",
    "```\n",
    "\n",
    "You can also clone this repo and install the dependent packages in setup.py, but note that the release of `brightway2` is not very stable (i.e., some versions might not work)."
   ]
  },
  {
   "cell_type": "markdown",
   "id": "tight-supplement",
   "metadata": {},
   "source": [
    "### 1.3. Other important notes"
   ]
  },
  {
   "cell_type": "markdown",
   "id": "enclosed-customer",
   "metadata": {},
   "source": [
    "1. When running ``BW2QSD``, you might run into a `Pickle deserialization error` related to an outdated pickle file."
   ]
  },
  {
   "cell_type": "markdown",
   "id": "fuzzy-gasoline",
   "metadata": {},
   "source": [
    "To prevent from getting this error, you can run the following code before you quitting the program (i.e., AFTER you have finished getting CFs), like suggested at the end of this tutorial.\n",
    "\n",
    "```bash\n",
    "from bw2qsd import remove_setups_pickle\n",
    "remove_setups_pickle()\n",
    "```"
   ]
  },
  {
   "cell_type": "markdown",
   "id": "43b06b5d",
   "metadata": {},
   "source": [
    "If you forgot to remove the pickle file, `bw2qsd` will help you to fix it (by removing the outdated pickle file) the next time you run it."
   ]
  },
  {
   "cell_type": "markdown",
   "id": "prime-burton",
   "metadata": {},
   "source": [
    "2. If there are functions in ``Brightway2`` packages that you would like to use but not included in ``BW2QSD`` (e.g., renaming databases), you can import the corresponding packages and for those tasks."
   ]
  },
  {
   "cell_type": "markdown",
   "id": "further-midwest",
   "metadata": {},
   "source": [
    "## 2. Download External Databases <a class=\"anchor\" id=\"s2\"></a>"
   ]
  },
  {
   "cell_type": "markdown",
   "id": "234d0c10",
   "metadata": {},
   "source": [
    "---\n",
    "**Note**\n",
    "Currently only the [ecoinvent](http://ecoinvent.org) (license and login credentials required) and [forwast](https://lca-net.com/projects/show/forwast/) databases have been developed and tested.\n",
    "\n",
    "In the future, databases in the [Federal LCA Commons repository](https://www.lcacommons.gov/lca-collaboration/) will be included."
   ]
  },
  {
   "cell_type": "markdown",
   "id": "c9a9ca03",
   "metadata": {},
   "source": [
    "---"
   ]
  },
  {
   "cell_type": "code",
   "execution_count": null,
   "id": "aggregate-satellite",
   "metadata": {},
   "outputs": [],
   "source": [
    "from bw2qsd import DataDownloader"
   ]
  },
  {
   "cell_type": "code",
   "execution_count": null,
   "id": "normal-accounting",
   "metadata": {},
   "outputs": [],
   "source": [
    "# Only the most basic steps are shown in this tutorial,\n",
    "# if you want look at the full document, you can use\n",
    "help(DataDownloader)"
   ]
  },
  {
   "cell_type": "code",
   "execution_count": null,
   "id": "strong-shelf",
   "metadata": {},
   "outputs": [],
   "source": [
    "# or (run this line)\n",
    "DataDownloader?"
   ]
  },
  {
   "cell_type": "code",
   "execution_count": null,
   "id": "willing-grounds",
   "metadata": {},
   "outputs": [],
   "source": [
    "# Firstly initiate the class\n",
    "downloader = DataDownloader()"
   ]
  },
  {
   "cell_type": "markdown",
   "id": "7f59a1b4",
   "metadata": {},
   "source": [
    "You will be prompted for your ecoinvent credentials in this process, you will also be able to select the version of the ecoinvent database and the system model (refer to the document of this function for explanation on system models).\n",
    "\n",
    "Downloading the database and extracting the data can take tens of minutes, you will get print-out messages along the way.\n",
    "\n",
    "When the process is finished, you will get a message with the name of the database, it will be in the format of \"ecoinvent_XY\" with X being system model and Y being the version, e.g., \"ecoinvent_cutoff371\" means the cut-off system model and version 3.7.1."
   ]
  },
  {
   "cell_type": "code",
   "execution_count": null,
   "id": "9a294c1a",
   "metadata": {},
   "outputs": [],
   "source": [
    "# Uncomment to run the downloader\n",
    "# downloader.download_ecoinvent()"
   ]
  },
  {
   "cell_type": "code",
   "execution_count": null,
   "id": "unlimited-trance",
   "metadata": {},
   "outputs": [],
   "source": [
    "# You can check what databases you have by\n",
    "downloader.available_databases"
   ]
  },
  {
   "cell_type": "markdown",
   "id": "patent-wireless",
   "metadata": {},
   "source": [
    "## 3. Get Characterization Factors <a class=\"anchor\" id=\"s3\"></a>"
   ]
  },
  {
   "cell_type": "markdown",
   "id": "improving-ticket",
   "metadata": {},
   "source": [
    "### 3.1. Load database"
   ]
  },
  {
   "cell_type": "code",
   "execution_count": null,
   "id": "nonprofit-grocery",
   "metadata": {},
   "outputs": [],
   "source": [
    "from bw2qsd import CFgetter"
   ]
  },
  {
   "cell_type": "code",
   "execution_count": null,
   "id": "economic-privilege",
   "metadata": {},
   "outputs": [],
   "source": [
    "# Let's assume we have the \"ecoinvent_apos371\" database\n",
    "ei = CFgetter('ei')\n",
    "ei.load_database('ecoinvent_apos371')"
   ]
  },
  {
   "cell_type": "markdown",
   "id": "sweet-purple",
   "metadata": {},
   "source": [
    "### 3.2. Load impact indicator"
   ]
  },
  {
   "cell_type": "code",
   "execution_count": null,
   "id": "adverse-imaging",
   "metadata": {},
   "outputs": [],
   "source": [
    "# To have a look at all available impact assessment methods and associated indicators (800+),\n",
    "# you can use (`add` is whether to add the returned indicators to calculation)\n",
    "ei.load_indicators(add=False)"
   ]
  },
  {
   "cell_type": "code",
   "execution_count": null,
   "id": "amazing-payment",
   "metadata": {},
   "outputs": [],
   "source": [
    "# You can use the `method`, `category`, and `indicator` keywords to narrow down the ones you like\n",
    "# assumess we want all TRACI indicators\n",
    "ei.load_indicators(add=True, method='TRACI', category='', indicator='')"
   ]
  },
  {
   "cell_type": "code",
   "execution_count": null,
   "id": "obvious-collar",
   "metadata": {},
   "outputs": [],
   "source": [
    "# It is not clear why most of the TRACI indicators are marked as \"obsolete\"\n",
    "ei.indicators"
   ]
  },
  {
   "cell_type": "code",
   "execution_count": null,
   "id": "desperate-supplement",
   "metadata": {},
   "outputs": [],
   "source": [
    "# If you want to remove one or more indicator(s)\n",
    "ei.remove('indicators', (('TRACI (obsolete)', 'human health', 'non-carcinogenics'),))"
   ]
  },
  {
   "cell_type": "markdown",
   "id": "caroline-spotlight",
   "metadata": {},
   "source": [
    "### 3.3. Load activities"
   ]
  },
  {
   "cell_type": "code",
   "execution_count": null,
   "id": "departmental-resident",
   "metadata": {},
   "outputs": [],
   "source": [
    "# Next is to look for the activities of interest,\n",
    "# assume we want to look at some building-related impacts\n",
    "act_dct = ei.load_activities(string='building', add=False, limit=10)\n",
    "act_dct"
   ]
  },
  {
   "cell_type": "code",
   "execution_count": null,
   "id": "composed-orchestra",
   "metadata": {},
   "outputs": [],
   "source": [
    "# If we want to look at the detailed descriptions of the activity\n",
    "ei.show_activity(act_dct['building construction, hostel'])"
   ]
  },
  {
   "cell_type": "code",
   "execution_count": null,
   "id": "vulnerable-perspective",
   "metadata": {},
   "outputs": [],
   "source": [
    "# Let's just assume that we want to load all of returned building-related activities\n",
    "ei.load_activities('building', True)"
   ]
  },
  {
   "cell_type": "code",
   "execution_count": null,
   "id": "horizontal-instrumentation",
   "metadata": {},
   "outputs": [],
   "source": [
    "info = ei.show_activity('building construction, hostel')\n",
    "info"
   ]
  },
  {
   "cell_type": "code",
   "execution_count": null,
   "id": "perfect-pakistan",
   "metadata": {},
   "outputs": [],
   "source": [
    "# To look at the full description\n",
    "info['building construction, hostel']['comment']"
   ]
  },
  {
   "cell_type": "markdown",
   "id": "greek-chapter",
   "metadata": {},
   "source": [
    "### 3.4. Get charachterization factors"
   ]
  },
  {
   "cell_type": "code",
   "execution_count": null,
   "id": "competitive-consumer",
   "metadata": {
    "scrolled": true
   },
   "outputs": [],
   "source": [
    "# Finally, we can get the CF values (the calculation may take minutes)\n",
    "# if you provide a path, the results will be saved as a tsv (`sep='\\t'`)/csv or an Excel\n",
    "# (depending on the file type you provided in the path),\n",
    "# a sample output (sample_output.tsv) is provided in the package.\n",
    "df = ei.get_CFs(show=False, path='')\n",
    "df"
   ]
  },
  {
   "cell_type": "code",
   "execution_count": null,
   "id": "green-adolescent",
   "metadata": {},
   "outputs": [],
   "source": [
    "# Before quitting the program, removing the setups.pickle file will prevent you from getting an error\n",
    "# (related to the ``bw2data`` package) the next time you load BW2QSD\n",
    "from bw2qsd import remove_setups_pickle\n",
    "remove_setups_pickle()"
   ]
  }
 ],
 "metadata": {
  "celltoolbar": "Raw Cell Format",
  "kernelspec": {
   "display_name": "Python 3 (ipykernel)",
   "language": "python",
   "name": "python3"
  },
  "language_info": {
   "codemirror_mode": {
    "name": "ipython",
    "version": 3
   },
   "file_extension": ".py",
   "mimetype": "text/x-python",
   "name": "python",
   "nbconvert_exporter": "python",
   "pygments_lexer": "ipython3",
   "version": "3.8.12"
  }
 },
 "nbformat": 4,
 "nbformat_minor": 5
}
