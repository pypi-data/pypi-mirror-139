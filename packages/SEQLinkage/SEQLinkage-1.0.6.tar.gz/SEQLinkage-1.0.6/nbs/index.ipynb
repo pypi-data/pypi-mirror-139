{
 "cells": [
  {
   "cell_type": "code",
   "execution_count": null,
   "metadata": {},
   "outputs": [],
   "source": [
    "#hide\n",
    "from SEQlinkage.Core import *"
   ]
  },
  {
   "cell_type": "code",
   "execution_count": null,
   "metadata": {},
   "outputs": [],
   "source": [
    "#hide\n",
    "%load_ext autoreload\n",
    "%autoreload 2"
   ]
  },
  {
   "cell_type": "markdown",
   "metadata": {},
   "source": [
    "# SEQLinkage\n",
    "\n",
    "> Collapsed Haplotype Pattern Method for Linkage Analysis of Next-Generation Sequencing Data"
   ]
  },
  {
   "cell_type": "markdown",
   "metadata": {},
   "source": [
    "## Pre-requisites\n",
    "\n",
    "Make sure you install the pre-requisited before running seqlink:\n",
    "\n",
    "```\n",
    "conda install -c conda-forge xeus-cling\n",
    "conda install -c anaconda swig \n",
    "conda install -c conda-forge gsl\n",
    "pip install egglib\n",
    "git clone https://github.com/statgenetics/cstatgen.git\n",
    "cd cstatgen\n",
    "python setup.py install\n",
    "```"
   ]
  },
  {
   "cell_type": "markdown",
   "metadata": {},
   "source": [
    "## Install"
   ]
  },
  {
   "cell_type": "markdown",
   "metadata": {},
   "source": [
    "`pip install SEQLinkage`"
   ]
  },
  {
   "cell_type": "markdown",
   "metadata": {},
   "source": [
    "## How to use"
   ]
  },
  {
   "cell_type": "markdown",
   "metadata": {},
   "source": [
    "### 1. Test on seqlinkage-example"
   ]
  },
  {
   "cell_type": "markdown",
   "metadata": {},
   "source": [
    "```\n",
    "seqlink --fam seqlinkage-example.fam --vcf seqlinkage-example.vcf.gz -f MERLIN --output RMBPt8 --jobs 8\n",
    "\n",
    "seqlink --fam seqlinkage-example.fam --vcf seqlinkage-example.vcf.gz -f MERLIN --output RMB0 --jobs 8 --bin 0\n",
    "\n",
    "seqlink --fam seqlinkage-example.fam --vcf seqlinkage-example.vcf.gz -f MERLIN --output RMB1 --jobs 8 --bin 1\n",
    "\n",
    "seqlink --fam seqlinkage-example.fam --vcf seqlinkage-example.vcf.gz --freq EVSEAAF -o LinkageAnalysis -K 0.001 --moi AR -W 0 -M 1 --theta-max 0.5 --theta-inc 0.05 -j 8 --run-linkage\n",
    "```"
   ]
  },
  {
   "cell_type": "markdown",
   "metadata": {},
   "source": [
    "### 2. Test on AD family"
   ]
  },
  {
   "cell_type": "markdown",
   "metadata": {},
   "source": [
    "```\n",
    "seqlink --fam data/mwe_normal_fam.csv --vcf data/first1000snp_full_samples.vcf.gz -f LINKAGE --blueprint data/genemap.hg38.txt --freq AF -K 0.001 --moi AD -W 0 -M 1\n",
    "\n",
    "seqlink --fam data/mwe_normal_fam.csv --vcf data/first1000snp_full_samples.vcf.gz -f MERLIN --blueprint data/genemap.hg38.txt --freq AF\n",
    "```"
   ]
  },
  {
   "cell_type": "markdown",
   "metadata": {},
   "source": [
    "```\n",
    "./seqlink --fam seqlinkage-example/seqlinkage-example.fam --vcf seqlinkage-example/seqlinkage-example.vcf.gz -f MERLIN --blueprint data/genemap.txt --freq EVSEAAF -o seqtest\n",
    "./seqlink --fam data/new_trim_ped_famless17.fam --vcf data/first1000snp_full_samples.vcf.gz -f MERLIN --blueprint data/genemap.hg38.txt --freq AF\n",
    "```"
   ]
  },
  {
   "cell_type": "markdown",
   "metadata": {},
   "source": [
    "./seqlink --fam data/new_trim_ped_famless17.fam --vcf data/first1000snp_full_samples.vcf.gz -f MERLIN --blueprint data/genemap.hg38.txt --freq AF -K 0.001 --moi AD -W 0 -M 1 --run-linkage"
   ]
  },
  {
   "cell_type": "markdown",
   "metadata": {},
   "source": [
    "./seqlink --fam data/Example_data/pedigree.fam --vcf data/Example_data/example.vcf.gz -f MERLIN MEGA2 PLINK LINKAGE --build hg38 --chrom-prefix chr --freq AF -o data/Example_data/output -K 0.001 --moi AD -W 0 -M 1\n"
   ]
  },
  {
   "cell_type": "markdown",
   "metadata": {},
   "source": [
    "./seqlink --fam data/mwe_normal_fam.csv --vcf data/first1000snp_full_samples.vcf.gz --anno data/first1000_chr1_multianno.csv --pop data/full_sample_fam_pop.txt -f MERLIN MEGA2 PLINK LINKAGE --build hg38 --freq AF -o data/first1000test -K 0.001 --moi AD -W 0 -M 1"
   ]
  },
  {
   "cell_type": "markdown",
   "metadata": {},
   "source": [
    "./seqlink --fam data/new_trim_ped_famless17_no\\:xx.fam --vcf /mnt/mfs/statgen/alzheimers-family/linkage_files/geno/full_sample/vcf/full_sample.vcf.gz --anno MWE/annotation/EFIGA_NIALOAD_chr1.hg38.hg38_multianno.csv --pop data/full_sample_fam_pop.txt -f MERLIN MEGA2 PLINK LINKAGE --build hg38 --freq AF -o data/fullchr1data -K 0.001 --moi AD -W 0 -M 1 -j 4"
   ]
  },
  {
   "cell_type": "markdown",
   "metadata": {
    "tags": []
   },
   "source": [
    "## Testing output"
   ]
  },
  {
   "cell_type": "markdown",
   "metadata": {},
   "source": [
    "seqlink --fam seqlinkage-example/seqlinkage-example.fam --vcf seqlinkage-example/seqlinkage-example.vcf.gz -f MERLIN MEGA2 PLINK LINKAGE --blueprint data/genemap.txt --freq EVSEAAF -o data/seqtest_20220221 -K 0.001 --moi AD -W 0 -M 1 -j 4"
   ]
  },
  {
   "cell_type": "markdown",
   "metadata": {},
   "source": [
    "seqlink --fam data/new_trim_ped_famless17_no:xx.fam --vcf /mnt/mfs/statgen/alzheimers-family/linkage_files/geno/full_sample/vcf/full_sample.vcf.gz --anno MWE/annotation/EFIGA_NIALOAD_chr22.hg38.hg38_multianno.csv --pop data/full_sample_fam_pop.txt -f MERLIN MEGA2 PLINK LINKAGE --build hg38 --freq AF -o data/fullchr22data -K 0.001 --moi AD -W 0 -M 1 -j 8"
   ]
  },
  {
   "cell_type": "code",
   "execution_count": 1,
   "metadata": {},
   "outputs": [],
   "source": [
    "import pandas as pd"
   ]
  },
  {
   "cell_type": "code",
   "execution_count": 5,
   "metadata": {},
   "outputs": [],
   "source": [
    "tmp = pd.read_csv('../data/genemap.hg38.txt',sep='\\t',header=None)"
   ]
  },
  {
   "cell_type": "code",
   "execution_count": 6,
   "metadata": {},
   "outputs": [
    {
     "data": {
      "text/html": [
       "<div>\n",
       "<style scoped>\n",
       "    .dataframe tbody tr th:only-of-type {\n",
       "        vertical-align: middle;\n",
       "    }\n",
       "\n",
       "    .dataframe tbody tr th {\n",
       "        vertical-align: top;\n",
       "    }\n",
       "\n",
       "    .dataframe thead th {\n",
       "        text-align: right;\n",
       "    }\n",
       "</style>\n",
       "<table border=\"1\" class=\"dataframe\">\n",
       "  <thead>\n",
       "    <tr style=\"text-align: right;\">\n",
       "      <th></th>\n",
       "      <th>0</th>\n",
       "      <th>1</th>\n",
       "      <th>2</th>\n",
       "      <th>3</th>\n",
       "      <th>4</th>\n",
       "      <th>5</th>\n",
       "      <th>6</th>\n",
       "    </tr>\n",
       "  </thead>\n",
       "  <tbody>\n",
       "    <tr>\n",
       "      <th>0</th>\n",
       "      <td>1</td>\n",
       "      <td>11868</td>\n",
       "      <td>14362</td>\n",
       "      <td>LOC102725121@1</td>\n",
       "      <td>9.177127e-07</td>\n",
       "      <td>0.000001</td>\n",
       "      <td>6.814189e-07</td>\n",
       "    </tr>\n",
       "    <tr>\n",
       "      <th>1</th>\n",
       "      <td>1</td>\n",
       "      <td>11873</td>\n",
       "      <td>14409</td>\n",
       "      <td>DDX11L1</td>\n",
       "      <td>9.195321e-07</td>\n",
       "      <td>0.000001</td>\n",
       "      <td>6.827698e-07</td>\n",
       "    </tr>\n",
       "    <tr>\n",
       "      <th>2</th>\n",
       "      <td>1</td>\n",
       "      <td>14361</td>\n",
       "      <td>29370</td>\n",
       "      <td>WASH7P</td>\n",
       "      <td>1.529988e-06</td>\n",
       "      <td>0.000002</td>\n",
       "      <td>1.136045e-06</td>\n",
       "    </tr>\n",
       "    <tr>\n",
       "      <th>3</th>\n",
       "      <td>1</td>\n",
       "      <td>17368</td>\n",
       "      <td>17436</td>\n",
       "      <td>MIR6859-1@1,MIR6859-2@1,MIR6859-3@1,MIR6859-4@1</td>\n",
       "      <td>1.217693e-06</td>\n",
       "      <td>0.000002</td>\n",
       "      <td>9.041595e-07</td>\n",
       "    </tr>\n",
       "    <tr>\n",
       "      <th>4</th>\n",
       "      <td>1</td>\n",
       "      <td>30365</td>\n",
       "      <td>30503</td>\n",
       "      <td>MIR1302-10@1,MIR1302-11@1,MIR1302-2@1,MIR1302-9@1</td>\n",
       "      <td>2.129597e-06</td>\n",
       "      <td>0.000003</td>\n",
       "      <td>1.581266e-06</td>\n",
       "    </tr>\n",
       "    <tr>\n",
       "      <th>...</th>\n",
       "      <td>...</td>\n",
       "      <td>...</td>\n",
       "      <td>...</td>\n",
       "      <td>...</td>\n",
       "      <td>...</td>\n",
       "      <td>...</td>\n",
       "      <td>...</td>\n",
       "    </tr>\n",
       "    <tr>\n",
       "      <th>28320</th>\n",
       "      <td>X</td>\n",
       "      <td>155612564</td>\n",
       "      <td>155782457</td>\n",
       "      <td>SPRY3</td>\n",
       "      <td>NaN</td>\n",
       "      <td>196.056662</td>\n",
       "      <td>NaN</td>\n",
       "    </tr>\n",
       "    <tr>\n",
       "      <th>28321</th>\n",
       "      <td>X</td>\n",
       "      <td>155881344</td>\n",
       "      <td>155943769</td>\n",
       "      <td>VAMP7</td>\n",
       "      <td>NaN</td>\n",
       "      <td>196.190010</td>\n",
       "      <td>5.600000e+01</td>\n",
       "    </tr>\n",
       "    <tr>\n",
       "      <th>28322</th>\n",
       "      <td>X</td>\n",
       "      <td>155997695</td>\n",
       "      <td>156010817</td>\n",
       "      <td>IL9R</td>\n",
       "      <td>NaN</td>\n",
       "      <td>196.305985</td>\n",
       "      <td>NaN</td>\n",
       "    </tr>\n",
       "    <tr>\n",
       "      <th>28323</th>\n",
       "      <td>X</td>\n",
       "      <td>156014563</td>\n",
       "      <td>156016830</td>\n",
       "      <td>WASIR1</td>\n",
       "      <td>NaN</td>\n",
       "      <td>196.320452</td>\n",
       "      <td>NaN</td>\n",
       "    </tr>\n",
       "    <tr>\n",
       "      <th>28324</th>\n",
       "      <td>X</td>\n",
       "      <td>156025657</td>\n",
       "      <td>156028183</td>\n",
       "      <td>DDX11L16</td>\n",
       "      <td>NaN</td>\n",
       "      <td>196.334645</td>\n",
       "      <td>NaN</td>\n",
       "    </tr>\n",
       "  </tbody>\n",
       "</table>\n",
       "<p>28325 rows × 7 columns</p>\n",
       "</div>"
      ],
      "text/plain": [
       "       0          1          2  \\\n",
       "0      1      11868      14362   \n",
       "1      1      11873      14409   \n",
       "2      1      14361      29370   \n",
       "3      1      17368      17436   \n",
       "4      1      30365      30503   \n",
       "...   ..        ...        ...   \n",
       "28320  X  155612564  155782457   \n",
       "28321  X  155881344  155943769   \n",
       "28322  X  155997695  156010817   \n",
       "28323  X  156014563  156016830   \n",
       "28324  X  156025657  156028183   \n",
       "\n",
       "                                                       3             4  \\\n",
       "0                                         LOC102725121@1  9.177127e-07   \n",
       "1                                                DDX11L1  9.195321e-07   \n",
       "2                                                 WASH7P  1.529988e-06   \n",
       "3        MIR6859-1@1,MIR6859-2@1,MIR6859-3@1,MIR6859-4@1  1.217693e-06   \n",
       "4      MIR1302-10@1,MIR1302-11@1,MIR1302-2@1,MIR1302-9@1  2.129597e-06   \n",
       "...                                                  ...           ...   \n",
       "28320                                              SPRY3           NaN   \n",
       "28321                                              VAMP7           NaN   \n",
       "28322                                               IL9R           NaN   \n",
       "28323                                             WASIR1           NaN   \n",
       "28324                                           DDX11L16           NaN   \n",
       "\n",
       "                5             6  \n",
       "0        0.000001  6.814189e-07  \n",
       "1        0.000001  6.827698e-07  \n",
       "2        0.000002  1.136045e-06  \n",
       "3        0.000002  9.041595e-07  \n",
       "4        0.000003  1.581266e-06  \n",
       "...           ...           ...  \n",
       "28320  196.056662           NaN  \n",
       "28321  196.190010  5.600000e+01  \n",
       "28322  196.305985           NaN  \n",
       "28323  196.320452           NaN  \n",
       "28324  196.334645           NaN  \n",
       "\n",
       "[28325 rows x 7 columns]"
      ]
     },
     "execution_count": 6,
     "metadata": {},
     "output_type": "execute_result"
    }
   ],
   "source": [
    "tmp"
   ]
  },
  {
   "cell_type": "code",
   "execution_count": 8,
   "metadata": {},
   "outputs": [
    {
     "data": {
      "text/plain": [
       "1                      2809\n",
       "2                      1816\n",
       "19                     1779\n",
       "11                     1678\n",
       "17                     1583\n",
       "3                      1560\n",
       "6                      1453\n",
       "12                     1386\n",
       "7                      1359\n",
       "5                      1314\n",
       "X                      1209\n",
       "16                     1177\n",
       "9                      1119\n",
       "10                     1107\n",
       "4                      1091\n",
       "8                      1056\n",
       "15                     1012\n",
       "14                      946\n",
       "20                      774\n",
       "22                      646\n",
       "13                      629\n",
       "18                      436\n",
       "21                      374\n",
       "17_KI270909v1_alt         3\n",
       "22_KI270879v1_alt         3\n",
       "7_KI270803v1_alt          2\n",
       "15_KI270850v1_alt         2\n",
       "4_GL000008v2_random       1\n",
       "1_KI270706v1_random       1\n",
       "Name: 0, dtype: int64"
      ]
     },
     "execution_count": 8,
     "metadata": {},
     "output_type": "execute_result"
    }
   ],
   "source": [
    "tmp[0].value_counts()"
   ]
  },
  {
   "cell_type": "code",
   "execution_count": 11,
   "metadata": {},
   "outputs": [],
   "source": [
    "tmp1 = tmp[tmp[0]=='22']"
   ]
  },
  {
   "cell_type": "code",
   "execution_count": 13,
   "metadata": {},
   "outputs": [
    {
     "data": {
      "text/html": [
       "<div>\n",
       "<style scoped>\n",
       "    .dataframe tbody tr th:only-of-type {\n",
       "        vertical-align: middle;\n",
       "    }\n",
       "\n",
       "    .dataframe tbody tr th {\n",
       "        vertical-align: top;\n",
       "    }\n",
       "\n",
       "    .dataframe thead th {\n",
       "        text-align: right;\n",
       "    }\n",
       "</style>\n",
       "<table border=\"1\" class=\"dataframe\">\n",
       "  <thead>\n",
       "    <tr style=\"text-align: right;\">\n",
       "      <th></th>\n",
       "      <th>0</th>\n",
       "      <th>1</th>\n",
       "      <th>2</th>\n",
       "      <th>3</th>\n",
       "      <th>4</th>\n",
       "      <th>5</th>\n",
       "      <th>6</th>\n",
       "    </tr>\n",
       "  </thead>\n",
       "  <tbody>\n",
       "    <tr>\n",
       "      <th>26484</th>\n",
       "      <td>22</td>\n",
       "      <td>17121594</td>\n",
       "      <td>17132104</td>\n",
       "      <td>LINC01664</td>\n",
       "      <td>3.496778</td>\n",
       "      <td>5.134655</td>\n",
       "      <td>1.946244</td>\n",
       "    </tr>\n",
       "  </tbody>\n",
       "</table>\n",
       "</div>"
      ],
      "text/plain": [
       "        0         1         2          3         4         5         6\n",
       "26484  22  17121594  17132104  LINC01664  3.496778  5.134655  1.946244"
      ]
     },
     "execution_count": 13,
     "metadata": {},
     "output_type": "execute_result"
    }
   ],
   "source": [
    "tmp1[tmp1[3]=='LINC01664']"
   ]
  },
  {
   "cell_type": "code",
   "execution_count": 14,
   "metadata": {},
   "outputs": [
    {
     "data": {
      "text/html": [
       "<div>\n",
       "<style scoped>\n",
       "    .dataframe tbody tr th:only-of-type {\n",
       "        vertical-align: middle;\n",
       "    }\n",
       "\n",
       "    .dataframe tbody tr th {\n",
       "        vertical-align: top;\n",
       "    }\n",
       "\n",
       "    .dataframe thead th {\n",
       "        text-align: right;\n",
       "    }\n",
       "</style>\n",
       "<table border=\"1\" class=\"dataframe\">\n",
       "  <thead>\n",
       "    <tr style=\"text-align: right;\">\n",
       "      <th></th>\n",
       "      <th>0</th>\n",
       "      <th>1</th>\n",
       "      <th>2</th>\n",
       "      <th>3</th>\n",
       "      <th>4</th>\n",
       "      <th>5</th>\n",
       "      <th>6</th>\n",
       "    </tr>\n",
       "  </thead>\n",
       "  <tbody>\n",
       "    <tr>\n",
       "      <th>26493</th>\n",
       "      <td>22</td>\n",
       "      <td>17734139</td>\n",
       "      <td>17774665</td>\n",
       "      <td>BID</td>\n",
       "      <td>7.132236</td>\n",
       "      <td>10.196359</td>\n",
       "      <td>4.192282</td>\n",
       "    </tr>\n",
       "  </tbody>\n",
       "</table>\n",
       "</div>"
      ],
      "text/plain": [
       "        0         1         2    3         4          5         6\n",
       "26493  22  17734139  17774665  BID  7.132236  10.196359  4.192282"
      ]
     },
     "execution_count": 14,
     "metadata": {},
     "output_type": "execute_result"
    }
   ],
   "source": [
    "tmp1[tmp1[3]=='BID']"
   ]
  },
  {
   "cell_type": "code",
   "execution_count": 15,
   "metadata": {},
   "outputs": [
    {
     "data": {
      "text/html": [
       "<div>\n",
       "<style scoped>\n",
       "    .dataframe tbody tr th:only-of-type {\n",
       "        vertical-align: middle;\n",
       "    }\n",
       "\n",
       "    .dataframe tbody tr th {\n",
       "        vertical-align: top;\n",
       "    }\n",
       "\n",
       "    .dataframe thead th {\n",
       "        text-align: right;\n",
       "    }\n",
       "</style>\n",
       "<table border=\"1\" class=\"dataframe\">\n",
       "  <thead>\n",
       "    <tr style=\"text-align: right;\">\n",
       "      <th></th>\n",
       "      <th>0</th>\n",
       "      <th>1</th>\n",
       "      <th>2</th>\n",
       "      <th>3</th>\n",
       "      <th>4</th>\n",
       "      <th>5</th>\n",
       "      <th>6</th>\n",
       "    </tr>\n",
       "  </thead>\n",
       "  <tbody>\n",
       "    <tr>\n",
       "      <th>26535</th>\n",
       "      <td>22</td>\n",
       "      <td>19846145</td>\n",
       "      <td>19854874</td>\n",
       "      <td>RTL10</td>\n",
       "      <td>12.136091</td>\n",
       "      <td>16.519006</td>\n",
       "      <td>8.210012</td>\n",
       "    </tr>\n",
       "  </tbody>\n",
       "</table>\n",
       "</div>"
      ],
      "text/plain": [
       "        0         1         2      3          4          5         6\n",
       "26535  22  19846145  19854874  RTL10  12.136091  16.519006  8.210012"
      ]
     },
     "execution_count": 15,
     "metadata": {},
     "output_type": "execute_result"
    }
   ],
   "source": [
    "tmp1[tmp1[3]=='RTL10']"
   ]
  },
  {
   "cell_type": "code",
   "execution_count": 16,
   "metadata": {},
   "outputs": [
    {
     "data": {
      "text/html": [
       "<div>\n",
       "<style scoped>\n",
       "    .dataframe tbody tr th:only-of-type {\n",
       "        vertical-align: middle;\n",
       "    }\n",
       "\n",
       "    .dataframe tbody tr th {\n",
       "        vertical-align: top;\n",
       "    }\n",
       "\n",
       "    .dataframe thead th {\n",
       "        text-align: right;\n",
       "    }\n",
       "</style>\n",
       "<table border=\"1\" class=\"dataframe\">\n",
       "  <thead>\n",
       "    <tr style=\"text-align: right;\">\n",
       "      <th></th>\n",
       "      <th>0</th>\n",
       "      <th>1</th>\n",
       "      <th>2</th>\n",
       "      <th>3</th>\n",
       "      <th>4</th>\n",
       "      <th>5</th>\n",
       "      <th>6</th>\n",
       "    </tr>\n",
       "  </thead>\n",
       "  <tbody>\n",
       "    <tr>\n",
       "      <th>26467</th>\n",
       "      <td>22</td>\n",
       "      <td>15784953</td>\n",
       "      <td>15827434</td>\n",
       "      <td>DUXAP8</td>\n",
       "      <td>0.000000</td>\n",
       "      <td>0.000000</td>\n",
       "      <td>0.000000</td>\n",
       "    </tr>\n",
       "    <tr>\n",
       "      <th>26468</th>\n",
       "      <td>22</td>\n",
       "      <td>15805697</td>\n",
       "      <td>15820884</td>\n",
       "      <td>BMS1P22@3</td>\n",
       "      <td>0.000000</td>\n",
       "      <td>0.000000</td>\n",
       "      <td>0.000000</td>\n",
       "    </tr>\n",
       "    <tr>\n",
       "      <th>26469</th>\n",
       "      <td>22</td>\n",
       "      <td>15805697</td>\n",
       "      <td>15815897</td>\n",
       "      <td>BMS1P17@3,BMS1P18@3</td>\n",
       "      <td>0.000000</td>\n",
       "      <td>0.000000</td>\n",
       "      <td>0.000000</td>\n",
       "    </tr>\n",
       "    <tr>\n",
       "      <th>26470</th>\n",
       "      <td>22</td>\n",
       "      <td>15740892</td>\n",
       "      <td>15778287</td>\n",
       "      <td>PSLNR</td>\n",
       "      <td>0.000000</td>\n",
       "      <td>0.000000</td>\n",
       "      <td>0.000000</td>\n",
       "    </tr>\n",
       "    <tr>\n",
       "      <th>26471</th>\n",
       "      <td>22</td>\n",
       "      <td>15690025</td>\n",
       "      <td>15721631</td>\n",
       "      <td>POTEH</td>\n",
       "      <td>0.000000</td>\n",
       "      <td>0.000000</td>\n",
       "      <td>0.000000</td>\n",
       "    </tr>\n",
       "    <tr>\n",
       "      <th>...</th>\n",
       "      <td>...</td>\n",
       "      <td>...</td>\n",
       "      <td>...</td>\n",
       "      <td>...</td>\n",
       "      <td>...</td>\n",
       "      <td>...</td>\n",
       "      <td>...</td>\n",
       "    </tr>\n",
       "    <tr>\n",
       "      <th>27111</th>\n",
       "      <td>22</td>\n",
       "      <td>50674390</td>\n",
       "      <td>50733212</td>\n",
       "      <td>SHANK3</td>\n",
       "      <td>79.970067</td>\n",
       "      <td>90.409669</td>\n",
       "      <td>70.999029</td>\n",
       "    </tr>\n",
       "    <tr>\n",
       "      <th>27112</th>\n",
       "      <td>22</td>\n",
       "      <td>50735828</td>\n",
       "      <td>50738169</td>\n",
       "      <td>LOC105373100</td>\n",
       "      <td>80.037493</td>\n",
       "      <td>90.485907</td>\n",
       "      <td>71.073657</td>\n",
       "    </tr>\n",
       "    <tr>\n",
       "      <th>27113</th>\n",
       "      <td>22</td>\n",
       "      <td>50738203</td>\n",
       "      <td>50745339</td>\n",
       "      <td>ACR</td>\n",
       "      <td>80.044958</td>\n",
       "      <td>90.494347</td>\n",
       "      <td>71.080286</td>\n",
       "    </tr>\n",
       "    <tr>\n",
       "      <th>27114</th>\n",
       "      <td>22</td>\n",
       "      <td>50757085</td>\n",
       "      <td>50799637</td>\n",
       "      <td>RPL23AP82</td>\n",
       "      <td>80.102184</td>\n",
       "      <td>90.559043</td>\n",
       "      <td>71.131103</td>\n",
       "    </tr>\n",
       "    <tr>\n",
       "      <th>27115</th>\n",
       "      <td>22</td>\n",
       "      <td>50767506</td>\n",
       "      <td>50783636</td>\n",
       "      <td>RABL2B</td>\n",
       "      <td>80.097821</td>\n",
       "      <td>90.554110</td>\n",
       "      <td>71.127228</td>\n",
       "    </tr>\n",
       "  </tbody>\n",
       "</table>\n",
       "<p>646 rows × 7 columns</p>\n",
       "</div>"
      ],
      "text/plain": [
       "        0         1         2                    3          4          5  \\\n",
       "26467  22  15784953  15827434               DUXAP8   0.000000   0.000000   \n",
       "26468  22  15805697  15820884            BMS1P22@3   0.000000   0.000000   \n",
       "26469  22  15805697  15815897  BMS1P17@3,BMS1P18@3   0.000000   0.000000   \n",
       "26470  22  15740892  15778287                PSLNR   0.000000   0.000000   \n",
       "26471  22  15690025  15721631                POTEH   0.000000   0.000000   \n",
       "...    ..       ...       ...                  ...        ...        ...   \n",
       "27111  22  50674390  50733212               SHANK3  79.970067  90.409669   \n",
       "27112  22  50735828  50738169         LOC105373100  80.037493  90.485907   \n",
       "27113  22  50738203  50745339                  ACR  80.044958  90.494347   \n",
       "27114  22  50757085  50799637            RPL23AP82  80.102184  90.559043   \n",
       "27115  22  50767506  50783636               RABL2B  80.097821  90.554110   \n",
       "\n",
       "               6  \n",
       "26467   0.000000  \n",
       "26468   0.000000  \n",
       "26469   0.000000  \n",
       "26470   0.000000  \n",
       "26471   0.000000  \n",
       "...          ...  \n",
       "27111  70.999029  \n",
       "27112  71.073657  \n",
       "27113  71.080286  \n",
       "27114  71.131103  \n",
       "27115  71.127228  \n",
       "\n",
       "[646 rows x 7 columns]"
      ]
     },
     "execution_count": 16,
     "metadata": {},
     "output_type": "execute_result"
    }
   ],
   "source": [
    "tmp1"
   ]
  },
  {
   "cell_type": "code",
   "execution_count": 17,
   "metadata": {},
   "outputs": [
    {
     "data": {
      "text/plain": [
       "68"
      ]
     },
     "execution_count": 17,
     "metadata": {},
     "output_type": "execute_result"
    }
   ],
   "source": [
    "535-467"
   ]
  },
  {
   "cell_type": "code",
   "execution_count": null,
   "metadata": {},
   "outputs": [],
   "source": []
  }
 ],
 "metadata": {
  "kernelspec": {
   "display_name": "Python 3 (ipykernel)",
   "language": "python",
   "name": "python3"
  },
  "language_info": {
   "codemirror_mode": {
    "name": "ipython",
    "version": 3
   },
   "file_extension": ".py",
   "mimetype": "text/x-python",
   "name": "python",
   "nbconvert_exporter": "python",
   "pygments_lexer": "ipython3",
   "version": "3.9.7"
  }
 },
 "nbformat": 4,
 "nbformat_minor": 4
}
