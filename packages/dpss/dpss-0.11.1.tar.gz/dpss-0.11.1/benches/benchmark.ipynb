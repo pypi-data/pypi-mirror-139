{
 "cells": [
  {
   "cell_type": "code",
   "execution_count": 2,
   "metadata": {},
   "outputs": [
    {
     "name": "stderr",
     "output_type": "stream",
     "text": [
      "WARNING: You are using pip version 21.2.4; however, version 22.0.3 is available.\n",
      "You should consider upgrading via the 'C:\\Users\\tomohiro\\AppData\\Local\\Microsoft\\WindowsApps\\PythonSoftwareFoundation.Python.3.10_qbz5n2kfra8p0\\python.exe -m pip install --upgrade pip' command.\n"
     ]
    },
    {
     "name": "stdout",
     "output_type": "stream",
     "text": [
      "Requirement already satisfied: dpss==0.10.2 in c:\\users\\tomohiro\\appdata\\local\\packages\\pythonsoftwarefoundation.python.3.10_qbz5n2kfra8p0\\localcache\\local-packages\\python310\\site-packages (0.10.2)\n",
      "269 ms ± 47 ms per loop (mean ± std. dev. of 7 runs, 1 loop each)\n"
     ]
    }
   ],
   "source": [
    "!pip install dpss==0.10.2\n",
    "import dpss\n",
    "%timeit dpss.sequence_matcher_m2m([1980, 2980, 3500, 4000, 1050, 2000], [1950, 2900, 30, 80, 3300, 200, 3980, 1050, 20, 2000])"
   ]
  },
  {
   "cell_type": "code",
   "execution_count": 3,
   "metadata": {},
   "outputs": [
    {
     "name": "stdout",
     "output_type": "stream",
     "text": [
      "Collecting dpss==0.10.5\n",
      "  Using cached dpss-0.10.5-cp310-none-win_amd64.whl (127 kB)\n",
      "Installing collected packages: dpss\n",
      "  Attempting uninstall: dpss\n",
      "    Found existing installation: dpss 0.10.2\n",
      "    Uninstalling dpss-0.10.2:\n",
      "      Successfully uninstalled dpss-0.10.2\n",
      "Successfully installed dpss-0.10.5\n"
     ]
    },
    {
     "name": "stderr",
     "output_type": "stream",
     "text": [
      "WARNING: You are using pip version 21.2.4; however, version 22.0.3 is available.\n",
      "You should consider upgrading via the 'C:\\Users\\tomohiro\\AppData\\Local\\Microsoft\\WindowsApps\\PythonSoftwareFoundation.Python.3.10_qbz5n2kfra8p0\\python.exe -m pip install --upgrade pip' command.\n"
     ]
    },
    {
     "name": "stdout",
     "output_type": "stream",
     "text": [
      "214 ms ± 8.93 ms per loop (mean ± std. dev. of 7 runs, 1 loop each)\n"
     ]
    }
   ],
   "source": [
    "!pip install dpss==0.10.5\n",
    "import dpss\n",
    "%timeit dpss.sequence_matcher_m2m([1980, 2980, 3500, 4000, 1050, 2000], [1950, 2900, 30, 80, 3300, 200, 3980, 1050, 20, 2000])"
   ]
  },
  {
   "cell_type": "code",
   "execution_count": 4,
   "metadata": {},
   "outputs": [
    {
     "name": "stdout",
     "output_type": "stream",
     "text": [
      "Collecting dpss==0.11.0\n",
      "  Using cached dpss-0.11.0-cp310-none-win_amd64.whl (128 kB)\n",
      "Installing collected packages: dpss\n",
      "  Attempting uninstall: dpss\n",
      "    Found existing installation: dpss 0.10.5\n",
      "    Uninstalling dpss-0.10.5:\n",
      "      Successfully uninstalled dpss-0.10.5\n",
      "Successfully installed dpss-0.11.0\n"
     ]
    },
    {
     "name": "stderr",
     "output_type": "stream",
     "text": [
      "WARNING: You are using pip version 21.2.4; however, version 22.0.3 is available.\n",
      "You should consider upgrading via the 'C:\\Users\\tomohiro\\AppData\\Local\\Microsoft\\WindowsApps\\PythonSoftwareFoundation.Python.3.10_qbz5n2kfra8p0\\python.exe -m pip install --upgrade pip' command.\n"
     ]
    },
    {
     "name": "stdout",
     "output_type": "stream",
     "text": [
      "220 ms ± 24 ms per loop (mean ± std. dev. of 7 runs, 1 loop each)\n"
     ]
    }
   ],
   "source": [
    "!pip install dpss==0.11.0\n",
    "import dpss\n",
    "%timeit dpss.sequence_matcher_m2m([1980, 2980, 3500, 4000, 1050, 2000], [1950, 2900, 30, 80, 3300, 200, 3980, 1050, 20, 2000])"
   ]
  },
  {
   "cell_type": "code",
   "execution_count": 5,
   "metadata": {},
   "outputs": [
    {
     "name": "stderr",
     "output_type": "stream",
     "text": [
      "  ERROR: Command errored out with exit status 1:\n",
      "   command: 'C:\\Users\\tomohiro\\AppData\\Local\\Microsoft\\WindowsApps\\PythonSoftwareFoundation.Python.3.10_qbz5n2kfra8p0\\python.exe' 'C:\\Users\\tomohiro\\AppData\\Local\\Temp\\pip-standalone-pip-xx_p5yvq\\__env_pip__.zip\\pip' install --ignore-installed --no-user --prefix 'C:\\Users\\tomohiro\\AppData\\Local\\Temp\\pip-build-env-6rzzty2s\\overlay' --no-warn-script-location --no-binary :none: --only-binary :none: --no-index --find-links ../target/wheels -- 'maturin>=0.12,<0.13'\n",
      "       cwd: None\n",
      "  Complete output (3 lines):\n",
      "  Looking in links: ../target/wheels\n",
      "  ERROR: Could not find a version that satisfies the requirement maturin<0.13,>=0.12 (from versions: none)\n",
      "  ERROR: No matching distribution found for maturin<0.13,>=0.12\n",
      "  ----------------------------------------\n",
      "WARNING: Discarding file:///C:/Users/tomohiro/Desktop/rust/subset_sum/target/wheels/dpss-0.11.1.tar.gz. Command errored out with exit status 1: 'C:\\Users\\tomohiro\\AppData\\Local\\Microsoft\\WindowsApps\\PythonSoftwareFoundation.Python.3.10_qbz5n2kfra8p0\\python.exe' 'C:\\Users\\tomohiro\\AppData\\Local\\Temp\\pip-standalone-pip-xx_p5yvq\\__env_pip__.zip\\pip' install --ignore-installed --no-user --prefix 'C:\\Users\\tomohiro\\AppData\\Local\\Temp\\pip-build-env-6rzzty2s\\overlay' --no-warn-script-location --no-binary :none: --only-binary :none: --no-index --find-links ../target/wheels -- 'maturin>=0.12,<0.13' Check the logs for full command output.\n"
     ]
    },
    {
     "name": "stdout",
     "output_type": "stream",
     "text": [
      "Looking in links: ../target/wheels\n",
      "Requirement already satisfied: dpss in c:\\users\\tomohiro\\appdata\\local\\packages\\pythonsoftwarefoundation.python.3.10_qbz5n2kfra8p0\\localcache\\local-packages\\python310\\site-packages (0.11.0)\n",
      "Processing c:\\users\\tomohiro\\desktop\\rust\\subset_sum\\target\\wheels\\dpss-0.11.1.tar.gz\n",
      "  Installing build dependencies: started\n",
      "  Installing build dependencies: finished with status 'error'\n",
      "102 ms ± 10 ms per loop (mean ± std. dev. of 7 runs, 10 loops each)\n"
     ]
    }
   ],
   "source": [
    "!pip install -U --no-index --find-links ../target/wheels dpss\n",
    "import dpss\n",
    "%timeit dpss.sequence_matcher_m2m([1980, 2980, 3500, 4000, 1050, 2000], [1950, 2900, 30, 80, 3300, 200, 3980, 1050, 20, 2000])"
   ]
  }
 ],
 "metadata": {
  "interpreter": {
   "hash": "87233e2b4968e527509109d870f09729c2e86bc35e4c43b1869c1a8ef6433d05"
  },
  "kernelspec": {
   "display_name": "Python 3.9.5 ('env': venv)",
   "language": "python",
   "name": "python3"
  },
  "language_info": {
   "codemirror_mode": {
    "name": "ipython",
    "version": 3
   },
   "file_extension": ".py",
   "mimetype": "text/x-python",
   "name": "python",
   "nbconvert_exporter": "python",
   "pygments_lexer": "ipython3",
   "version": "3.9.5"
  },
  "orig_nbformat": 4
 },
 "nbformat": 4,
 "nbformat_minor": 2
}
