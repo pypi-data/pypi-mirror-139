{
 "cells": [
  {
   "cell_type": "markdown",
   "id": "8fa11818",
   "metadata": {},
   "source": [
    "ipypixano permet d'utiliser les élements 2D de pixano dans un jupyter notebook.\n",
    "Pour l'instant les élements suivants sont disponibles :\n",
    "* pxn-rectange\n",
    "* pxn-polygon\n",
    "* pxn-segmentation\n",
    "* pxn-smart-rectange\n",
    "* pxn-smart-segmentation\n",
    "\n",
    "Pour utiliser ipypixano , il suffit de l'installer avec pip\n",
    "```\n",
    "pip install ipypixano\n",
    "```\n",
    "\n",
    "Ce notebook présente les fonctionnalités du package, comment créer des élements, les configurer et comment récuperer les données d'annotations dans le notebook"
   ]
  },
  {
   "cell_type": "code",
   "execution_count": 1,
   "id": "dfa461d9",
   "metadata": {},
   "outputs": [],
   "source": [
    "from  ipypixano import Pixano"
   ]
  },
  {
   "cell_type": "markdown",
   "id": "c146ba10",
   "metadata": {},
   "source": [
    "Pour l'instant le package présente certaines limitations et comportements indésirables :\n",
    "\n",
    "\n",
    "Les raccourcis clavier utilisés dans les elements pixano sont toujours actifs même en dehors de la cellule affichant l'élément. Ainsi les touche 'm','p' et  'h' font respectivement  assombrir, éclaircir et cacher/afficher les annotations dans l'élement. De même ctr-C et ctr-V vont copier les annotations ou le masque de segmentation quand elle sont utilisées (dans ce cas utilisé le copier/coller du menu contextuel affiché par le bouton droit de la souris)\n",
    "\n",
    "\n",
    "Si on affiche 2 fois le même élement les annotations sont perdues lors de l'affichage du 2eme élément.\n"
   ]
  },
  {
   "cell_type": "markdown",
   "id": "43bab58c",
   "metadata": {},
   "source": [
    "### Création d'un élement : \n",
    "\n",
    "* 'element' indique le type d'élement à créer (voir liste ci-dessus)\n",
    "* 'image' indique l'image à afficher, image peut être un nom de fichier, une url, un ndarray numpy ou une Image chargée par PIL"
   ]
  },
  {
   "cell_type": "code",
   "execution_count": 2,
   "id": "f6a1e417",
   "metadata": {},
   "outputs": [
    {
     "data": {
      "application/vnd.jupyter.widget-view+json": {
       "model_id": "f23785539ff94fd0b6143a6728092895",
       "version_major": 2,
       "version_minor": 0
      },
      "text/plain": [
       "Pixano(value=None, element='pxn-rectangle', image='/9j/4AAQSkZJRgABAQAAAQABAAD/2wCEAAoHBwgHBgoICAgLCgoLDhgQDg0…"
      ]
     },
     "metadata": {},
     "output_type": "display_data"
    }
   ],
   "source": [
    "w_rect = Pixano(element='pxn-rectangle',image='image.jpg')\n",
    "w_rect"
   ]
  },
  {
   "cell_type": "code",
   "execution_count": null,
   "id": "ad155d11",
   "metadata": {},
   "outputs": [],
   "source": [
    "w_poly = Pixano(element='pxn-polygon',image='https://raw.githubusercontent.com/pixano/pixano-elements/master/demos/rectangle/image.jpg')\n",
    "w_poly"
   ]
  },
  {
   "cell_type": "code",
   "execution_count": null,
   "id": "3b4f2803",
   "metadata": {},
   "outputs": [],
   "source": [
    "import cv2\n",
    "img=cv2.imread(\"traffic.jpg\")\n",
    "w_seg = Pixano(element='pxn-segmentation',image=img)\n",
    "w_seg"
   ]
  },
  {
   "cell_type": "markdown",
   "id": "6c1e12cf",
   "metadata": {},
   "source": [
    "###  Récuperation des données\n",
    "\n",
    "\n"
   ]
  },
  {
   "cell_type": "markdown",
   "id": "0419afa9",
   "metadata": {},
   "source": [
    "#### Element de type rectangle et polygon\n",
    "\n",
    "Les annotations crées dans les élement de type rectange ou polygon peuvent être récupérées par l'attribut ```shapes``` de l'élement.\n",
    "\n",
    "shapes est une liste avec pour chaque annotation un dictonnaire décrivant l'annotation."
   ]
  },
  {
   "cell_type": "code",
   "execution_count": null,
   "id": "601ba37e",
   "metadata": {},
   "outputs": [],
   "source": [
    "w_rect.shapes"
   ]
  },
  {
   "cell_type": "markdown",
   "id": "4679b9b4",
   "metadata": {},
   "source": [
    "Le données d'annotations peuvent être modifiées en utilsant la méthode ```setShapes(annot)``` où annot est une liste d'annotations avec la même structure que celle renvoyée par shapes"
   ]
  },
  {
   "cell_type": "code",
   "execution_count": null,
   "id": "05d33ad0",
   "metadata": {},
   "outputs": [],
   "source": [
    "new_annot=[{'id': 'toto',\n",
    "  'color': 'blue',\n",
    "  'geometry': {'vertices': [0.2,0.2,0.5,0.5],'type': 'rectangle'}}]\n",
    "\n",
    "w_rect.setShapes(new_annot)"
   ]
  },
  {
   "cell_type": "markdown",
   "id": "054499aa",
   "metadata": {},
   "source": [
    "On peut choisir la catégorie des nouvelles annotations crées en utilisant l'attribut ```current_category```"
   ]
  },
  {
   "cell_type": "code",
   "execution_count": null,
   "id": "480ad3d8",
   "metadata": {},
   "outputs": [],
   "source": [
    "w_rect.current_category='dog'"
   ]
  },
  {
   "cell_type": "markdown",
   "id": "adf58d63",
   "metadata": {},
   "source": [
    "La couleur des catégries peut être choisie en utilisant l'attribut ```categories_colors```"
   ]
  },
  {
   "cell_type": "code",
   "execution_count": null,
   "id": "8fd36ceb",
   "metadata": {},
   "outputs": [],
   "source": [
    "w_rect.categories_colors={'dog':'green','cat':'gray','car':'yellow'}"
   ]
  },
  {
   "cell_type": "markdown",
   "id": "ec35e615",
   "metadata": {},
   "source": [
    "Les annotations peuvent être effacées en appellant ```clearShapes()```"
   ]
  },
  {
   "cell_type": "code",
   "execution_count": null,
   "id": "bed7a69c",
   "metadata": {},
   "outputs": [],
   "source": [
    "w_rect.clearShapes()"
   ]
  },
  {
   "cell_type": "markdown",
   "id": "31c84493",
   "metadata": {},
   "source": [
    "Les annotations selectionnées peuvent être retrouvées dans l'attribut ```selectedShapeIds``` qui renvoie une liste d'id"
   ]
  },
  {
   "cell_type": "code",
   "execution_count": null,
   "id": "a8554336",
   "metadata": {},
   "outputs": [],
   "source": [
    "w_rect.selectedShapeIds"
   ]
  },
  {
   "cell_type": "markdown",
   "id": "cd6d890f",
   "metadata": {},
   "source": [
    "#### Example d'intégration\n",
    "\n",
    "L'example suivant montre comment récuperer les changements sur l'attribut ```selectedShapeIds``` et appeller une fonction d'affichage des éléments selectionnés dans un Label d'ipywidgets\n",
    "\n",
    "Créez des annotations dans l'élement pixano, puis selectionner les pour voir les informations d'afficher en dessous de l'élément."
   ]
  },
  {
   "cell_type": "code",
   "execution_count": null,
   "id": "ae6a4d5e",
   "metadata": {},
   "outputs": [],
   "source": [
    "from ipywidgets import Label,VBox\n",
    "selected=Label(value=\"shape selected\")\n",
    "w_rect = Pixano(element='pxn-rectangle',image='image.jpg')\n",
    "\n",
    "    \n",
    "def on_change_selected(change):\n",
    "    if len(change['new'])>0:\n",
    "        idseleted=change['new'][0]\n",
    "        shapes=w_rect.shapes\n",
    "        for s in shapes:\n",
    "            if s['id']==idseleted:\n",
    "                vertices=s[\"geometry\"][\"vertices\"] \n",
    "                vertices_str=\",\".join(list(map(lambda x:\"{:.2f}\".format(x),vertices)))\n",
    "                selected.value=\"Shape selected : \"+change['new'][0]+ \"\\nvertices :\\n\"+vertices_str      \n",
    "    else:\n",
    "        selected.value=\"Shape selected : None\"\n",
    "    \n",
    "w_rect.observe(on_change_selected, names='selectedShapeIds')\n",
    "\n",
    "VBox([w_rect,selected])"
   ]
  },
  {
   "cell_type": "markdown",
   "id": "f24bd8bd",
   "metadata": {},
   "source": [
    "#### Element de type segmentation"
   ]
  },
  {
   "cell_type": "markdown",
   "id": "2c5850ca",
   "metadata": {},
   "source": [
    "Les annotations de types segmentation sont renvoyées sous forme un masque au format ndarray utilsant la méthode ```getMask()```\n"
   ]
  },
  {
   "cell_type": "code",
   "execution_count": null,
   "id": "d41ed657",
   "metadata": {},
   "outputs": [],
   "source": [
    "import numpy as nP\n",
    "\n",
    "mask=w_seg.getMask()\n",
    "\n",
    "print(mask.shape,np.unique(mask))\n",
    "\n",
    "from PIL import Image as pImage\n",
    "pImage.fromarray(mask)"
   ]
  },
  {
   "cell_type": "markdown",
   "id": "448784c0",
   "metadata": {},
   "source": [
    "Le numero de la catégorie courante lors de la création d'annotations est modifié par l'attribut ```targetClass``` "
   ]
  },
  {
   "cell_type": "code",
   "execution_count": null,
   "id": "ac7a6037",
   "metadata": {},
   "outputs": [],
   "source": [
    "w.targetClass=4"
   ]
  },
  {
   "cell_type": "markdown",
   "id": "b9f1666a",
   "metadata": {},
   "source": [
    "Il est possible de modifié l'attribut ```clsMap``` qui indique la couleur de chaque classe dans le masque que segmentation et si la classe est en mode 'instance' ou 'semantique'.\n",
    "\n",
    "\n",
    "Pour chauqe numéro de classe on associe un dictionnaire de 4 valeurs, les 3 premieres codent la couleur RGB, la derniere indique si on est en mode 'instance' (1) ou 'semantique' (0) "
   ]
  },
  {
   "cell_type": "code",
   "execution_count": null,
   "id": "0c135765",
   "metadata": {},
   "outputs": [],
   "source": [
    "w.clsMap={0:{0,0,0,0},1:{255,0,0,0},2:{255,255,0,0},3:{0,0,255,0},4:{0,255,255,1},}\n"
   ]
  }
 ],
 "metadata": {
  "hide_input": false,
  "kernelspec": {
   "display_name": "ipyemail",
   "language": "python",
   "name": "ipyemail"
  },
  "language_info": {
   "codemirror_mode": {
    "name": "ipython",
    "version": 3
   },
   "file_extension": ".py",
   "mimetype": "text/x-python",
   "name": "python",
   "nbconvert_exporter": "python",
   "pygments_lexer": "ipython3",
   "version": "3.10.2"
  },
  "toc": {
   "base_numbering": 1,
   "nav_menu": {},
   "number_sections": true,
   "sideBar": true,
   "skip_h1_title": false,
   "title_cell": "Table of Contents",
   "title_sidebar": "Contents",
   "toc_cell": false,
   "toc_position": {},
   "toc_section_display": true,
   "toc_window_display": false
  },
  "varInspector": {
   "cols": {
    "lenName": 16,
    "lenType": 16,
    "lenVar": 40
   },
   "kernels_config": {
    "python": {
     "delete_cmd_postfix": "",
     "delete_cmd_prefix": "del ",
     "library": "var_list.py",
     "varRefreshCmd": "print(var_dic_list())"
    },
    "r": {
     "delete_cmd_postfix": ") ",
     "delete_cmd_prefix": "rm(",
     "library": "var_list.r",
     "varRefreshCmd": "cat(var_dic_list()) "
    }
   },
   "types_to_exclude": [
    "module",
    "function",
    "builtin_function_or_method",
    "instance",
    "_Feature"
   ],
   "window_display": false
  }
 },
 "nbformat": 4,
 "nbformat_minor": 5
}
