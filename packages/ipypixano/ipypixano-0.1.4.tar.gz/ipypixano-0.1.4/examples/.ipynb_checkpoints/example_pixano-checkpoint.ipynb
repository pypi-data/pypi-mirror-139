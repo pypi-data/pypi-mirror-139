{
 "cells": [
  {
   "cell_type": "markdown",
   "id": "8fa11818",
   "metadata": {},
   "source": [
    "ipypixano exposes the 2D elements of Pixano Elements in a jupyter notebook. \n",
    "\n",
    "Pixano Elements is a library of web components dedicated to data annotation task. \n",
    "\n",
    "https://github.com/pixano/pixano-elements\n",
    "\n",
    "Currently the following items are available:\n",
    "\n",
    "* pxn-rectangle\n",
    "* pxn-polygon\n",
    "* pxn-segmentation\n",
    "* pxn-smart-rectangle\n",
    "* pxn-smart-segmentation\n",
    "\n",
    "\n",
    "To use ipypixano , just install it with pip\n",
    "\n",
    "\n",
    "\n",
    "\n",
    "```\n",
    "pip install ipypixano\n",
    "```\n",
    "\n",
    "This notebook presents how to create elements, configure them and how to retrieve annotation data in the python side.\n"
   ]
  },
  {
   "cell_type": "code",
   "execution_count": 1,
   "id": "dfa461d9",
   "metadata": {},
   "outputs": [],
   "source": [
    "from  ipypixano import Pixano"
   ]
  },
  {
   "cell_type": "markdown",
   "id": "0a443b09",
   "metadata": {},
   "source": [
    "For now the package has some limitations and undesirable behaviors:\n",
    "\n",
    "Keyboard shortcuts used in pixano elements are always active even outside the cell displaying the element. For example,  the 'm', 'p' and 'h' keys will respectively darken, lighten and hide/show the annotations in the element. \n",
    "\n",
    "Similarly ctr-C and ctr-V will copy the annotations or the segmentation mask when they are used (in this case use the copy/paste from the context menu displayed by the right mouse button).\n",
    "\n",
    "Moreover, if the same element is displayed twice, the annotations are lost when the second element is displayed.\n"
   ]
  },
  {
   "cell_type": "markdown",
   "id": "43bab58c",
   "metadata": {},
   "source": [
    "### Element creation : \n",
    "\n",
    "* 'element' indicates the type of element to create (see list above)\n",
    "* 'image' indicates the image to display, image can be a filename (regardless of its location on your disk), a url, a numpy array or an Image loaded by PIL"
   ]
  },
  {
   "cell_type": "code",
   "execution_count": 2,
   "id": "f6a1e417",
   "metadata": {},
   "outputs": [
    {
     "data": {
      "application/vnd.jupyter.widget-view+json": {
       "model_id": "4ff3cff4d6a4465198bbbe736fc53e49",
       "version_major": 2,
       "version_minor": 0
      },
      "text/plain": [
       "Pixano(value=None, element='pxn-smart-rectangle', image='/9j/4AAQSkZJRgABAQAAAQABAAD/2wCEAAoHBwgHBgoICAgLCgoLD…"
      ]
     },
     "metadata": {},
     "output_type": "display_data"
    }
   ],
   "source": [
    "w_rect = Pixano(element='pxn-rectangle',image='image.jpg')\n",
    "w_rect"
   ]
  },
  {
   "cell_type": "code",
   "execution_count": null,
   "id": "ad155d11",
   "metadata": {},
   "outputs": [],
   "source": [
    "w_poly = Pixano(element='pxn-polygon',image='https://raw.githubusercontent.com/pixano/pixano-elements/master/demos/rectangle/image.jpg')\n",
    "w_poly"
   ]
  },
  {
   "cell_type": "code",
   "execution_count": 4,
   "id": "ef3f6728",
   "metadata": {},
   "outputs": [
    {
     "data": {
      "application/vnd.jupyter.widget-view+json": {
       "model_id": "bc0f1b3c68d54f0b929b2d63c6973590",
       "version_major": 2,
       "version_minor": 0
      },
      "text/plain": [
       "Pixano(value=None, element='pxn-smart-segmentation', image='iVBORw0KGgoAAAANSUhEUgAABkAAAAH0CAIAAADqknYdAAAgAE…"
      ]
     },
     "metadata": {},
     "output_type": "display_data"
    }
   ],
   "source": [
    "import cv2\n",
    "img=cv2.imread(\"traffic.jpg\")\n",
    "w_seg = Pixano(element='pxn-segmentation',image=img)\n",
    "w_seg"
   ]
  },
  {
   "cell_type": "markdown",
   "id": "bd78baa2",
   "metadata": {},
   "source": [
    "###  Annotations retrieval\n",
    "\n",
    "\n"
   ]
  },
  {
   "cell_type": "markdown",
   "id": "e9567d46",
   "metadata": {},
   "source": [
    "#### Rectangle et Polygon elements\n",
    "\n",
    "Annotations created in *-rectangle or *-polygon elements can be retrieved by the ```shapes``` attribute.\n",
    "\n",
    "```shapes``` is a list of dictionaries describing each rectangle or polygon."
   ]
  },
  {
   "cell_type": "code",
   "execution_count": null,
   "id": "fa171e81",
   "metadata": {},
   "outputs": [],
   "source": [
    "w_rect.shapes"
   ]
  },
  {
   "cell_type": "markdown",
   "id": "929fefc0",
   "metadata": {},
   "source": [
    "Annotation data can be modified from python using the ```setShapes(annot)``` method where annot is a list of annotations with the same structure as that returned by shapes"
   ]
  },
  {
   "cell_type": "code",
   "execution_count": null,
   "id": "aa24404a",
   "metadata": {},
   "outputs": [],
   "source": [
    "new_annot=[{'id': 'toto',\n",
    "  'color': 'blue',\n",
    "  'geometry': {'vertices': [0.2,0.2,0.5,0.5],'type': 'rectangle'}}]\n",
    "\n",
    "w_rect.setShapes(new_annot)"
   ]
  },
  {
   "cell_type": "markdown",
   "id": "03d08540",
   "metadata": {},
   "source": [
    "You can choose the category of new annotations created using the attribute ```current_category``` "
   ]
  },
  {
   "cell_type": "code",
   "execution_count": null,
   "id": "8828eeac",
   "metadata": {},
   "outputs": [],
   "source": [
    "w_rect.current_category='dog'"
   ]
  },
  {
   "cell_type": "markdown",
   "id": "c1582b2f",
   "metadata": {},
   "source": [
    "The color of categories can be changed using the attribute ```categories_colors```"
   ]
  },
  {
   "cell_type": "code",
   "execution_count": null,
   "id": "32e0b8ac",
   "metadata": {},
   "outputs": [],
   "source": [
    "w_rect.categories_colors={'dog':'green','cat':'gray','car':'yellow'}"
   ]
  },
  {
   "cell_type": "markdown",
   "id": "72a9845f",
   "metadata": {},
   "source": [
    "Use ```clearShapes()``` to delete annotations"
   ]
  },
  {
   "cell_type": "code",
   "execution_count": null,
   "id": "ac128ed1",
   "metadata": {},
   "outputs": [],
   "source": [
    "w_rect.clearShapes()"
   ]
  },
  {
   "cell_type": "markdown",
   "id": "7e3a62ef",
   "metadata": {},
   "source": [
    "Selected annotations can be found in the ```selectedShapeIds``` attribute which returns a list of ids"
   ]
  },
  {
   "cell_type": "code",
   "execution_count": null,
   "id": "d2e2d76b",
   "metadata": {},
   "outputs": [],
   "source": [
    "w_rect.selectedShapeIds"
   ]
  },
  {
   "cell_type": "markdown",
   "id": "d5681de6",
   "metadata": {},
   "source": [
    "#### Integration example\n",
    "\n",
    "The following example shows how to observe changes on ```selectedShapeIds```  and call a function displaying informations of selected items in an ipywidgets Label\n",
    "\n",
    "First create somes annotations in the pixano element, then select them to see changes displayed below the element."
   ]
  },
  {
   "cell_type": "code",
   "execution_count": null,
   "id": "432466a9",
   "metadata": {},
   "outputs": [],
   "source": [
    "from ipywidgets import Label,VBox\n",
    "selected=Label(value=\"shape selected\")\n",
    "w_rect = Pixano(element='pxn-rectangle',image='image.jpg')\n",
    "\n",
    "    \n",
    "def on_change_selected(change):\n",
    "    if len(change['new'])>0:\n",
    "        idseleted=change['new'][0]\n",
    "        shapes=w_rect.shapes\n",
    "        for s in shapes:\n",
    "            if s['id']==idseleted:\n",
    "                vertices=s[\"geometry\"][\"vertices\"] \n",
    "                vertices_str=\",\".join(list(map(lambda x:\"{:.2f}\".format(x),vertices)))\n",
    "                selected.value=\"Shape selected : \"+change['new'][0]+ \"\\nvertices :\\n\"+vertices_str      \n",
    "    else:\n",
    "        selected.value=\"Shape selected : None\"\n",
    "    \n",
    "w_rect.observe(on_change_selected, names='selectedShapeIds')\n",
    "\n",
    "VBox([w_rect,selected])"
   ]
  },
  {
   "cell_type": "markdown",
   "id": "099a1884",
   "metadata": {},
   "source": [
    "### Segmentation Element\n"
   ]
  },
  {
   "cell_type": "markdown",
   "id": "a0bc9008",
   "metadata": {},
   "source": [
    "Segmentation annotations are returned as a mask in ndarray format using the ```getMask()``` method."
   ]
  },
  {
   "cell_type": "code",
   "execution_count": null,
   "id": "0550afeb",
   "metadata": {},
   "outputs": [],
   "source": [
    "import numpy as nP\n",
    "\n",
    "mask=w_seg.getMask()\n",
    "\n",
    "print(mask.shape,np.unique(mask))\n",
    "\n",
    "from PIL import Image as pImage\n",
    "pImage.fromarray(mask)"
   ]
  },
  {
   "cell_type": "markdown",
   "id": "75d2848a",
   "metadata": {},
   "source": [
    "The current category number when creating annotations is set by the ```targetClass``` attribute."
   ]
  },
  {
   "cell_type": "code",
   "execution_count": null,
   "id": "6b50bcd3",
   "metadata": {},
   "outputs": [],
   "source": [
    "w.targetClass=4"
   ]
  },
  {
   "cell_type": "markdown",
   "id": "32240481",
   "metadata": {},
   "source": [
    "It is possible to modify the clsMap attribute which indicates the color of each class in the segmentation mask and if the class is in 'instance' or 'semantic' mode.\n",
    "\n",
    "For each class number we associate a dictionary of 4 values, the first 3 encode the RGB color, the last indicates if we are in 'instance' (1) or 'semantic' (0) mode"
   ]
  },
  {
   "cell_type": "code",
   "execution_count": null,
   "id": "a962a604",
   "metadata": {},
   "outputs": [],
   "source": [
    "w.clsMap={0:{0,0,0,0},1:{255,0,0,0},2:{255,255,0,0},3:{0,0,255,0},4:{0,255,255,1},}\n"
   ]
  }
 ],
 "metadata": {
  "hide_input": false,
  "kernelspec": {
   "display_name": "ipyemail",
   "language": "python",
   "name": "ipyemail"
  },
  "language_info": {
   "codemirror_mode": {
    "name": "ipython",
    "version": 3
   },
   "file_extension": ".py",
   "mimetype": "text/x-python",
   "name": "python",
   "nbconvert_exporter": "python",
   "pygments_lexer": "ipython3",
   "version": "3.10.2"
  },
  "toc": {
   "base_numbering": 1,
   "nav_menu": {},
   "number_sections": true,
   "sideBar": true,
   "skip_h1_title": false,
   "title_cell": "Table of Contents",
   "title_sidebar": "Contents",
   "toc_cell": false,
   "toc_position": {},
   "toc_section_display": true,
   "toc_window_display": false
  },
  "varInspector": {
   "cols": {
    "lenName": 16,
    "lenType": 16,
    "lenVar": 40
   },
   "kernels_config": {
    "python": {
     "delete_cmd_postfix": "",
     "delete_cmd_prefix": "del ",
     "library": "var_list.py",
     "varRefreshCmd": "print(var_dic_list())"
    },
    "r": {
     "delete_cmd_postfix": ") ",
     "delete_cmd_prefix": "rm(",
     "library": "var_list.r",
     "varRefreshCmd": "cat(var_dic_list()) "
    }
   },
   "types_to_exclude": [
    "module",
    "function",
    "builtin_function_or_method",
    "instance",
    "_Feature"
   ],
   "window_display": false
  }
 },
 "nbformat": 4,
 "nbformat_minor": 5
}
