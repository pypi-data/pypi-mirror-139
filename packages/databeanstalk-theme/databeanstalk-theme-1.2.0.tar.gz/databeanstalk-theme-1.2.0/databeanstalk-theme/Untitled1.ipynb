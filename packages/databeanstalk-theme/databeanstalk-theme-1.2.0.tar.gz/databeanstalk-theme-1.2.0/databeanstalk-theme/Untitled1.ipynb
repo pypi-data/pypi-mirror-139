{
 "cells": [
  {
   "cell_type": "code",
   "execution_count": null,
   "id": "062e460a-67dc-41a5-bddf-bc1563df6f38",
   "metadata": {
    "slideshow": {
     "slide_type": "subslide"
    },
    "tags": []
   },
   "outputs": [],
   "source": []
  }
 ],
 "metadata": {
  "kernelspec": {
   "display_name": "Python 3 (ipykernel)",
   "language": "python",
   "name": "python3"
  },
  "language_info": {
   "codemirror_mode": {
    "name": "ipython",
    "version": 3
   },
   "file_extension": ".py",
   "mimetype": "text/x-python",
   "name": "python",
   "nbconvert_exporter": "python",
   "pygments_lexer": "ipython3",
   "version": "3.8.9"
  }
 },
 "nbformat": 4,
 "nbformat_minor": 5
}
